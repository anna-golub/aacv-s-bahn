{
  "nbformat": 4,
  "nbformat_minor": 0,
  "metadata": {
    "colab": {
      "provenance": [],
      "collapsed_sections": [
        "k6ldCSjBMXnX",
        "I0Gf3HFER8KT",
        "CPhPZz8PYHI_"
      ],
      "toc_visible": true,
      "gpuType": "T4"
    },
    "kernelspec": {
      "name": "python3",
      "display_name": "Python 3"
    },
    "language_info": {
      "name": "python"
    },
    "accelerator": "GPU"
  },
  "cells": [
    {
      "cell_type": "markdown",
      "source": [
        "# Setup"
      ],
      "metadata": {
        "id": "-qWdoQ8cKrha"
      }
    },
    {
      "cell_type": "code",
      "source": [
        "from google.colab import drive\n",
        "drive.mount('/content/drive')"
      ],
      "metadata": {
        "colab": {
          "base_uri": "https://localhost:8080/"
        },
        "id": "RkswbXIkLvQR",
        "outputId": "77bf2ce8-bee7-4e48-d53c-eb722e397720"
      },
      "execution_count": null,
      "outputs": [
        {
          "output_type": "stream",
          "name": "stdout",
          "text": [
            "Mounted at /content/drive\n"
          ]
        }
      ]
    },
    {
      "cell_type": "code",
      "source": [
        "from transformers import AutoProcessor, CLIPModel"
      ],
      "metadata": {
        "id": "eD-ZHqBGDnTN"
      },
      "execution_count": null,
      "outputs": []
    },
    {
      "cell_type": "code",
      "source": [
        "from torch.utils.data import Dataset, DataLoader\n",
        "from torch.nn.functional import cosine_similarity\n",
        "from torch.nn import CrossEntropyLoss\n",
        "from torch.optim import AdamW\n",
        "import torch\n",
        "from transformers import get_linear_schedule_with_warmup"
      ],
      "metadata": {
        "id": "JxG4UBz_CbOz"
      },
      "execution_count": null,
      "outputs": []
    },
    {
      "cell_type": "code",
      "source": [
        "from sklearn.metrics import accuracy_score, f1_score\n",
        "from sklearn.model_selection import train_test_split, KFold"
      ],
      "metadata": {
        "id": "0Y0YKdT2pP7T"
      },
      "execution_count": null,
      "outputs": []
    },
    {
      "cell_type": "code",
      "source": [
        "device = 'cuda' if torch.cuda.is_available() else 'cpu'"
      ],
      "metadata": {
        "id": "fLoqXukUeFiH"
      },
      "execution_count": null,
      "outputs": []
    },
    {
      "cell_type": "code",
      "source": [
        "!pip install pillow-heif"
      ],
      "metadata": {
        "colab": {
          "base_uri": "https://localhost:8080/"
        },
        "id": "ySXX8IPQO5hI",
        "outputId": "293c974a-a7d4-4e57-af55-d0566308453e"
      },
      "execution_count": null,
      "outputs": [
        {
          "output_type": "stream",
          "name": "stdout",
          "text": [
            "Collecting pillow-heif\n",
            "  Downloading pillow_heif-1.0.0-cp311-cp311-manylinux_2_17_x86_64.manylinux2014_x86_64.whl.metadata (9.6 kB)\n",
            "Requirement already satisfied: pillow>=11.1.0 in /usr/local/lib/python3.11/dist-packages (from pillow-heif) (11.2.1)\n",
            "Downloading pillow_heif-1.0.0-cp311-cp311-manylinux_2_17_x86_64.manylinux2014_x86_64.whl (4.9 MB)\n",
            "\u001b[?25l   \u001b[90m━━━━━━━━━━━━━━━━━━━━━━━━━━━━━━━━━━━━━━━━\u001b[0m \u001b[32m0.0/4.9 MB\u001b[0m \u001b[31m?\u001b[0m eta \u001b[36m-:--:--\u001b[0m\r\u001b[2K   \u001b[91m━━━━━━━━━━━━━━━━━━━━━━━━━━━━━━━━━━━━━━━\u001b[0m\u001b[91m╸\u001b[0m \u001b[32m4.9/4.9 MB\u001b[0m \u001b[31m128.2 MB/s\u001b[0m eta \u001b[36m0:00:01\u001b[0m\r\u001b[2K   \u001b[90m━━━━━━━━━━━━━━━━━━━━━━━━━━━━━━━━━━━━━━━━\u001b[0m \u001b[32m4.9/4.9 MB\u001b[0m \u001b[31m80.5 MB/s\u001b[0m eta \u001b[36m0:00:00\u001b[0m\n",
            "\u001b[?25hInstalling collected packages: pillow-heif\n",
            "Successfully installed pillow-heif-1.0.0\n"
          ]
        }
      ]
    },
    {
      "cell_type": "code",
      "execution_count": null,
      "metadata": {
        "id": "DtgonZYN2sVq"
      },
      "outputs": [],
      "source": [
        "from PIL import Image, ImageOps, UnidentifiedImageError\n",
        "from pillow_heif import register_heif_opener\n",
        "register_heif_opener()\n",
        "\n",
        "from PIL import ImageFile\n",
        "ImageFile.LOAD_TRUNCATED_IMAGES = True"
      ]
    },
    {
      "cell_type": "code",
      "source": [
        "import numpy as np\n",
        "from tqdm import tqdm\n",
        "import os\n",
        "import pandas as pd\n",
        "import random\n",
        "from typing import List, Optional, Tuple, Dict, Any, Union, Callable"
      ],
      "metadata": {
        "id": "BmNUV74XpHdm"
      },
      "execution_count": null,
      "outputs": []
    },
    {
      "cell_type": "code",
      "source": [
        "import warnings\n",
        "from pandas.errors import SettingWithCopyWarning\n",
        "warnings.simplefilter(action=\"ignore\", category=SettingWithCopyWarning)"
      ],
      "metadata": {
        "id": "sG38sb_HAjhV"
      },
      "execution_count": null,
      "outputs": []
    },
    {
      "cell_type": "code",
      "source": [
        "import matplotlib.pyplot as plt\n",
        "import matplotlib\n",
        "import seaborn as sns\n",
        "sns.set_theme()"
      ],
      "metadata": {
        "id": "g1T2C27AKian"
      },
      "execution_count": null,
      "outputs": []
    },
    {
      "cell_type": "markdown",
      "metadata": {
        "id": "xghORKo-PnW9"
      },
      "source": [
        "Set random seed values for reproducibility"
      ]
    },
    {
      "cell_type": "code",
      "execution_count": null,
      "metadata": {
        "id": "iWDLeBDrPmps"
      },
      "outputs": [],
      "source": [
        "seed_val = 6   # 42, 17, 6\n",
        "\n",
        "random.seed(seed_val)\n",
        "np.random.seed(seed_val)\n",
        "torch.manual_seed(seed_val)\n",
        "torch.cuda.manual_seed_all(seed_val)"
      ]
    },
    {
      "cell_type": "code",
      "source": [
        "mount = ''\n",
        "model_dir = f'{mount}/code/CLIP/models'\n",
        "pred_dir = f'{mount}/code/CLIP/predictions'"
      ],
      "metadata": {
        "id": "G08YinxLR-u8"
      },
      "execution_count": null,
      "outputs": []
    },
    {
      "cell_type": "markdown",
      "source": [
        "# Data"
      ],
      "metadata": {
        "id": "WqyWq4SWLDZ_"
      }
    },
    {
      "cell_type": "markdown",
      "source": [
        "## Read data and split randomly"
      ],
      "metadata": {
        "id": "6c4UN6dqNaKK"
      }
    },
    {
      "cell_type": "code",
      "source": [
        "station_names = ['Hauptbahnhof', 'Stadtmitte', 'Feuersee', 'Schwabstrasse', 'University']"
      ],
      "metadata": {
        "id": "_ucMRRSXetDF"
      },
      "execution_count": null,
      "outputs": []
    },
    {
      "cell_type": "code",
      "source": [
        "data_dir = f'{mount}/data'"
      ],
      "metadata": {
        "id": "nBh4BPJKLHSM"
      },
      "execution_count": null,
      "outputs": []
    },
    {
      "cell_type": "code",
      "source": [
        "os.listdir(data_dir)"
      ],
      "metadata": {
        "colab": {
          "base_uri": "https://localhost:8080/"
        },
        "id": "OMnJ3UKfLunw",
        "outputId": "f3b66be2-1a3b-47e7-d739-3c60d16ed4d7"
      },
      "execution_count": null,
      "outputs": [
        {
          "output_type": "execute_result",
          "data": {
            "text/plain": [
              "['Anna', 'Beate', 'Berkay']"
            ]
          },
          "metadata": {},
          "execution_count": 8
        }
      ]
    },
    {
      "cell_type": "code",
      "source": [
        "df = []\n",
        "file_types = ['raw']  # raw, processed\n",
        "st_name_vis_options = ['st_name', 'no_st_name']  # station name visibility\n",
        "\n",
        "for author in os.listdir(data_dir):\n",
        "  for file_type in file_types:\n",
        "    for station in station_names:\n",
        "      for st_name_vis in st_name_vis_options:\n",
        "        for f in os.listdir(f'{data_dir}/{author}/{file_type}/{station}/{st_name_vis}'):\n",
        "          df.append((station, author, file_type, st_name_vis, f,\n",
        "                     f'{author}/{file_type}/{station}/{st_name_vis}/{f}'))\n",
        "\n",
        "df = pd.DataFrame(df, columns=['station', 'author', 'file_type',\n",
        "                               'st_name_visible', 'filename', 'file_path'])\n",
        "\n",
        "# ensures correct order of appearance in plots\n",
        "df['station'] = pd.Categorical(df['station'], ordered=True,\n",
        "                categories=['Hauptbahnhof', 'Stadtmitte', 'Feuersee', 'Schwabstrasse', 'University'])\n",
        "\n",
        "df['st_name_visible'] = df['st_name_visible'].replace({'st_name': True, 'no_st_name': False})\n",
        "df['st_name_visible'] = pd.Categorical(df['st_name_visible'], ordered=True, categories=[True, False])\n",
        "\n",
        "df.head()"
      ],
      "metadata": {
        "colab": {
          "base_uri": "https://localhost:8080/"
        },
        "id": "arh2tPBSMLBM",
        "outputId": "674c7068-06a8-4998-a093-5a84e58fc21c"
      },
      "execution_count": null,
      "outputs": [
        {
          "output_type": "stream",
          "name": "stderr",
          "text": [
            "/tmp/ipython-input-52-3881505212.py:20: FutureWarning: Downcasting behavior in `replace` is deprecated and will be removed in a future version. To retain the old behavior, explicitly call `result.infer_objects(copy=False)`. To opt-in to the future behavior, set `pd.set_option('future.no_silent_downcasting', True)`\n",
            "  df['st_name_visible'] = df['st_name_visible'].replace({'st_name': True, 'no_st_name': False})\n"
          ]
        },
        {
          "output_type": "execute_result",
          "data": {
            "text/plain": [
              "      station author file_type st_name_visible             filename  \\\n",
              "0  Stadtmitte   Anna       raw            True  20250513_132112.jpg   \n",
              "1  Stadtmitte   Anna       raw            True  20250512_132302.jpg   \n",
              "2  Stadtmitte   Anna       raw            True  20250512_132259.jpg   \n",
              "3  Stadtmitte   Anna       raw            True  20250512_132258.jpg   \n",
              "4  Stadtmitte   Anna       raw            True  20250512_132243.jpg   \n",
              "\n",
              "                                         file_path  \n",
              "0  Anna/raw/Stadtmitte/st_name/20250513_132112.jpg  \n",
              "1  Anna/raw/Stadtmitte/st_name/20250512_132302.jpg  \n",
              "2  Anna/raw/Stadtmitte/st_name/20250512_132259.jpg  \n",
              "3  Anna/raw/Stadtmitte/st_name/20250512_132258.jpg  \n",
              "4  Anna/raw/Stadtmitte/st_name/20250512_132243.jpg  "
            ],
            "text/html": [
              "\n",
              "  <div id=\"df-6b36609e-792a-4143-8803-9e46c6da6e44\" class=\"colab-df-container\">\n",
              "    <div>\n",
              "<style scoped>\n",
              "    .dataframe tbody tr th:only-of-type {\n",
              "        vertical-align: middle;\n",
              "    }\n",
              "\n",
              "    .dataframe tbody tr th {\n",
              "        vertical-align: top;\n",
              "    }\n",
              "\n",
              "    .dataframe thead th {\n",
              "        text-align: right;\n",
              "    }\n",
              "</style>\n",
              "<table border=\"1\" class=\"dataframe\">\n",
              "  <thead>\n",
              "    <tr style=\"text-align: right;\">\n",
              "      <th></th>\n",
              "      <th>station</th>\n",
              "      <th>author</th>\n",
              "      <th>file_type</th>\n",
              "      <th>st_name_visible</th>\n",
              "      <th>filename</th>\n",
              "      <th>file_path</th>\n",
              "    </tr>\n",
              "  </thead>\n",
              "  <tbody>\n",
              "    <tr>\n",
              "      <th>0</th>\n",
              "      <td>Stadtmitte</td>\n",
              "      <td>Anna</td>\n",
              "      <td>raw</td>\n",
              "      <td>True</td>\n",
              "      <td>20250513_132112.jpg</td>\n",
              "      <td>Anna/raw/Stadtmitte/st_name/20250513_132112.jpg</td>\n",
              "    </tr>\n",
              "    <tr>\n",
              "      <th>1</th>\n",
              "      <td>Stadtmitte</td>\n",
              "      <td>Anna</td>\n",
              "      <td>raw</td>\n",
              "      <td>True</td>\n",
              "      <td>20250512_132302.jpg</td>\n",
              "      <td>Anna/raw/Stadtmitte/st_name/20250512_132302.jpg</td>\n",
              "    </tr>\n",
              "    <tr>\n",
              "      <th>2</th>\n",
              "      <td>Stadtmitte</td>\n",
              "      <td>Anna</td>\n",
              "      <td>raw</td>\n",
              "      <td>True</td>\n",
              "      <td>20250512_132259.jpg</td>\n",
              "      <td>Anna/raw/Stadtmitte/st_name/20250512_132259.jpg</td>\n",
              "    </tr>\n",
              "    <tr>\n",
              "      <th>3</th>\n",
              "      <td>Stadtmitte</td>\n",
              "      <td>Anna</td>\n",
              "      <td>raw</td>\n",
              "      <td>True</td>\n",
              "      <td>20250512_132258.jpg</td>\n",
              "      <td>Anna/raw/Stadtmitte/st_name/20250512_132258.jpg</td>\n",
              "    </tr>\n",
              "    <tr>\n",
              "      <th>4</th>\n",
              "      <td>Stadtmitte</td>\n",
              "      <td>Anna</td>\n",
              "      <td>raw</td>\n",
              "      <td>True</td>\n",
              "      <td>20250512_132243.jpg</td>\n",
              "      <td>Anna/raw/Stadtmitte/st_name/20250512_132243.jpg</td>\n",
              "    </tr>\n",
              "  </tbody>\n",
              "</table>\n",
              "</div>\n",
              "    <div class=\"colab-df-buttons\">\n",
              "\n",
              "  <div class=\"colab-df-container\">\n",
              "    <button class=\"colab-df-convert\" onclick=\"convertToInteractive('df-6b36609e-792a-4143-8803-9e46c6da6e44')\"\n",
              "            title=\"Convert this dataframe to an interactive table.\"\n",
              "            style=\"display:none;\">\n",
              "\n",
              "  <svg xmlns=\"http://www.w3.org/2000/svg\" height=\"24px\" viewBox=\"0 -960 960 960\">\n",
              "    <path d=\"M120-120v-720h720v720H120Zm60-500h600v-160H180v160Zm220 220h160v-160H400v160Zm0 220h160v-160H400v160ZM180-400h160v-160H180v160Zm440 0h160v-160H620v160ZM180-180h160v-160H180v160Zm440 0h160v-160H620v160Z\"/>\n",
              "  </svg>\n",
              "    </button>\n",
              "\n",
              "  <style>\n",
              "    .colab-df-container {\n",
              "      display:flex;\n",
              "      gap: 12px;\n",
              "    }\n",
              "\n",
              "    .colab-df-convert {\n",
              "      background-color: #E8F0FE;\n",
              "      border: none;\n",
              "      border-radius: 50%;\n",
              "      cursor: pointer;\n",
              "      display: none;\n",
              "      fill: #1967D2;\n",
              "      height: 32px;\n",
              "      padding: 0 0 0 0;\n",
              "      width: 32px;\n",
              "    }\n",
              "\n",
              "    .colab-df-convert:hover {\n",
              "      background-color: #E2EBFA;\n",
              "      box-shadow: 0px 1px 2px rgba(60, 64, 67, 0.3), 0px 1px 3px 1px rgba(60, 64, 67, 0.15);\n",
              "      fill: #174EA6;\n",
              "    }\n",
              "\n",
              "    .colab-df-buttons div {\n",
              "      margin-bottom: 4px;\n",
              "    }\n",
              "\n",
              "    [theme=dark] .colab-df-convert {\n",
              "      background-color: #3B4455;\n",
              "      fill: #D2E3FC;\n",
              "    }\n",
              "\n",
              "    [theme=dark] .colab-df-convert:hover {\n",
              "      background-color: #434B5C;\n",
              "      box-shadow: 0px 1px 3px 1px rgba(0, 0, 0, 0.15);\n",
              "      filter: drop-shadow(0px 1px 2px rgba(0, 0, 0, 0.3));\n",
              "      fill: #FFFFFF;\n",
              "    }\n",
              "  </style>\n",
              "\n",
              "    <script>\n",
              "      const buttonEl =\n",
              "        document.querySelector('#df-6b36609e-792a-4143-8803-9e46c6da6e44 button.colab-df-convert');\n",
              "      buttonEl.style.display =\n",
              "        google.colab.kernel.accessAllowed ? 'block' : 'none';\n",
              "\n",
              "      async function convertToInteractive(key) {\n",
              "        const element = document.querySelector('#df-6b36609e-792a-4143-8803-9e46c6da6e44');\n",
              "        const dataTable =\n",
              "          await google.colab.kernel.invokeFunction('convertToInteractive',\n",
              "                                                    [key], {});\n",
              "        if (!dataTable) return;\n",
              "\n",
              "        const docLinkHtml = 'Like what you see? Visit the ' +\n",
              "          '<a target=\"_blank\" href=https://colab.research.google.com/notebooks/data_table.ipynb>data table notebook</a>'\n",
              "          + ' to learn more about interactive tables.';\n",
              "        element.innerHTML = '';\n",
              "        dataTable['output_type'] = 'display_data';\n",
              "        await google.colab.output.renderOutput(dataTable, element);\n",
              "        const docLink = document.createElement('div');\n",
              "        docLink.innerHTML = docLinkHtml;\n",
              "        element.appendChild(docLink);\n",
              "      }\n",
              "    </script>\n",
              "  </div>\n",
              "\n",
              "\n",
              "    <div id=\"df-bb4c0b4d-e938-42a3-b98e-01e70af07e71\">\n",
              "      <button class=\"colab-df-quickchart\" onclick=\"quickchart('df-bb4c0b4d-e938-42a3-b98e-01e70af07e71')\"\n",
              "                title=\"Suggest charts\"\n",
              "                style=\"display:none;\">\n",
              "\n",
              "<svg xmlns=\"http://www.w3.org/2000/svg\" height=\"24px\"viewBox=\"0 0 24 24\"\n",
              "     width=\"24px\">\n",
              "    <g>\n",
              "        <path d=\"M19 3H5c-1.1 0-2 .9-2 2v14c0 1.1.9 2 2 2h14c1.1 0 2-.9 2-2V5c0-1.1-.9-2-2-2zM9 17H7v-7h2v7zm4 0h-2V7h2v10zm4 0h-2v-4h2v4z\"/>\n",
              "    </g>\n",
              "</svg>\n",
              "      </button>\n",
              "\n",
              "<style>\n",
              "  .colab-df-quickchart {\n",
              "      --bg-color: #E8F0FE;\n",
              "      --fill-color: #1967D2;\n",
              "      --hover-bg-color: #E2EBFA;\n",
              "      --hover-fill-color: #174EA6;\n",
              "      --disabled-fill-color: #AAA;\n",
              "      --disabled-bg-color: #DDD;\n",
              "  }\n",
              "\n",
              "  [theme=dark] .colab-df-quickchart {\n",
              "      --bg-color: #3B4455;\n",
              "      --fill-color: #D2E3FC;\n",
              "      --hover-bg-color: #434B5C;\n",
              "      --hover-fill-color: #FFFFFF;\n",
              "      --disabled-bg-color: #3B4455;\n",
              "      --disabled-fill-color: #666;\n",
              "  }\n",
              "\n",
              "  .colab-df-quickchart {\n",
              "    background-color: var(--bg-color);\n",
              "    border: none;\n",
              "    border-radius: 50%;\n",
              "    cursor: pointer;\n",
              "    display: none;\n",
              "    fill: var(--fill-color);\n",
              "    height: 32px;\n",
              "    padding: 0;\n",
              "    width: 32px;\n",
              "  }\n",
              "\n",
              "  .colab-df-quickchart:hover {\n",
              "    background-color: var(--hover-bg-color);\n",
              "    box-shadow: 0 1px 2px rgba(60, 64, 67, 0.3), 0 1px 3px 1px rgba(60, 64, 67, 0.15);\n",
              "    fill: var(--button-hover-fill-color);\n",
              "  }\n",
              "\n",
              "  .colab-df-quickchart-complete:disabled,\n",
              "  .colab-df-quickchart-complete:disabled:hover {\n",
              "    background-color: var(--disabled-bg-color);\n",
              "    fill: var(--disabled-fill-color);\n",
              "    box-shadow: none;\n",
              "  }\n",
              "\n",
              "  .colab-df-spinner {\n",
              "    border: 2px solid var(--fill-color);\n",
              "    border-color: transparent;\n",
              "    border-bottom-color: var(--fill-color);\n",
              "    animation:\n",
              "      spin 1s steps(1) infinite;\n",
              "  }\n",
              "\n",
              "  @keyframes spin {\n",
              "    0% {\n",
              "      border-color: transparent;\n",
              "      border-bottom-color: var(--fill-color);\n",
              "      border-left-color: var(--fill-color);\n",
              "    }\n",
              "    20% {\n",
              "      border-color: transparent;\n",
              "      border-left-color: var(--fill-color);\n",
              "      border-top-color: var(--fill-color);\n",
              "    }\n",
              "    30% {\n",
              "      border-color: transparent;\n",
              "      border-left-color: var(--fill-color);\n",
              "      border-top-color: var(--fill-color);\n",
              "      border-right-color: var(--fill-color);\n",
              "    }\n",
              "    40% {\n",
              "      border-color: transparent;\n",
              "      border-right-color: var(--fill-color);\n",
              "      border-top-color: var(--fill-color);\n",
              "    }\n",
              "    60% {\n",
              "      border-color: transparent;\n",
              "      border-right-color: var(--fill-color);\n",
              "    }\n",
              "    80% {\n",
              "      border-color: transparent;\n",
              "      border-right-color: var(--fill-color);\n",
              "      border-bottom-color: var(--fill-color);\n",
              "    }\n",
              "    90% {\n",
              "      border-color: transparent;\n",
              "      border-bottom-color: var(--fill-color);\n",
              "    }\n",
              "  }\n",
              "</style>\n",
              "\n",
              "      <script>\n",
              "        async function quickchart(key) {\n",
              "          const quickchartButtonEl =\n",
              "            document.querySelector('#' + key + ' button');\n",
              "          quickchartButtonEl.disabled = true;  // To prevent multiple clicks.\n",
              "          quickchartButtonEl.classList.add('colab-df-spinner');\n",
              "          try {\n",
              "            const charts = await google.colab.kernel.invokeFunction(\n",
              "                'suggestCharts', [key], {});\n",
              "          } catch (error) {\n",
              "            console.error('Error during call to suggestCharts:', error);\n",
              "          }\n",
              "          quickchartButtonEl.classList.remove('colab-df-spinner');\n",
              "          quickchartButtonEl.classList.add('colab-df-quickchart-complete');\n",
              "        }\n",
              "        (() => {\n",
              "          let quickchartButtonEl =\n",
              "            document.querySelector('#df-bb4c0b4d-e938-42a3-b98e-01e70af07e71 button');\n",
              "          quickchartButtonEl.style.display =\n",
              "            google.colab.kernel.accessAllowed ? 'block' : 'none';\n",
              "        })();\n",
              "      </script>\n",
              "    </div>\n",
              "\n",
              "    </div>\n",
              "  </div>\n"
            ],
            "application/vnd.google.colaboratory.intrinsic+json": {
              "type": "dataframe",
              "variable_name": "df",
              "summary": "{\n  \"name\": \"df\",\n  \"rows\": 207,\n  \"fields\": [\n    {\n      \"column\": \"station\",\n      \"properties\": {\n        \"dtype\": \"category\",\n        \"num_unique_values\": 5,\n        \"samples\": [\n          \"Feuersee\",\n          \"Hauptbahnhof\",\n          \"Schwabstrasse\"\n        ],\n        \"semantic_type\": \"\",\n        \"description\": \"\"\n      }\n    },\n    {\n      \"column\": \"author\",\n      \"properties\": {\n        \"dtype\": \"category\",\n        \"num_unique_values\": 3,\n        \"samples\": [\n          \"Anna\",\n          \"Beate\",\n          \"Berkay\"\n        ],\n        \"semantic_type\": \"\",\n        \"description\": \"\"\n      }\n    },\n    {\n      \"column\": \"file_type\",\n      \"properties\": {\n        \"dtype\": \"category\",\n        \"num_unique_values\": 1,\n        \"samples\": [\n          \"raw\"\n        ],\n        \"semantic_type\": \"\",\n        \"description\": \"\"\n      }\n    },\n    {\n      \"column\": \"st_name_visible\",\n      \"properties\": {\n        \"dtype\": \"category\",\n        \"num_unique_values\": 2,\n        \"samples\": [\n          false\n        ],\n        \"semantic_type\": \"\",\n        \"description\": \"\"\n      }\n    },\n    {\n      \"column\": \"filename\",\n      \"properties\": {\n        \"dtype\": \"string\",\n        \"num_unique_values\": 207,\n        \"samples\": [\n          \"d778fe8e-121b-430d-b355-dc29234fa261.jpg\"\n        ],\n        \"semantic_type\": \"\",\n        \"description\": \"\"\n      }\n    },\n    {\n      \"column\": \"file_path\",\n      \"properties\": {\n        \"dtype\": \"string\",\n        \"num_unique_values\": 207,\n        \"samples\": [\n          \"Berkay/raw/Hauptbahnhof/st_name/d778fe8e-121b-430d-b355-dc29234fa261.jpg\"\n        ],\n        \"semantic_type\": \"\",\n        \"description\": \"\"\n      }\n    }\n  ]\n}"
            }
          },
          "metadata": {},
          "execution_count": 52
        }
      ]
    },
    {
      "cell_type": "code",
      "source": [
        "df.shape"
      ],
      "metadata": {
        "colab": {
          "base_uri": "https://localhost:8080/"
        },
        "id": "kEII68RdNQmY",
        "outputId": "9d89431f-c5fe-4948-c0da-07ef944d1a2d"
      },
      "execution_count": null,
      "outputs": [
        {
          "output_type": "execute_result",
          "data": {
            "text/plain": [
              "(182, 6)"
            ]
          },
          "metadata": {},
          "execution_count": 10
        }
      ]
    },
    {
      "cell_type": "markdown",
      "source": [
        "Keep correctly labeled images"
      ],
      "metadata": {
        "id": "qohZYSvlQFXS"
      }
    },
    {
      "cell_type": "code",
      "source": [
        "df = df[df['station'].isin(station_names)]\n",
        "df.shape"
      ],
      "metadata": {
        "colab": {
          "base_uri": "https://localhost:8080/"
        },
        "id": "bXNHH4W_P9HY",
        "outputId": "984ef1f5-de74-43e8-b8b9-cd5cd7b648a9"
      },
      "execution_count": null,
      "outputs": [
        {
          "output_type": "execute_result",
          "data": {
            "text/plain": [
              "(182, 6)"
            ]
          },
          "metadata": {},
          "execution_count": 11
        }
      ]
    },
    {
      "cell_type": "markdown",
      "source": [
        "Filter data"
      ],
      "metadata": {
        "id": "J8d-HLC7HdmA"
      }
    },
    {
      "cell_type": "code",
      "source": [
        "# drop Hauptbahnhof\n",
        "station_names = ['Stadtmitte', 'Feuersee', 'Schwabstrasse', 'University']\n",
        "df = df[df['station'] != 'Hauptbahnhof']\n",
        "df.shape"
      ],
      "metadata": {
        "id": "2p4EgYbFN_Rv",
        "colab": {
          "base_uri": "https://localhost:8080/"
        },
        "outputId": "6bece82f-0976-4830-8d8a-4d2ed3afaf3c"
      },
      "execution_count": null,
      "outputs": [
        {
          "output_type": "execute_result",
          "data": {
            "text/plain": [
              "(182, 6)"
            ]
          },
          "metadata": {},
          "execution_count": 29
        }
      ]
    },
    {
      "cell_type": "markdown",
      "source": [
        "Split randomly into train / val / test set"
      ],
      "metadata": {
        "id": "8DrpXg6SHEEN"
      }
    },
    {
      "cell_type": "code",
      "source": [
        "# train / val / test -- 0.7 / 0.1 / 0.2\n",
        "test_size, val_size = round(df.shape[0] * 0.2), round(df.shape[0] * 0.1)"
      ],
      "metadata": {
        "id": "SnFd0d3UHKk3"
      },
      "execution_count": null,
      "outputs": []
    },
    {
      "cell_type": "code",
      "source": [
        "df_train, df_test = train_test_split(df, test_size=test_size)\n",
        "df_train, df_val = train_test_split(df_train, test_size=val_size)"
      ],
      "metadata": {
        "colab": {
          "base_uri": "https://localhost:8080/"
        },
        "outputId": "d587ce42-6fd5-4d39-baa4-07b1bb6b7d7c",
        "id": "Hmr0MhpxHKk3"
      },
      "execution_count": null,
      "outputs": [
        {
          "output_type": "execute_result",
          "data": {
            "text/plain": [
              "(7, 1, 2)"
            ]
          },
          "metadata": {},
          "execution_count": 189
        }
      ]
    },
    {
      "cell_type": "markdown",
      "source": [
        "## Read dataset (hard split)"
      ],
      "metadata": {
        "id": "4qQRLa-xQq_3"
      }
    },
    {
      "cell_type": "code",
      "source": [
        "ds_version = 5  # 4 classes w/o Hbf / 5 classes with Hbf"
      ],
      "metadata": {
        "id": "8jQ-lv_Lb7Aa"
      },
      "execution_count": null,
      "outputs": []
    },
    {
      "cell_type": "code",
      "source": [
        "if ds_version == 4:\n",
        "  station_names = ['Stadtmitte', 'Feuersee', 'Schwabstrasse', 'University']\n",
        "elif ds_version == 5:\n",
        "  station_names = ['Hauptbahnhof', 'Stadtmitte', 'Feuersee', 'Schwabstrasse', 'University']\n",
        "\n",
        "data_dir = f'{mount}/dataset/dataset_{ds_version}'\n",
        "data_dir"
      ],
      "metadata": {
        "colab": {
          "base_uri": "https://localhost:8080/",
          "height": 35
        },
        "id": "gsF8wYigqGeq",
        "outputId": "9675a1d1-be81-4c85-ad0f-5866c3d2b897"
      },
      "execution_count": null,
      "outputs": [
        {
          "output_type": "execute_result",
          "data": {
            "text/plain": [
              "'/content/drive/MyDrive/Uni Stuttgart/AACV/dataset/dataset_5'"
            ],
            "application/vnd.google.colaboratory.intrinsic+json": {
              "type": "string"
            }
          },
          "metadata": {},
          "execution_count": 230
        }
      ]
    },
    {
      "cell_type": "code",
      "source": [
        "df_train = pd.read_csv(f'{data_dir}/train/df_train.csv')\n",
        "df_val = pd.read_csv(f'{data_dir}/val/df_val.csv')\n",
        "df_test = pd.read_csv(f'{data_dir}/test/df_test.csv')\n",
        "\n",
        "df_test_st_name = pd.read_csv(\n",
        "    f'{data_dir}/test_st_name/st_name_visible/df_test_st_name_visible.csv')\n",
        "df_test_mask = pd.read_csv(\n",
        "    f'{data_dir}/test_st_name/st_name_masked/df_test_st_name_masked.csv')\n",
        "\n",
        "print('Train:', df_train.shape[0])\n",
        "print('Val:', df_val.shape[0])\n",
        "print('Test:', df_test.shape[0])\n",
        "print('Test st. name visible:', df_test_st_name.shape[0])\n",
        "print('Test st. name masked:', df_test_mask.shape[0])"
      ],
      "metadata": {
        "colab": {
          "base_uri": "https://localhost:8080/"
        },
        "id": "FRpk0-8pqQ8y",
        "outputId": "74fde8bf-a109-494a-c2b3-448e9952fb71"
      },
      "execution_count": null,
      "outputs": [
        {
          "output_type": "stream",
          "name": "stdout",
          "text": [
            "Train: 151\n",
            "Val: 22\n",
            "Test: 43\n",
            "Test st. name visible: 25\n",
            "Test st. name masked: 25\n"
          ]
        }
      ]
    },
    {
      "cell_type": "code",
      "source": [
        "df_train.head()"
      ],
      "metadata": {
        "colab": {
          "base_uri": "https://localhost:8080/",
          "height": 206
        },
        "id": "5U7xcPZKRB1H",
        "outputId": "4b350d56-3081-4eae-ca32-829e272164bc"
      },
      "execution_count": null,
      "outputs": [
        {
          "output_type": "execute_result",
          "data": {
            "text/plain": [
              "         station author file_type  st_name_visible             filename  \\\n",
              "0     University   Anna       raw             True       uni_name_5.png   \n",
              "1  Schwabstrasse  Beate       raw            False  20250502_142758.jpg   \n",
              "2       Feuersee   Anna       raw            False      f_no_name_3.png   \n",
              "3     Stadtmitte   Anna       raw            False  20250506_111040.jpg   \n",
              "4     Stadtmitte   Anna       raw             True  20250512_132259.jpg   \n",
              "\n",
              "                          file_path  \n",
              "0       train/images/uni_name_5.png  \n",
              "1  train/images/20250502_142758.jpg  \n",
              "2      train/images/f_no_name_3.png  \n",
              "3  train/images/20250506_111040.jpg  \n",
              "4  train/images/20250512_132259.jpg  "
            ],
            "text/html": [
              "\n",
              "  <div id=\"df-8e278330-d3b3-4c0a-9f6d-3bd07cad60b9\" class=\"colab-df-container\">\n",
              "    <div>\n",
              "<style scoped>\n",
              "    .dataframe tbody tr th:only-of-type {\n",
              "        vertical-align: middle;\n",
              "    }\n",
              "\n",
              "    .dataframe tbody tr th {\n",
              "        vertical-align: top;\n",
              "    }\n",
              "\n",
              "    .dataframe thead th {\n",
              "        text-align: right;\n",
              "    }\n",
              "</style>\n",
              "<table border=\"1\" class=\"dataframe\">\n",
              "  <thead>\n",
              "    <tr style=\"text-align: right;\">\n",
              "      <th></th>\n",
              "      <th>station</th>\n",
              "      <th>author</th>\n",
              "      <th>file_type</th>\n",
              "      <th>st_name_visible</th>\n",
              "      <th>filename</th>\n",
              "      <th>file_path</th>\n",
              "    </tr>\n",
              "  </thead>\n",
              "  <tbody>\n",
              "    <tr>\n",
              "      <th>0</th>\n",
              "      <td>University</td>\n",
              "      <td>Anna</td>\n",
              "      <td>raw</td>\n",
              "      <td>True</td>\n",
              "      <td>uni_name_5.png</td>\n",
              "      <td>train/images/uni_name_5.png</td>\n",
              "    </tr>\n",
              "    <tr>\n",
              "      <th>1</th>\n",
              "      <td>Schwabstrasse</td>\n",
              "      <td>Beate</td>\n",
              "      <td>raw</td>\n",
              "      <td>False</td>\n",
              "      <td>20250502_142758.jpg</td>\n",
              "      <td>train/images/20250502_142758.jpg</td>\n",
              "    </tr>\n",
              "    <tr>\n",
              "      <th>2</th>\n",
              "      <td>Feuersee</td>\n",
              "      <td>Anna</td>\n",
              "      <td>raw</td>\n",
              "      <td>False</td>\n",
              "      <td>f_no_name_3.png</td>\n",
              "      <td>train/images/f_no_name_3.png</td>\n",
              "    </tr>\n",
              "    <tr>\n",
              "      <th>3</th>\n",
              "      <td>Stadtmitte</td>\n",
              "      <td>Anna</td>\n",
              "      <td>raw</td>\n",
              "      <td>False</td>\n",
              "      <td>20250506_111040.jpg</td>\n",
              "      <td>train/images/20250506_111040.jpg</td>\n",
              "    </tr>\n",
              "    <tr>\n",
              "      <th>4</th>\n",
              "      <td>Stadtmitte</td>\n",
              "      <td>Anna</td>\n",
              "      <td>raw</td>\n",
              "      <td>True</td>\n",
              "      <td>20250512_132259.jpg</td>\n",
              "      <td>train/images/20250512_132259.jpg</td>\n",
              "    </tr>\n",
              "  </tbody>\n",
              "</table>\n",
              "</div>\n",
              "    <div class=\"colab-df-buttons\">\n",
              "\n",
              "  <div class=\"colab-df-container\">\n",
              "    <button class=\"colab-df-convert\" onclick=\"convertToInteractive('df-8e278330-d3b3-4c0a-9f6d-3bd07cad60b9')\"\n",
              "            title=\"Convert this dataframe to an interactive table.\"\n",
              "            style=\"display:none;\">\n",
              "\n",
              "  <svg xmlns=\"http://www.w3.org/2000/svg\" height=\"24px\" viewBox=\"0 -960 960 960\">\n",
              "    <path d=\"M120-120v-720h720v720H120Zm60-500h600v-160H180v160Zm220 220h160v-160H400v160Zm0 220h160v-160H400v160ZM180-400h160v-160H180v160Zm440 0h160v-160H620v160ZM180-180h160v-160H180v160Zm440 0h160v-160H620v160Z\"/>\n",
              "  </svg>\n",
              "    </button>\n",
              "\n",
              "  <style>\n",
              "    .colab-df-container {\n",
              "      display:flex;\n",
              "      gap: 12px;\n",
              "    }\n",
              "\n",
              "    .colab-df-convert {\n",
              "      background-color: #E8F0FE;\n",
              "      border: none;\n",
              "      border-radius: 50%;\n",
              "      cursor: pointer;\n",
              "      display: none;\n",
              "      fill: #1967D2;\n",
              "      height: 32px;\n",
              "      padding: 0 0 0 0;\n",
              "      width: 32px;\n",
              "    }\n",
              "\n",
              "    .colab-df-convert:hover {\n",
              "      background-color: #E2EBFA;\n",
              "      box-shadow: 0px 1px 2px rgba(60, 64, 67, 0.3), 0px 1px 3px 1px rgba(60, 64, 67, 0.15);\n",
              "      fill: #174EA6;\n",
              "    }\n",
              "\n",
              "    .colab-df-buttons div {\n",
              "      margin-bottom: 4px;\n",
              "    }\n",
              "\n",
              "    [theme=dark] .colab-df-convert {\n",
              "      background-color: #3B4455;\n",
              "      fill: #D2E3FC;\n",
              "    }\n",
              "\n",
              "    [theme=dark] .colab-df-convert:hover {\n",
              "      background-color: #434B5C;\n",
              "      box-shadow: 0px 1px 3px 1px rgba(0, 0, 0, 0.15);\n",
              "      filter: drop-shadow(0px 1px 2px rgba(0, 0, 0, 0.3));\n",
              "      fill: #FFFFFF;\n",
              "    }\n",
              "  </style>\n",
              "\n",
              "    <script>\n",
              "      const buttonEl =\n",
              "        document.querySelector('#df-8e278330-d3b3-4c0a-9f6d-3bd07cad60b9 button.colab-df-convert');\n",
              "      buttonEl.style.display =\n",
              "        google.colab.kernel.accessAllowed ? 'block' : 'none';\n",
              "\n",
              "      async function convertToInteractive(key) {\n",
              "        const element = document.querySelector('#df-8e278330-d3b3-4c0a-9f6d-3bd07cad60b9');\n",
              "        const dataTable =\n",
              "          await google.colab.kernel.invokeFunction('convertToInteractive',\n",
              "                                                    [key], {});\n",
              "        if (!dataTable) return;\n",
              "\n",
              "        const docLinkHtml = 'Like what you see? Visit the ' +\n",
              "          '<a target=\"_blank\" href=https://colab.research.google.com/notebooks/data_table.ipynb>data table notebook</a>'\n",
              "          + ' to learn more about interactive tables.';\n",
              "        element.innerHTML = '';\n",
              "        dataTable['output_type'] = 'display_data';\n",
              "        await google.colab.output.renderOutput(dataTable, element);\n",
              "        const docLink = document.createElement('div');\n",
              "        docLink.innerHTML = docLinkHtml;\n",
              "        element.appendChild(docLink);\n",
              "      }\n",
              "    </script>\n",
              "  </div>\n",
              "\n",
              "\n",
              "    <div id=\"df-803a7a94-41a8-4539-93fe-09a4efbd6e52\">\n",
              "      <button class=\"colab-df-quickchart\" onclick=\"quickchart('df-803a7a94-41a8-4539-93fe-09a4efbd6e52')\"\n",
              "                title=\"Suggest charts\"\n",
              "                style=\"display:none;\">\n",
              "\n",
              "<svg xmlns=\"http://www.w3.org/2000/svg\" height=\"24px\"viewBox=\"0 0 24 24\"\n",
              "     width=\"24px\">\n",
              "    <g>\n",
              "        <path d=\"M19 3H5c-1.1 0-2 .9-2 2v14c0 1.1.9 2 2 2h14c1.1 0 2-.9 2-2V5c0-1.1-.9-2-2-2zM9 17H7v-7h2v7zm4 0h-2V7h2v10zm4 0h-2v-4h2v4z\"/>\n",
              "    </g>\n",
              "</svg>\n",
              "      </button>\n",
              "\n",
              "<style>\n",
              "  .colab-df-quickchart {\n",
              "      --bg-color: #E8F0FE;\n",
              "      --fill-color: #1967D2;\n",
              "      --hover-bg-color: #E2EBFA;\n",
              "      --hover-fill-color: #174EA6;\n",
              "      --disabled-fill-color: #AAA;\n",
              "      --disabled-bg-color: #DDD;\n",
              "  }\n",
              "\n",
              "  [theme=dark] .colab-df-quickchart {\n",
              "      --bg-color: #3B4455;\n",
              "      --fill-color: #D2E3FC;\n",
              "      --hover-bg-color: #434B5C;\n",
              "      --hover-fill-color: #FFFFFF;\n",
              "      --disabled-bg-color: #3B4455;\n",
              "      --disabled-fill-color: #666;\n",
              "  }\n",
              "\n",
              "  .colab-df-quickchart {\n",
              "    background-color: var(--bg-color);\n",
              "    border: none;\n",
              "    border-radius: 50%;\n",
              "    cursor: pointer;\n",
              "    display: none;\n",
              "    fill: var(--fill-color);\n",
              "    height: 32px;\n",
              "    padding: 0;\n",
              "    width: 32px;\n",
              "  }\n",
              "\n",
              "  .colab-df-quickchart:hover {\n",
              "    background-color: var(--hover-bg-color);\n",
              "    box-shadow: 0 1px 2px rgba(60, 64, 67, 0.3), 0 1px 3px 1px rgba(60, 64, 67, 0.15);\n",
              "    fill: var(--button-hover-fill-color);\n",
              "  }\n",
              "\n",
              "  .colab-df-quickchart-complete:disabled,\n",
              "  .colab-df-quickchart-complete:disabled:hover {\n",
              "    background-color: var(--disabled-bg-color);\n",
              "    fill: var(--disabled-fill-color);\n",
              "    box-shadow: none;\n",
              "  }\n",
              "\n",
              "  .colab-df-spinner {\n",
              "    border: 2px solid var(--fill-color);\n",
              "    border-color: transparent;\n",
              "    border-bottom-color: var(--fill-color);\n",
              "    animation:\n",
              "      spin 1s steps(1) infinite;\n",
              "  }\n",
              "\n",
              "  @keyframes spin {\n",
              "    0% {\n",
              "      border-color: transparent;\n",
              "      border-bottom-color: var(--fill-color);\n",
              "      border-left-color: var(--fill-color);\n",
              "    }\n",
              "    20% {\n",
              "      border-color: transparent;\n",
              "      border-left-color: var(--fill-color);\n",
              "      border-top-color: var(--fill-color);\n",
              "    }\n",
              "    30% {\n",
              "      border-color: transparent;\n",
              "      border-left-color: var(--fill-color);\n",
              "      border-top-color: var(--fill-color);\n",
              "      border-right-color: var(--fill-color);\n",
              "    }\n",
              "    40% {\n",
              "      border-color: transparent;\n",
              "      border-right-color: var(--fill-color);\n",
              "      border-top-color: var(--fill-color);\n",
              "    }\n",
              "    60% {\n",
              "      border-color: transparent;\n",
              "      border-right-color: var(--fill-color);\n",
              "    }\n",
              "    80% {\n",
              "      border-color: transparent;\n",
              "      border-right-color: var(--fill-color);\n",
              "      border-bottom-color: var(--fill-color);\n",
              "    }\n",
              "    90% {\n",
              "      border-color: transparent;\n",
              "      border-bottom-color: var(--fill-color);\n",
              "    }\n",
              "  }\n",
              "</style>\n",
              "\n",
              "      <script>\n",
              "        async function quickchart(key) {\n",
              "          const quickchartButtonEl =\n",
              "            document.querySelector('#' + key + ' button');\n",
              "          quickchartButtonEl.disabled = true;  // To prevent multiple clicks.\n",
              "          quickchartButtonEl.classList.add('colab-df-spinner');\n",
              "          try {\n",
              "            const charts = await google.colab.kernel.invokeFunction(\n",
              "                'suggestCharts', [key], {});\n",
              "          } catch (error) {\n",
              "            console.error('Error during call to suggestCharts:', error);\n",
              "          }\n",
              "          quickchartButtonEl.classList.remove('colab-df-spinner');\n",
              "          quickchartButtonEl.classList.add('colab-df-quickchart-complete');\n",
              "        }\n",
              "        (() => {\n",
              "          let quickchartButtonEl =\n",
              "            document.querySelector('#df-803a7a94-41a8-4539-93fe-09a4efbd6e52 button');\n",
              "          quickchartButtonEl.style.display =\n",
              "            google.colab.kernel.accessAllowed ? 'block' : 'none';\n",
              "        })();\n",
              "      </script>\n",
              "    </div>\n",
              "\n",
              "    </div>\n",
              "  </div>\n"
            ],
            "application/vnd.google.colaboratory.intrinsic+json": {
              "type": "dataframe",
              "variable_name": "df_train",
              "summary": "{\n  \"name\": \"df_train\",\n  \"rows\": 151,\n  \"fields\": [\n    {\n      \"column\": \"station\",\n      \"properties\": {\n        \"dtype\": \"category\",\n        \"num_unique_values\": 5,\n        \"samples\": [\n          \"Schwabstrasse\",\n          \"Hauptbahnhof\",\n          \"Feuersee\"\n        ],\n        \"semantic_type\": \"\",\n        \"description\": \"\"\n      }\n    },\n    {\n      \"column\": \"author\",\n      \"properties\": {\n        \"dtype\": \"category\",\n        \"num_unique_values\": 3,\n        \"samples\": [\n          \"Anna\",\n          \"Beate\",\n          \"Berkay\"\n        ],\n        \"semantic_type\": \"\",\n        \"description\": \"\"\n      }\n    },\n    {\n      \"column\": \"file_type\",\n      \"properties\": {\n        \"dtype\": \"category\",\n        \"num_unique_values\": 1,\n        \"samples\": [\n          \"raw\"\n        ],\n        \"semantic_type\": \"\",\n        \"description\": \"\"\n      }\n    },\n    {\n      \"column\": \"st_name_visible\",\n      \"properties\": {\n        \"dtype\": \"boolean\",\n        \"num_unique_values\": 2,\n        \"samples\": [\n          false\n        ],\n        \"semantic_type\": \"\",\n        \"description\": \"\"\n      }\n    },\n    {\n      \"column\": \"filename\",\n      \"properties\": {\n        \"dtype\": \"string\",\n        \"num_unique_values\": 151,\n        \"samples\": [\n          \"IMG_6863.HEIC\"\n        ],\n        \"semantic_type\": \"\",\n        \"description\": \"\"\n      }\n    },\n    {\n      \"column\": \"file_path\",\n      \"properties\": {\n        \"dtype\": \"string\",\n        \"num_unique_values\": 151,\n        \"samples\": [\n          \"train/images/IMG_6863.HEIC\"\n        ],\n        \"semantic_type\": \"\",\n        \"description\": \"\"\n      }\n    }\n  ]\n}"
            }
          },
          "metadata": {},
          "execution_count": 232
        }
      ]
    },
    {
      "cell_type": "markdown",
      "source": [
        "## Dataset class"
      ],
      "metadata": {
        "id": "SGJOo7vSNdp4"
      }
    },
    {
      "cell_type": "code",
      "source": [
        "class ImageDataset(Dataset):\n",
        "\n",
        "    def __init__(self, data_dir, df, transform=None, prompt=None):\n",
        "        self.data_dir = data_dir\n",
        "        self.df = df\n",
        "        self.transform = transform\n",
        "        self.prompt = prompt\n",
        "\n",
        "        #TODO: trial read through of all images\n",
        "\n",
        "    def __len__(self):\n",
        "        return self.df.shape[0]\n",
        "\n",
        "    def __getitem__(self, ind):\n",
        "        item_metadata = self.df.iloc[ind].to_dict()\n",
        "        text = item_metadata['station']\n",
        "        if self.prompt:\n",
        "          text = self.prompt.format(text)\n",
        "\n",
        "        image_filepath = f\"{self.data_dir}/{item_metadata['file_path']}\"\n",
        "        image = Image.open(image_filepath)\n",
        "        if self.transform:\n",
        "          image = self.transform(image)\n",
        "        # print(image)\n",
        "        return image, text"
      ],
      "metadata": {
        "id": "dXIvEPoyUu4v"
      },
      "execution_count": null,
      "outputs": []
    },
    {
      "cell_type": "markdown",
      "source": [
        "# Zero-shot"
      ],
      "metadata": {
        "id": "k6ldCSjBMXnX"
      }
    },
    {
      "cell_type": "markdown",
      "source": [
        "Load model"
      ],
      "metadata": {
        "id": "wFVJpL5xVR29"
      }
    },
    {
      "cell_type": "code",
      "source": [
        "model = CLIPModel.from_pretrained(\"openai/clip-vit-base-patch16\", attn_implementation=\"eager\")\n",
        "model.to(device);\n",
        "processor = AutoProcessor.from_pretrained(\"openai/clip-vit-base-patch16\")"
      ],
      "metadata": {
        "id": "_EE2xTw0VSnk"
      },
      "execution_count": null,
      "outputs": []
    },
    {
      "cell_type": "markdown",
      "source": [
        "Prepare data"
      ],
      "metadata": {
        "id": "JrVwoAeIPZ_u"
      }
    },
    {
      "cell_type": "markdown",
      "source": [
        "Tried prompts:\n",
        "* bare station names\n",
        "* A photo of the S-Bahn station \"Stuttgart {}\". [BEST]\n",
        "* A photo of the S-Bahn station \"Stuttgart {}\" taken through the carriage window.\n",
        "* A photo of the S-Bahn station \"Stuttgart {}\" taken from the train."
      ],
      "metadata": {
        "id": "BZW0ebeGSXhP"
      }
    },
    {
      "cell_type": "code",
      "source": [
        "prompt = 'A photo of the S-Bahn station \"Stuttgart {}\".'\n",
        "station_text = [prompt.format(st) for st in station_names]"
      ],
      "metadata": {
        "id": "cc4z0VJMTYLx"
      },
      "execution_count": null,
      "outputs": []
    },
    {
      "cell_type": "code",
      "source": [
        "batch_size = 16\n",
        "\n",
        "test_dataset = ImageDataset(data_dir=data_dir, df=df_test,\n",
        "                            transform=processor.image_processor, prompt=prompt)\n",
        "test_dataloader = DataLoader(test_dataset, batch_size=batch_size)"
      ],
      "metadata": {
        "id": "wRNJP_KkRrQN"
      },
      "execution_count": null,
      "outputs": []
    },
    {
      "cell_type": "markdown",
      "source": [
        "Run zero-shot classification (match image with closest station description in the emb. space)"
      ],
      "metadata": {
        "id": "BDFfyaG5MdaA"
      }
    },
    {
      "cell_type": "code",
      "source": [
        "def do_test(batch):\n",
        "  batch_img = batch[0].to(device)['pixel_values'][0].to(device)\n",
        "  batch_labels = batch[1]\n",
        "  inputs = processor(text=batch_labels, return_tensors=\"pt\", padding=True).to(device)\n",
        "  inputs['pixel_values'] = batch_img\n",
        "\n",
        "  with torch.no_grad():\n",
        "    inputs = processor(text=station_text, return_tensors=\"pt\", padding=True).to(device)\n",
        "    inputs['pixel_values'] = batch_img\n",
        "    outputs = model(**inputs)\n",
        "    logits_per_image = outputs.logits_per_image\n",
        "    station_probs = logits_per_image.softmax(dim=-1).cpu().numpy()\n",
        "    pred = [station_names[i] for i in np.argmax(station_probs, axis=1)]\n",
        "\n",
        "  del inputs, batch_img, batch_labels, logits_per_image\n",
        "\n",
        "  return pred"
      ],
      "metadata": {
        "id": "TGYZkd4DSLep"
      },
      "execution_count": null,
      "outputs": []
    },
    {
      "cell_type": "code",
      "source": [
        "test_pred = []\n",
        "\n",
        "for batch in tqdm(test_dataloader, total=len(test_dataloader)):\n",
        "    batch_pred = do_test(batch)\n",
        "    test_pred.extend(batch_pred)\n",
        "    del batch\n",
        "\n",
        "df_test['predictions'] = test_pred"
      ],
      "metadata": {
        "colab": {
          "base_uri": "https://localhost:8080/"
        },
        "id": "ssQwciKkS5Zt",
        "outputId": "758b3cf3-f3d7-4abe-ea2b-b8ed570aaf1d"
      },
      "execution_count": null,
      "outputs": [
        {
          "output_type": "stream",
          "name": "stderr",
          "text": [
            "100%|██████████| 3/3 [00:22<00:00,  7.36s/it]\n"
          ]
        }
      ]
    },
    {
      "cell_type": "markdown",
      "source": [
        "Calculate metrics"
      ],
      "metadata": {
        "id": "0wK8FTPSTlto"
      }
    },
    {
      "cell_type": "code",
      "source": [
        "acc = accuracy_score(df_test['station'], df_test['predictions'])\n",
        "f1 = f1_score(df_test['station'], df_test['predictions'], average='macro')\n",
        "\n",
        "print(f\"Test accuracy: {acc:.3f}\")\n",
        "print(f\"Test F1 macro: {f1:.3f}\")"
      ],
      "metadata": {
        "colab": {
          "base_uri": "https://localhost:8080/"
        },
        "id": "iztLrg5AS-tr",
        "outputId": "3ecf5825-c69e-48ca-bccc-90187ffc0107"
      },
      "execution_count": null,
      "outputs": [
        {
          "output_type": "stream",
          "name": "stdout",
          "text": [
            "Test accuracy: 0.419\n",
            "Test F1 macro: 0.429\n"
          ]
        }
      ]
    },
    {
      "cell_type": "markdown",
      "source": [
        "Save predictions"
      ],
      "metadata": {
        "id": "aekHJ0GsToEJ"
      }
    },
    {
      "cell_type": "code",
      "source": [
        "pred_dir = f'/content/drive/MyDrive/Uni Stuttgart/AACV/code/CLIP/predictions'\n",
        "\n",
        "df_test['predictions'].to_csv(f'{pred_dir}/test_clip_0shot_cl{len(station_names)}.csv', index=False)"
      ],
      "metadata": {
        "id": "NcTXf4zYTqxl"
      },
      "execution_count": null,
      "outputs": []
    },
    {
      "cell_type": "markdown",
      "source": [
        "# Fine-tuning"
      ],
      "metadata": {
        "id": "ktJNmz3AYxNB"
      }
    },
    {
      "cell_type": "markdown",
      "source": [
        "## Fine-tuning [OpenAI CLIP]"
      ],
      "metadata": {
        "id": "CPhPZz8PYHI_"
      }
    },
    {
      "cell_type": "markdown",
      "source": [
        "Install CLIP"
      ],
      "metadata": {
        "id": "X_SozmEIIjBL"
      }
    },
    {
      "cell_type": "code",
      "source": [
        "%%capture\n",
        "! pip install git+https://github.com/openai/CLIP.git"
      ],
      "metadata": {
        "id": "04hxVUtVIjBL"
      },
      "execution_count": null,
      "outputs": []
    },
    {
      "cell_type": "code",
      "source": [
        "import clip  # official version\n",
        "# import clip_attention  # code modified to return attention weights"
      ],
      "metadata": {
        "id": "tLEvUC0JIjBM"
      },
      "execution_count": null,
      "outputs": []
    },
    {
      "cell_type": "markdown",
      "source": [
        "Init model from pretrained"
      ],
      "metadata": {
        "id": "bIxaV0dwFHRX"
      }
    },
    {
      "cell_type": "code",
      "source": [
        "model, preprocess = clip_attention.load('ViT-B/16', device=device, jit=False)\n",
        "model.float();"
      ],
      "metadata": {
        "id": "Fwfk6adTC7km"
      },
      "execution_count": null,
      "outputs": []
    },
    {
      "cell_type": "markdown",
      "source": [
        "Or load a fine-tuned model from disk"
      ],
      "metadata": {
        "id": "cHhCbLuBE78P"
      }
    },
    {
      "cell_type": "code",
      "source": [
        "model, preprocess = clip_attention.load('ViT-B/16', device=device, jit=False)\n",
        "model.float();\n",
        "\n",
        "model_dir = f'{mount}/code/CLIP/models'\n",
        "checkpoint = torch.load(f'{model_dir}/clip_ft_cl4_ep1_lr1e-05.pt')\n",
        "\n",
        "model.load_state_dict(checkpoint['model_state_dict'])"
      ],
      "metadata": {
        "colab": {
          "base_uri": "https://localhost:8080/"
        },
        "id": "em-ozIJeE-Vw",
        "outputId": "c702f753-386f-4724-f2dd-9b74681c703f"
      },
      "execution_count": null,
      "outputs": [
        {
          "output_type": "execute_result",
          "data": {
            "text/plain": [
              "<All keys matched successfully>"
            ]
          },
          "metadata": {},
          "execution_count": 45
        }
      ]
    },
    {
      "cell_type": "markdown",
      "source": [
        "Train-test split"
      ],
      "metadata": {
        "id": "0StTmmkzaBE_"
      }
    },
    {
      "cell_type": "code",
      "source": [
        "df = df.head(10)  # for sanity checks"
      ],
      "metadata": {
        "id": "0qYi67vQEK6e"
      },
      "execution_count": null,
      "outputs": []
    },
    {
      "cell_type": "code",
      "source": [
        "batch_size = 32 if device == 'cuda' else 16\n",
        "\n",
        "# train / val / test -- 0.7 / 0.1 / 0.2\n",
        "test_size, val_size = round(df.shape[0] * 0.2), round(df.shape[0] * 0.1)"
      ],
      "metadata": {
        "id": "aaOk5NxMao6i"
      },
      "execution_count": null,
      "outputs": []
    },
    {
      "cell_type": "code",
      "source": [
        "df_train, df_test = train_test_split(df, test_size=test_size)\n",
        "df_train, df_val = train_test_split(df_train, test_size=val_size)\n",
        "\n",
        "train_dataset = ImageDataset(data_dir=data_dir, df=df_train, transform=preprocess)\n",
        "train_dataloader = DataLoader(train_dataset, batch_size=batch_size)\n",
        "\n",
        "test_dataset = ImageDataset(data_dir=data_dir, df=df_test, transform=preprocess)\n",
        "test_dataloader = DataLoader(test_dataset, batch_size=batch_size)\n",
        "\n",
        "val_dataset = ImageDataset(data_dir=data_dir, df=df_val, transform=preprocess)\n",
        "val_dataloader = DataLoader(val_dataset, batch_size=batch_size)\n",
        "\n",
        "len(train_dataset), len(val_dataset), len(test_dataset)"
      ],
      "metadata": {
        "id": "vL2HImdOakNg",
        "colab": {
          "base_uri": "https://localhost:8080/"
        },
        "outputId": "7fc82955-71c1-4224-b1e5-74d5b0e9f1a9"
      },
      "execution_count": null,
      "outputs": [
        {
          "output_type": "execute_result",
          "data": {
            "text/plain": [
              "(7, 1, 2)"
            ]
          },
          "metadata": {},
          "execution_count": 150
        }
      ]
    },
    {
      "cell_type": "markdown",
      "source": [
        "Define loss"
      ],
      "metadata": {
        "id": "8kgjjCwjZ73J"
      }
    },
    {
      "cell_type": "code",
      "source": [
        "loss_img = CrossEntropyLoss()\n",
        "loss_txt = CrossEntropyLoss()"
      ],
      "metadata": {
        "id": "68be6nZjYm1b"
      },
      "execution_count": null,
      "outputs": []
    },
    {
      "cell_type": "markdown",
      "source": [
        "Tokenize text (before training starts for efficiency)"
      ],
      "metadata": {
        "id": "sFmxQzwMwzqK"
      }
    },
    {
      "cell_type": "code",
      "source": [
        "station_text = [\n",
        "    f'A photo of the S-Bahn station \"Stuttgart {st}\".'\n",
        "    for st in station_names]\n",
        "station_tokens = {station_names[i]: clip.tokenize(station_text)[i] for i in range(len(station_names))}"
      ],
      "metadata": {
        "id": "kDS_ZgE8w1sI"
      },
      "execution_count": null,
      "outputs": []
    },
    {
      "cell_type": "markdown",
      "source": [
        "Train function"
      ],
      "metadata": {
        "id": "8bpRDwrIyfVa"
      }
    },
    {
      "cell_type": "code",
      "source": [
        "def do_train(batch):\n",
        "  optimizer.zero_grad()\n",
        "  batch_img, batch_labels = batch[0].to(device), batch[1]\n",
        "  batch_txt = torch.stack([station_tokens[st] for st in batch_labels], dim=0).to(device)\n",
        "\n",
        "  # forward pass\n",
        "  logits_per_image, logits_per_text = model(batch_img, batch_txt)\n",
        "\n",
        "  # compute loss\n",
        "  ground_truth = torch.arange(len(batch_img), dtype=torch.long, device=device)\n",
        "  total_loss = (\n",
        "      loss_img(logits_per_image, ground_truth) + \\\n",
        "      loss_txt(logits_per_text, ground_truth)) / 2\n",
        "\n",
        "  # backward pass\n",
        "  total_loss.backward()\n",
        "  optimizer.step()\n",
        "  scheduler.step()\n",
        "\n",
        "  del batch_img, batch_labels, batch_txt, logits_per_image, logits_per_text, ground_truth\n",
        "\n",
        "  return total_loss.item()"
      ],
      "metadata": {
        "id": "OTu55Z34xSkv"
      },
      "execution_count": null,
      "outputs": []
    },
    {
      "cell_type": "markdown",
      "source": [
        "Test function"
      ],
      "metadata": {
        "id": "x4B-Up1jzDQu"
      }
    },
    {
      "cell_type": "code",
      "source": [
        "def do_test(batch):\n",
        "  batch_img, batch_labels = batch[0].to(device), batch[1]\n",
        "  batch_txt = torch.stack([station_tokens[st] for st in batch_labels], dim=0).to(device)\n",
        "\n",
        "  with torch.no_grad():\n",
        "    # compute loss\n",
        "    logits_per_image, logits_per_text = model(batch_img, batch_txt)\n",
        "    ground_truth = torch.arange(len(batch_img), dtype=torch.long, device=device)\n",
        "    total_loss = (\n",
        "      loss_img(logits_per_image, ground_truth) + \\\n",
        "      loss_txt(logits_per_text, ground_truth)) / 2\n",
        "    # print(logits_per_image, ground_truth)\n",
        "\n",
        "    # get predictions\n",
        "    batch_txt = torch.stack(list(station_tokens.values()), dim=0).to(device)\n",
        "    logits_per_image, logits_per_text = model(batch_img, batch_txt)\n",
        "    station_probs = logits_per_image.softmax(dim=-1).cpu().numpy()\n",
        "    pred = [station_names[i] for i in np.argmax(station_probs, axis=1)]\n",
        "\n",
        "  del batch_img, batch_labels, batch_txt, logits_per_image, logits_per_text, ground_truth\n",
        "\n",
        "  return total_loss.item(), pred"
      ],
      "metadata": {
        "id": "wYEvxBDEyq5s"
      },
      "execution_count": null,
      "outputs": []
    },
    {
      "cell_type": "markdown",
      "source": [
        "Set hyperparameters"
      ],
      "metadata": {
        "id": "xBMglicmZ-W0"
      }
    },
    {
      "cell_type": "code",
      "source": [
        "num_epochs = 1  # 8\n",
        "lr = 1e-5\n",
        "\n",
        "optimizer = AdamW(\n",
        "    model.parameters(),\n",
        "    lr=lr,\n",
        "    # weight_decay=0.01\n",
        "    )\n",
        "\n",
        "total_steps = len(train_dataloader) * num_epochs\n",
        "scheduler = get_linear_schedule_with_warmup(optimizer,\n",
        "                                            num_warmup_steps = 0, # Default value in run_glue.py\n",
        "                                            num_training_steps = total_steps)"
      ],
      "metadata": {
        "id": "ECp8Qg6aYQTf"
      },
      "execution_count": null,
      "outputs": []
    },
    {
      "cell_type": "markdown",
      "source": [
        "Training loop"
      ],
      "metadata": {
        "id": "6iOgqBf8b7Hv"
      }
    },
    {
      "cell_type": "code",
      "source": [
        "train_loss_arr, val_loss_arr, val_acc_arr = [], [], []\n",
        "\n",
        "for epoch in range(num_epochs):\n",
        "    # train\n",
        "    train_loss = 0.0\n",
        "    for batch in tqdm(train_dataloader, total=len(train_dataloader)):\n",
        "        batch_loss = do_train(batch)\n",
        "        train_loss += batch_loss\n",
        "        del batch\n",
        "    train_loss /= len(train_dataset)\n",
        "    print(f\"Epoch {epoch}: Train loss: {train_loss:.4f}\")\n",
        "    train_loss_arr.append(train_loss)\n",
        "\n",
        "    # val\n",
        "    val_pred = []\n",
        "    val_loss = 0.0\n",
        "    for batch in tqdm(val_dataloader, total=len(val_dataloader)):\n",
        "        batch_loss, batch_pred = do_test(batch)\n",
        "        val_pred.extend(batch_pred)\n",
        "        val_loss += batch_loss\n",
        "        del batch\n",
        "\n",
        "    val_acc = accuracy_score(df_val['station'], val_pred)\n",
        "    val_loss /= len(val_dataset)\n",
        "    print(f\"Val loss: {val_loss:.4f}, Acc: {val_acc:.3f}\")\n",
        "    val_loss_arr.append(val_loss)\n",
        "    val_acc_arr.append(val_acc)\n",
        "\n",
        "    print()"
      ],
      "metadata": {
        "id": "EW6MVyfIYKYX"
      },
      "execution_count": null,
      "outputs": []
    },
    {
      "cell_type": "markdown",
      "source": [
        "Loss plot"
      ],
      "metadata": {
        "id": "V4NXjAiu6B70"
      }
    },
    {
      "cell_type": "code",
      "source": [
        "train_stats = pd.DataFrame()\n",
        "train_stats['epoch'] = list(range(num_epochs)) + list(range(num_epochs))\n",
        "train_stats['loss_type'] = ['train'] * num_epochs + ['val'] * num_epochs\n",
        "train_stats['loss_value'] = train_loss_arr + val_loss_arr\n",
        "train_stats"
      ],
      "metadata": {
        "colab": {
          "base_uri": "https://localhost:8080/",
          "height": 551
        },
        "id": "c1u3YEtWA9qR",
        "outputId": "f32892e3-9826-4e3a-b545-b7898ce62106"
      },
      "execution_count": null,
      "outputs": [
        {
          "output_type": "execute_result",
          "data": {
            "text/plain": [
              "    epoch loss_type  loss_value\n",
              "0       0     train    0.119358\n",
              "1       1     train    0.095965\n",
              "2       2     train    0.088276\n",
              "3       3     train    0.081508\n",
              "4       4     train    0.075914\n",
              "5       5     train    0.072209\n",
              "6       6     train    0.069992\n",
              "7       7     train    0.069035\n",
              "8       0       val    0.135677\n",
              "9       1       val    0.123484\n",
              "10      2       val    0.119392\n",
              "11      3       val    0.115664\n",
              "12      4       val    0.110829\n",
              "13      5       val    0.107082\n",
              "14      6       val    0.104391\n",
              "15      7       val    0.104274"
            ],
            "text/html": [
              "\n",
              "  <div id=\"df-4172e848-d7ee-4b8b-9059-18e1941c2933\" class=\"colab-df-container\">\n",
              "    <div>\n",
              "<style scoped>\n",
              "    .dataframe tbody tr th:only-of-type {\n",
              "        vertical-align: middle;\n",
              "    }\n",
              "\n",
              "    .dataframe tbody tr th {\n",
              "        vertical-align: top;\n",
              "    }\n",
              "\n",
              "    .dataframe thead th {\n",
              "        text-align: right;\n",
              "    }\n",
              "</style>\n",
              "<table border=\"1\" class=\"dataframe\">\n",
              "  <thead>\n",
              "    <tr style=\"text-align: right;\">\n",
              "      <th></th>\n",
              "      <th>epoch</th>\n",
              "      <th>loss_type</th>\n",
              "      <th>loss_value</th>\n",
              "    </tr>\n",
              "  </thead>\n",
              "  <tbody>\n",
              "    <tr>\n",
              "      <th>0</th>\n",
              "      <td>0</td>\n",
              "      <td>train</td>\n",
              "      <td>0.119358</td>\n",
              "    </tr>\n",
              "    <tr>\n",
              "      <th>1</th>\n",
              "      <td>1</td>\n",
              "      <td>train</td>\n",
              "      <td>0.095965</td>\n",
              "    </tr>\n",
              "    <tr>\n",
              "      <th>2</th>\n",
              "      <td>2</td>\n",
              "      <td>train</td>\n",
              "      <td>0.088276</td>\n",
              "    </tr>\n",
              "    <tr>\n",
              "      <th>3</th>\n",
              "      <td>3</td>\n",
              "      <td>train</td>\n",
              "      <td>0.081508</td>\n",
              "    </tr>\n",
              "    <tr>\n",
              "      <th>4</th>\n",
              "      <td>4</td>\n",
              "      <td>train</td>\n",
              "      <td>0.075914</td>\n",
              "    </tr>\n",
              "    <tr>\n",
              "      <th>5</th>\n",
              "      <td>5</td>\n",
              "      <td>train</td>\n",
              "      <td>0.072209</td>\n",
              "    </tr>\n",
              "    <tr>\n",
              "      <th>6</th>\n",
              "      <td>6</td>\n",
              "      <td>train</td>\n",
              "      <td>0.069992</td>\n",
              "    </tr>\n",
              "    <tr>\n",
              "      <th>7</th>\n",
              "      <td>7</td>\n",
              "      <td>train</td>\n",
              "      <td>0.069035</td>\n",
              "    </tr>\n",
              "    <tr>\n",
              "      <th>8</th>\n",
              "      <td>0</td>\n",
              "      <td>val</td>\n",
              "      <td>0.135677</td>\n",
              "    </tr>\n",
              "    <tr>\n",
              "      <th>9</th>\n",
              "      <td>1</td>\n",
              "      <td>val</td>\n",
              "      <td>0.123484</td>\n",
              "    </tr>\n",
              "    <tr>\n",
              "      <th>10</th>\n",
              "      <td>2</td>\n",
              "      <td>val</td>\n",
              "      <td>0.119392</td>\n",
              "    </tr>\n",
              "    <tr>\n",
              "      <th>11</th>\n",
              "      <td>3</td>\n",
              "      <td>val</td>\n",
              "      <td>0.115664</td>\n",
              "    </tr>\n",
              "    <tr>\n",
              "      <th>12</th>\n",
              "      <td>4</td>\n",
              "      <td>val</td>\n",
              "      <td>0.110829</td>\n",
              "    </tr>\n",
              "    <tr>\n",
              "      <th>13</th>\n",
              "      <td>5</td>\n",
              "      <td>val</td>\n",
              "      <td>0.107082</td>\n",
              "    </tr>\n",
              "    <tr>\n",
              "      <th>14</th>\n",
              "      <td>6</td>\n",
              "      <td>val</td>\n",
              "      <td>0.104391</td>\n",
              "    </tr>\n",
              "    <tr>\n",
              "      <th>15</th>\n",
              "      <td>7</td>\n",
              "      <td>val</td>\n",
              "      <td>0.104274</td>\n",
              "    </tr>\n",
              "  </tbody>\n",
              "</table>\n",
              "</div>\n",
              "    <div class=\"colab-df-buttons\">\n",
              "\n",
              "  <div class=\"colab-df-container\">\n",
              "    <button class=\"colab-df-convert\" onclick=\"convertToInteractive('df-4172e848-d7ee-4b8b-9059-18e1941c2933')\"\n",
              "            title=\"Convert this dataframe to an interactive table.\"\n",
              "            style=\"display:none;\">\n",
              "\n",
              "  <svg xmlns=\"http://www.w3.org/2000/svg\" height=\"24px\" viewBox=\"0 -960 960 960\">\n",
              "    <path d=\"M120-120v-720h720v720H120Zm60-500h600v-160H180v160Zm220 220h160v-160H400v160Zm0 220h160v-160H400v160ZM180-400h160v-160H180v160Zm440 0h160v-160H620v160ZM180-180h160v-160H180v160Zm440 0h160v-160H620v160Z\"/>\n",
              "  </svg>\n",
              "    </button>\n",
              "\n",
              "  <style>\n",
              "    .colab-df-container {\n",
              "      display:flex;\n",
              "      gap: 12px;\n",
              "    }\n",
              "\n",
              "    .colab-df-convert {\n",
              "      background-color: #E8F0FE;\n",
              "      border: none;\n",
              "      border-radius: 50%;\n",
              "      cursor: pointer;\n",
              "      display: none;\n",
              "      fill: #1967D2;\n",
              "      height: 32px;\n",
              "      padding: 0 0 0 0;\n",
              "      width: 32px;\n",
              "    }\n",
              "\n",
              "    .colab-df-convert:hover {\n",
              "      background-color: #E2EBFA;\n",
              "      box-shadow: 0px 1px 2px rgba(60, 64, 67, 0.3), 0px 1px 3px 1px rgba(60, 64, 67, 0.15);\n",
              "      fill: #174EA6;\n",
              "    }\n",
              "\n",
              "    .colab-df-buttons div {\n",
              "      margin-bottom: 4px;\n",
              "    }\n",
              "\n",
              "    [theme=dark] .colab-df-convert {\n",
              "      background-color: #3B4455;\n",
              "      fill: #D2E3FC;\n",
              "    }\n",
              "\n",
              "    [theme=dark] .colab-df-convert:hover {\n",
              "      background-color: #434B5C;\n",
              "      box-shadow: 0px 1px 3px 1px rgba(0, 0, 0, 0.15);\n",
              "      filter: drop-shadow(0px 1px 2px rgba(0, 0, 0, 0.3));\n",
              "      fill: #FFFFFF;\n",
              "    }\n",
              "  </style>\n",
              "\n",
              "    <script>\n",
              "      const buttonEl =\n",
              "        document.querySelector('#df-4172e848-d7ee-4b8b-9059-18e1941c2933 button.colab-df-convert');\n",
              "      buttonEl.style.display =\n",
              "        google.colab.kernel.accessAllowed ? 'block' : 'none';\n",
              "\n",
              "      async function convertToInteractive(key) {\n",
              "        const element = document.querySelector('#df-4172e848-d7ee-4b8b-9059-18e1941c2933');\n",
              "        const dataTable =\n",
              "          await google.colab.kernel.invokeFunction('convertToInteractive',\n",
              "                                                    [key], {});\n",
              "        if (!dataTable) return;\n",
              "\n",
              "        const docLinkHtml = 'Like what you see? Visit the ' +\n",
              "          '<a target=\"_blank\" href=https://colab.research.google.com/notebooks/data_table.ipynb>data table notebook</a>'\n",
              "          + ' to learn more about interactive tables.';\n",
              "        element.innerHTML = '';\n",
              "        dataTable['output_type'] = 'display_data';\n",
              "        await google.colab.output.renderOutput(dataTable, element);\n",
              "        const docLink = document.createElement('div');\n",
              "        docLink.innerHTML = docLinkHtml;\n",
              "        element.appendChild(docLink);\n",
              "      }\n",
              "    </script>\n",
              "  </div>\n",
              "\n",
              "\n",
              "    <div id=\"df-048a2adb-833e-4822-88fb-e88eda6add68\">\n",
              "      <button class=\"colab-df-quickchart\" onclick=\"quickchart('df-048a2adb-833e-4822-88fb-e88eda6add68')\"\n",
              "                title=\"Suggest charts\"\n",
              "                style=\"display:none;\">\n",
              "\n",
              "<svg xmlns=\"http://www.w3.org/2000/svg\" height=\"24px\"viewBox=\"0 0 24 24\"\n",
              "     width=\"24px\">\n",
              "    <g>\n",
              "        <path d=\"M19 3H5c-1.1 0-2 .9-2 2v14c0 1.1.9 2 2 2h14c1.1 0 2-.9 2-2V5c0-1.1-.9-2-2-2zM9 17H7v-7h2v7zm4 0h-2V7h2v10zm4 0h-2v-4h2v4z\"/>\n",
              "    </g>\n",
              "</svg>\n",
              "      </button>\n",
              "\n",
              "<style>\n",
              "  .colab-df-quickchart {\n",
              "      --bg-color: #E8F0FE;\n",
              "      --fill-color: #1967D2;\n",
              "      --hover-bg-color: #E2EBFA;\n",
              "      --hover-fill-color: #174EA6;\n",
              "      --disabled-fill-color: #AAA;\n",
              "      --disabled-bg-color: #DDD;\n",
              "  }\n",
              "\n",
              "  [theme=dark] .colab-df-quickchart {\n",
              "      --bg-color: #3B4455;\n",
              "      --fill-color: #D2E3FC;\n",
              "      --hover-bg-color: #434B5C;\n",
              "      --hover-fill-color: #FFFFFF;\n",
              "      --disabled-bg-color: #3B4455;\n",
              "      --disabled-fill-color: #666;\n",
              "  }\n",
              "\n",
              "  .colab-df-quickchart {\n",
              "    background-color: var(--bg-color);\n",
              "    border: none;\n",
              "    border-radius: 50%;\n",
              "    cursor: pointer;\n",
              "    display: none;\n",
              "    fill: var(--fill-color);\n",
              "    height: 32px;\n",
              "    padding: 0;\n",
              "    width: 32px;\n",
              "  }\n",
              "\n",
              "  .colab-df-quickchart:hover {\n",
              "    background-color: var(--hover-bg-color);\n",
              "    box-shadow: 0 1px 2px rgba(60, 64, 67, 0.3), 0 1px 3px 1px rgba(60, 64, 67, 0.15);\n",
              "    fill: var(--button-hover-fill-color);\n",
              "  }\n",
              "\n",
              "  .colab-df-quickchart-complete:disabled,\n",
              "  .colab-df-quickchart-complete:disabled:hover {\n",
              "    background-color: var(--disabled-bg-color);\n",
              "    fill: var(--disabled-fill-color);\n",
              "    box-shadow: none;\n",
              "  }\n",
              "\n",
              "  .colab-df-spinner {\n",
              "    border: 2px solid var(--fill-color);\n",
              "    border-color: transparent;\n",
              "    border-bottom-color: var(--fill-color);\n",
              "    animation:\n",
              "      spin 1s steps(1) infinite;\n",
              "  }\n",
              "\n",
              "  @keyframes spin {\n",
              "    0% {\n",
              "      border-color: transparent;\n",
              "      border-bottom-color: var(--fill-color);\n",
              "      border-left-color: var(--fill-color);\n",
              "    }\n",
              "    20% {\n",
              "      border-color: transparent;\n",
              "      border-left-color: var(--fill-color);\n",
              "      border-top-color: var(--fill-color);\n",
              "    }\n",
              "    30% {\n",
              "      border-color: transparent;\n",
              "      border-left-color: var(--fill-color);\n",
              "      border-top-color: var(--fill-color);\n",
              "      border-right-color: var(--fill-color);\n",
              "    }\n",
              "    40% {\n",
              "      border-color: transparent;\n",
              "      border-right-color: var(--fill-color);\n",
              "      border-top-color: var(--fill-color);\n",
              "    }\n",
              "    60% {\n",
              "      border-color: transparent;\n",
              "      border-right-color: var(--fill-color);\n",
              "    }\n",
              "    80% {\n",
              "      border-color: transparent;\n",
              "      border-right-color: var(--fill-color);\n",
              "      border-bottom-color: var(--fill-color);\n",
              "    }\n",
              "    90% {\n",
              "      border-color: transparent;\n",
              "      border-bottom-color: var(--fill-color);\n",
              "    }\n",
              "  }\n",
              "</style>\n",
              "\n",
              "      <script>\n",
              "        async function quickchart(key) {\n",
              "          const quickchartButtonEl =\n",
              "            document.querySelector('#' + key + ' button');\n",
              "          quickchartButtonEl.disabled = true;  // To prevent multiple clicks.\n",
              "          quickchartButtonEl.classList.add('colab-df-spinner');\n",
              "          try {\n",
              "            const charts = await google.colab.kernel.invokeFunction(\n",
              "                'suggestCharts', [key], {});\n",
              "          } catch (error) {\n",
              "            console.error('Error during call to suggestCharts:', error);\n",
              "          }\n",
              "          quickchartButtonEl.classList.remove('colab-df-spinner');\n",
              "          quickchartButtonEl.classList.add('colab-df-quickchart-complete');\n",
              "        }\n",
              "        (() => {\n",
              "          let quickchartButtonEl =\n",
              "            document.querySelector('#df-048a2adb-833e-4822-88fb-e88eda6add68 button');\n",
              "          quickchartButtonEl.style.display =\n",
              "            google.colab.kernel.accessAllowed ? 'block' : 'none';\n",
              "        })();\n",
              "      </script>\n",
              "    </div>\n",
              "\n",
              "  <div id=\"id_c318bffa-16ab-41e5-810a-61bea0ca914b\">\n",
              "    <style>\n",
              "      .colab-df-generate {\n",
              "        background-color: #E8F0FE;\n",
              "        border: none;\n",
              "        border-radius: 50%;\n",
              "        cursor: pointer;\n",
              "        display: none;\n",
              "        fill: #1967D2;\n",
              "        height: 32px;\n",
              "        padding: 0 0 0 0;\n",
              "        width: 32px;\n",
              "      }\n",
              "\n",
              "      .colab-df-generate:hover {\n",
              "        background-color: #E2EBFA;\n",
              "        box-shadow: 0px 1px 2px rgba(60, 64, 67, 0.3), 0px 1px 3px 1px rgba(60, 64, 67, 0.15);\n",
              "        fill: #174EA6;\n",
              "      }\n",
              "\n",
              "      [theme=dark] .colab-df-generate {\n",
              "        background-color: #3B4455;\n",
              "        fill: #D2E3FC;\n",
              "      }\n",
              "\n",
              "      [theme=dark] .colab-df-generate:hover {\n",
              "        background-color: #434B5C;\n",
              "        box-shadow: 0px 1px 3px 1px rgba(0, 0, 0, 0.15);\n",
              "        filter: drop-shadow(0px 1px 2px rgba(0, 0, 0, 0.3));\n",
              "        fill: #FFFFFF;\n",
              "      }\n",
              "    </style>\n",
              "    <button class=\"colab-df-generate\" onclick=\"generateWithVariable('train_stats')\"\n",
              "            title=\"Generate code using this dataframe.\"\n",
              "            style=\"display:none;\">\n",
              "\n",
              "  <svg xmlns=\"http://www.w3.org/2000/svg\" height=\"24px\"viewBox=\"0 0 24 24\"\n",
              "       width=\"24px\">\n",
              "    <path d=\"M7,19H8.4L18.45,9,17,7.55,7,17.6ZM5,21V16.75L18.45,3.32a2,2,0,0,1,2.83,0l1.4,1.43a1.91,1.91,0,0,1,.58,1.4,1.91,1.91,0,0,1-.58,1.4L9.25,21ZM18.45,9,17,7.55Zm-12,3A5.31,5.31,0,0,0,4.9,8.1,5.31,5.31,0,0,0,1,6.5,5.31,5.31,0,0,0,4.9,4.9,5.31,5.31,0,0,0,6.5,1,5.31,5.31,0,0,0,8.1,4.9,5.31,5.31,0,0,0,12,6.5,5.46,5.46,0,0,0,6.5,12Z\"/>\n",
              "  </svg>\n",
              "    </button>\n",
              "    <script>\n",
              "      (() => {\n",
              "      const buttonEl =\n",
              "        document.querySelector('#id_c318bffa-16ab-41e5-810a-61bea0ca914b button.colab-df-generate');\n",
              "      buttonEl.style.display =\n",
              "        google.colab.kernel.accessAllowed ? 'block' : 'none';\n",
              "\n",
              "      buttonEl.onclick = () => {\n",
              "        google.colab.notebook.generateWithVariable('train_stats');\n",
              "      }\n",
              "      })();\n",
              "    </script>\n",
              "  </div>\n",
              "\n",
              "    </div>\n",
              "  </div>\n"
            ],
            "application/vnd.google.colaboratory.intrinsic+json": {
              "type": "dataframe",
              "variable_name": "train_stats",
              "summary": "{\n  \"name\": \"train_stats\",\n  \"rows\": 16,\n  \"fields\": [\n    {\n      \"column\": \"epoch\",\n      \"properties\": {\n        \"dtype\": \"number\",\n        \"std\": 2,\n        \"min\": 0,\n        \"max\": 7,\n        \"num_unique_values\": 8,\n        \"samples\": [\n          1,\n          5,\n          0\n        ],\n        \"semantic_type\": \"\",\n        \"description\": \"\"\n      }\n    },\n    {\n      \"column\": \"loss_type\",\n      \"properties\": {\n        \"dtype\": \"category\",\n        \"num_unique_values\": 2,\n        \"samples\": [\n          \"val\",\n          \"train\"\n        ],\n        \"semantic_type\": \"\",\n        \"description\": \"\"\n      }\n    },\n    {\n      \"column\": \"loss_value\",\n      \"properties\": {\n        \"dtype\": \"number\",\n        \"std\": 0.021181627479600288,\n        \"min\": 0.06903487788744209,\n        \"max\": 0.13567735167110667,\n        \"num_unique_values\": 16,\n        \"samples\": [\n          0.1193579169344311,\n          0.09596505637996453\n        ],\n        \"semantic_type\": \"\",\n        \"description\": \"\"\n      }\n    }\n  ]\n}"
            }
          },
          "metadata": {},
          "execution_count": 38
        }
      ]
    },
    {
      "cell_type": "code",
      "source": [
        "sns.lineplot(train_stats, x='epoch', y='loss_value', hue='loss_type', marker='o');"
      ],
      "metadata": {
        "colab": {
          "base_uri": "https://localhost:8080/",
          "height": 458
        },
        "id": "y6TD2-hE6EaC",
        "outputId": "1c1401f2-7c0e-4ea1-ebb9-98ee3a162f40"
      },
      "execution_count": null,
      "outputs": [
        {
          "output_type": "display_data",
          "data": {
            "text/plain": [
              "<Figure size 640x480 with 1 Axes>"
            ],
            "image/png": "[encoded data removed]"
          },
          "metadata": {}
        }
      ]
    },
    {
      "cell_type": "markdown",
      "source": [
        "Testing"
      ],
      "metadata": {
        "id": "I5eJ6MG6b8po"
      }
    },
    {
      "cell_type": "code",
      "source": [
        "test_pred = []\n",
        "test_loss = 0.0\n",
        "\n",
        "for batch in tqdm(test_dataloader, total=len(test_dataloader)):\n",
        "    batch_loss, batch_pred = do_test(batch)\n",
        "    test_pred.extend(batch_pred)\n",
        "    test_loss += batch_loss\n",
        "    del batch\n",
        "\n",
        "df_test['predictions'] = test_pred\n",
        "\n",
        "test_loss /= len(test_dataset)\n",
        "\n",
        "print(f\"Test loss: {test_loss:3f}\")\n",
        "print(f\"Test accuracy: {accuracy_score(df_test['station'], df_test['predictions']):.3f}\")"
      ],
      "metadata": {
        "colab": {
          "base_uri": "https://localhost:8080/"
        },
        "id": "LNCiXk9Gb1up",
        "outputId": "f31b5399-0061-4434-81dd-4ada980fe443"
      },
      "execution_count": null,
      "outputs": [
        {
          "output_type": "stream",
          "name": "stderr",
          "text": [
            "100%|██████████| 1/1 [00:09<00:00,  9.21s/it]"
          ]
        },
        {
          "output_type": "stream",
          "name": "stdout",
          "text": [
            "Test loss: 0.375268\n",
            "Test accuracy: 0.000\n"
          ]
        },
        {
          "output_type": "stream",
          "name": "stderr",
          "text": [
            "\n"
          ]
        }
      ]
    },
    {
      "cell_type": "code",
      "source": [
        "df_test[['station', 'predictions']]"
      ],
      "metadata": {
        "colab": {
          "base_uri": "https://localhost:8080/",
          "height": 1000
        },
        "id": "surFeorZE_hp",
        "outputId": "020d9ed2-1529-40bb-ff7d-05648f58525d"
      },
      "execution_count": null,
      "outputs": [
        {
          "output_type": "execute_result",
          "data": {
            "text/plain": [
              "           station    predictions\n",
              "118  Schwabstrasse  Schwabstrasse\n",
              "72      Stadtmitte     Stadtmitte\n",
              "81        Feuersee       Feuersee\n",
              "60      Stadtmitte     Stadtmitte\n",
              "176  Schwabstrasse  Schwabstrasse\n",
              "121  Schwabstrasse  Schwabstrasse\n",
              "136     University     University\n",
              "15      Stadtmitte     Stadtmitte\n",
              "144     University     University\n",
              "141     University     University\n",
              "64      Stadtmitte     Stadtmitte\n",
              "142     University     University\n",
              "29        Feuersee       Feuersee\n",
              "56      University     University\n",
              "36   Schwabstrasse  Schwabstrasse\n",
              "174  Schwabstrasse  Schwabstrasse\n",
              "172  Schwabstrasse  Schwabstrasse\n",
              "21        Feuersee       Feuersee\n",
              "55      University     University\n",
              "107  Schwabstrasse  Schwabstrasse\n",
              "52      University     University\n",
              "164     Stadtmitte     Stadtmitte\n",
              "40   Schwabstrasse  Schwabstrasse\n",
              "103  Schwabstrasse  Schwabstrasse\n",
              "139     University     University\n",
              "162     Stadtmitte     Stadtmitte\n",
              "116  Schwabstrasse  Schwabstrasse\n",
              "93        Feuersee       Feuersee\n",
              "65      Stadtmitte     Stadtmitte\n",
              "113  Schwabstrasse  Schwabstrasse\n",
              "86        Feuersee       Feuersee\n",
              "31   Schwabstrasse  Schwabstrasse\n",
              "89        Feuersee       Feuersee"
            ],
            "text/html": [
              "\n",
              "  <div id=\"df-e1d9ff1e-a0f6-4b7b-bc47-f7f8b2b08e8c\" class=\"colab-df-container\">\n",
              "    <div>\n",
              "<style scoped>\n",
              "    .dataframe tbody tr th:only-of-type {\n",
              "        vertical-align: middle;\n",
              "    }\n",
              "\n",
              "    .dataframe tbody tr th {\n",
              "        vertical-align: top;\n",
              "    }\n",
              "\n",
              "    .dataframe thead th {\n",
              "        text-align: right;\n",
              "    }\n",
              "</style>\n",
              "<table border=\"1\" class=\"dataframe\">\n",
              "  <thead>\n",
              "    <tr style=\"text-align: right;\">\n",
              "      <th></th>\n",
              "      <th>station</th>\n",
              "      <th>predictions</th>\n",
              "    </tr>\n",
              "  </thead>\n",
              "  <tbody>\n",
              "    <tr>\n",
              "      <th>118</th>\n",
              "      <td>Schwabstrasse</td>\n",
              "      <td>Schwabstrasse</td>\n",
              "    </tr>\n",
              "    <tr>\n",
              "      <th>72</th>\n",
              "      <td>Stadtmitte</td>\n",
              "      <td>Stadtmitte</td>\n",
              "    </tr>\n",
              "    <tr>\n",
              "      <th>81</th>\n",
              "      <td>Feuersee</td>\n",
              "      <td>Feuersee</td>\n",
              "    </tr>\n",
              "    <tr>\n",
              "      <th>60</th>\n",
              "      <td>Stadtmitte</td>\n",
              "      <td>Stadtmitte</td>\n",
              "    </tr>\n",
              "    <tr>\n",
              "      <th>176</th>\n",
              "      <td>Schwabstrasse</td>\n",
              "      <td>Schwabstrasse</td>\n",
              "    </tr>\n",
              "    <tr>\n",
              "      <th>121</th>\n",
              "      <td>Schwabstrasse</td>\n",
              "      <td>Schwabstrasse</td>\n",
              "    </tr>\n",
              "    <tr>\n",
              "      <th>136</th>\n",
              "      <td>University</td>\n",
              "      <td>University</td>\n",
              "    </tr>\n",
              "    <tr>\n",
              "      <th>15</th>\n",
              "      <td>Stadtmitte</td>\n",
              "      <td>Stadtmitte</td>\n",
              "    </tr>\n",
              "    <tr>\n",
              "      <th>144</th>\n",
              "      <td>University</td>\n",
              "      <td>University</td>\n",
              "    </tr>\n",
              "    <tr>\n",
              "      <th>141</th>\n",
              "      <td>University</td>\n",
              "      <td>University</td>\n",
              "    </tr>\n",
              "    <tr>\n",
              "      <th>64</th>\n",
              "      <td>Stadtmitte</td>\n",
              "      <td>Stadtmitte</td>\n",
              "    </tr>\n",
              "    <tr>\n",
              "      <th>142</th>\n",
              "      <td>University</td>\n",
              "      <td>University</td>\n",
              "    </tr>\n",
              "    <tr>\n",
              "      <th>29</th>\n",
              "      <td>Feuersee</td>\n",
              "      <td>Feuersee</td>\n",
              "    </tr>\n",
              "    <tr>\n",
              "      <th>56</th>\n",
              "      <td>University</td>\n",
              "      <td>University</td>\n",
              "    </tr>\n",
              "    <tr>\n",
              "      <th>36</th>\n",
              "      <td>Schwabstrasse</td>\n",
              "      <td>Schwabstrasse</td>\n",
              "    </tr>\n",
              "    <tr>\n",
              "      <th>174</th>\n",
              "      <td>Schwabstrasse</td>\n",
              "      <td>Schwabstrasse</td>\n",
              "    </tr>\n",
              "    <tr>\n",
              "      <th>172</th>\n",
              "      <td>Schwabstrasse</td>\n",
              "      <td>Schwabstrasse</td>\n",
              "    </tr>\n",
              "    <tr>\n",
              "      <th>21</th>\n",
              "      <td>Feuersee</td>\n",
              "      <td>Feuersee</td>\n",
              "    </tr>\n",
              "    <tr>\n",
              "      <th>55</th>\n",
              "      <td>University</td>\n",
              "      <td>University</td>\n",
              "    </tr>\n",
              "    <tr>\n",
              "      <th>107</th>\n",
              "      <td>Schwabstrasse</td>\n",
              "      <td>Schwabstrasse</td>\n",
              "    </tr>\n",
              "    <tr>\n",
              "      <th>52</th>\n",
              "      <td>University</td>\n",
              "      <td>University</td>\n",
              "    </tr>\n",
              "    <tr>\n",
              "      <th>164</th>\n",
              "      <td>Stadtmitte</td>\n",
              "      <td>Stadtmitte</td>\n",
              "    </tr>\n",
              "    <tr>\n",
              "      <th>40</th>\n",
              "      <td>Schwabstrasse</td>\n",
              "      <td>Schwabstrasse</td>\n",
              "    </tr>\n",
              "    <tr>\n",
              "      <th>103</th>\n",
              "      <td>Schwabstrasse</td>\n",
              "      <td>Schwabstrasse</td>\n",
              "    </tr>\n",
              "    <tr>\n",
              "      <th>139</th>\n",
              "      <td>University</td>\n",
              "      <td>University</td>\n",
              "    </tr>\n",
              "    <tr>\n",
              "      <th>162</th>\n",
              "      <td>Stadtmitte</td>\n",
              "      <td>Stadtmitte</td>\n",
              "    </tr>\n",
              "    <tr>\n",
              "      <th>116</th>\n",
              "      <td>Schwabstrasse</td>\n",
              "      <td>Schwabstrasse</td>\n",
              "    </tr>\n",
              "    <tr>\n",
              "      <th>93</th>\n",
              "      <td>Feuersee</td>\n",
              "      <td>Feuersee</td>\n",
              "    </tr>\n",
              "    <tr>\n",
              "      <th>65</th>\n",
              "      <td>Stadtmitte</td>\n",
              "      <td>Stadtmitte</td>\n",
              "    </tr>\n",
              "    <tr>\n",
              "      <th>113</th>\n",
              "      <td>Schwabstrasse</td>\n",
              "      <td>Schwabstrasse</td>\n",
              "    </tr>\n",
              "    <tr>\n",
              "      <th>86</th>\n",
              "      <td>Feuersee</td>\n",
              "      <td>Feuersee</td>\n",
              "    </tr>\n",
              "    <tr>\n",
              "      <th>31</th>\n",
              "      <td>Schwabstrasse</td>\n",
              "      <td>Schwabstrasse</td>\n",
              "    </tr>\n",
              "    <tr>\n",
              "      <th>89</th>\n",
              "      <td>Feuersee</td>\n",
              "      <td>Feuersee</td>\n",
              "    </tr>\n",
              "  </tbody>\n",
              "</table>\n",
              "</div>\n",
              "    <div class=\"colab-df-buttons\">\n",
              "\n",
              "  <div class=\"colab-df-container\">\n",
              "    <button class=\"colab-df-convert\" onclick=\"convertToInteractive('df-e1d9ff1e-a0f6-4b7b-bc47-f7f8b2b08e8c')\"\n",
              "            title=\"Convert this dataframe to an interactive table.\"\n",
              "            style=\"display:none;\">\n",
              "\n",
              "  <svg xmlns=\"http://www.w3.org/2000/svg\" height=\"24px\" viewBox=\"0 -960 960 960\">\n",
              "    <path d=\"M120-120v-720h720v720H120Zm60-500h600v-160H180v160Zm220 220h160v-160H400v160Zm0 220h160v-160H400v160ZM180-400h160v-160H180v160Zm440 0h160v-160H620v160ZM180-180h160v-160H180v160Zm440 0h160v-160H620v160Z\"/>\n",
              "  </svg>\n",
              "    </button>\n",
              "\n",
              "  <style>\n",
              "    .colab-df-container {\n",
              "      display:flex;\n",
              "      gap: 12px;\n",
              "    }\n",
              "\n",
              "    .colab-df-convert {\n",
              "      background-color: #E8F0FE;\n",
              "      border: none;\n",
              "      border-radius: 50%;\n",
              "      cursor: pointer;\n",
              "      display: none;\n",
              "      fill: #1967D2;\n",
              "      height: 32px;\n",
              "      padding: 0 0 0 0;\n",
              "      width: 32px;\n",
              "    }\n",
              "\n",
              "    .colab-df-convert:hover {\n",
              "      background-color: #E2EBFA;\n",
              "      box-shadow: 0px 1px 2px rgba(60, 64, 67, 0.3), 0px 1px 3px 1px rgba(60, 64, 67, 0.15);\n",
              "      fill: #174EA6;\n",
              "    }\n",
              "\n",
              "    .colab-df-buttons div {\n",
              "      margin-bottom: 4px;\n",
              "    }\n",
              "\n",
              "    [theme=dark] .colab-df-convert {\n",
              "      background-color: #3B4455;\n",
              "      fill: #D2E3FC;\n",
              "    }\n",
              "\n",
              "    [theme=dark] .colab-df-convert:hover {\n",
              "      background-color: #434B5C;\n",
              "      box-shadow: 0px 1px 3px 1px rgba(0, 0, 0, 0.15);\n",
              "      filter: drop-shadow(0px 1px 2px rgba(0, 0, 0, 0.3));\n",
              "      fill: #FFFFFF;\n",
              "    }\n",
              "  </style>\n",
              "\n",
              "    <script>\n",
              "      const buttonEl =\n",
              "        document.querySelector('#df-e1d9ff1e-a0f6-4b7b-bc47-f7f8b2b08e8c button.colab-df-convert');\n",
              "      buttonEl.style.display =\n",
              "        google.colab.kernel.accessAllowed ? 'block' : 'none';\n",
              "\n",
              "      async function convertToInteractive(key) {\n",
              "        const element = document.querySelector('#df-e1d9ff1e-a0f6-4b7b-bc47-f7f8b2b08e8c');\n",
              "        const dataTable =\n",
              "          await google.colab.kernel.invokeFunction('convertToInteractive',\n",
              "                                                    [key], {});\n",
              "        if (!dataTable) return;\n",
              "\n",
              "        const docLinkHtml = 'Like what you see? Visit the ' +\n",
              "          '<a target=\"_blank\" href=https://colab.research.google.com/notebooks/data_table.ipynb>data table notebook</a>'\n",
              "          + ' to learn more about interactive tables.';\n",
              "        element.innerHTML = '';\n",
              "        dataTable['output_type'] = 'display_data';\n",
              "        await google.colab.output.renderOutput(dataTable, element);\n",
              "        const docLink = document.createElement('div');\n",
              "        docLink.innerHTML = docLinkHtml;\n",
              "        element.appendChild(docLink);\n",
              "      }\n",
              "    </script>\n",
              "  </div>\n",
              "\n",
              "\n",
              "    <div id=\"df-a16d6565-2e0f-4790-ad99-95438d053b7e\">\n",
              "      <button class=\"colab-df-quickchart\" onclick=\"quickchart('df-a16d6565-2e0f-4790-ad99-95438d053b7e')\"\n",
              "                title=\"Suggest charts\"\n",
              "                style=\"display:none;\">\n",
              "\n",
              "<svg xmlns=\"http://www.w3.org/2000/svg\" height=\"24px\"viewBox=\"0 0 24 24\"\n",
              "     width=\"24px\">\n",
              "    <g>\n",
              "        <path d=\"M19 3H5c-1.1 0-2 .9-2 2v14c0 1.1.9 2 2 2h14c1.1 0 2-.9 2-2V5c0-1.1-.9-2-2-2zM9 17H7v-7h2v7zm4 0h-2V7h2v10zm4 0h-2v-4h2v4z\"/>\n",
              "    </g>\n",
              "</svg>\n",
              "      </button>\n",
              "\n",
              "<style>\n",
              "  .colab-df-quickchart {\n",
              "      --bg-color: #E8F0FE;\n",
              "      --fill-color: #1967D2;\n",
              "      --hover-bg-color: #E2EBFA;\n",
              "      --hover-fill-color: #174EA6;\n",
              "      --disabled-fill-color: #AAA;\n",
              "      --disabled-bg-color: #DDD;\n",
              "  }\n",
              "\n",
              "  [theme=dark] .colab-df-quickchart {\n",
              "      --bg-color: #3B4455;\n",
              "      --fill-color: #D2E3FC;\n",
              "      --hover-bg-color: #434B5C;\n",
              "      --hover-fill-color: #FFFFFF;\n",
              "      --disabled-bg-color: #3B4455;\n",
              "      --disabled-fill-color: #666;\n",
              "  }\n",
              "\n",
              "  .colab-df-quickchart {\n",
              "    background-color: var(--bg-color);\n",
              "    border: none;\n",
              "    border-radius: 50%;\n",
              "    cursor: pointer;\n",
              "    display: none;\n",
              "    fill: var(--fill-color);\n",
              "    height: 32px;\n",
              "    padding: 0;\n",
              "    width: 32px;\n",
              "  }\n",
              "\n",
              "  .colab-df-quickchart:hover {\n",
              "    background-color: var(--hover-bg-color);\n",
              "    box-shadow: 0 1px 2px rgba(60, 64, 67, 0.3), 0 1px 3px 1px rgba(60, 64, 67, 0.15);\n",
              "    fill: var(--button-hover-fill-color);\n",
              "  }\n",
              "\n",
              "  .colab-df-quickchart-complete:disabled,\n",
              "  .colab-df-quickchart-complete:disabled:hover {\n",
              "    background-color: var(--disabled-bg-color);\n",
              "    fill: var(--disabled-fill-color);\n",
              "    box-shadow: none;\n",
              "  }\n",
              "\n",
              "  .colab-df-spinner {\n",
              "    border: 2px solid var(--fill-color);\n",
              "    border-color: transparent;\n",
              "    border-bottom-color: var(--fill-color);\n",
              "    animation:\n",
              "      spin 1s steps(1) infinite;\n",
              "  }\n",
              "\n",
              "  @keyframes spin {\n",
              "    0% {\n",
              "      border-color: transparent;\n",
              "      border-bottom-color: var(--fill-color);\n",
              "      border-left-color: var(--fill-color);\n",
              "    }\n",
              "    20% {\n",
              "      border-color: transparent;\n",
              "      border-left-color: var(--fill-color);\n",
              "      border-top-color: var(--fill-color);\n",
              "    }\n",
              "    30% {\n",
              "      border-color: transparent;\n",
              "      border-left-color: var(--fill-color);\n",
              "      border-top-color: var(--fill-color);\n",
              "      border-right-color: var(--fill-color);\n",
              "    }\n",
              "    40% {\n",
              "      border-color: transparent;\n",
              "      border-right-color: var(--fill-color);\n",
              "      border-top-color: var(--fill-color);\n",
              "    }\n",
              "    60% {\n",
              "      border-color: transparent;\n",
              "      border-right-color: var(--fill-color);\n",
              "    }\n",
              "    80% {\n",
              "      border-color: transparent;\n",
              "      border-right-color: var(--fill-color);\n",
              "      border-bottom-color: var(--fill-color);\n",
              "    }\n",
              "    90% {\n",
              "      border-color: transparent;\n",
              "      border-bottom-color: var(--fill-color);\n",
              "    }\n",
              "  }\n",
              "</style>\n",
              "\n",
              "      <script>\n",
              "        async function quickchart(key) {\n",
              "          const quickchartButtonEl =\n",
              "            document.querySelector('#' + key + ' button');\n",
              "          quickchartButtonEl.disabled = true;  // To prevent multiple clicks.\n",
              "          quickchartButtonEl.classList.add('colab-df-spinner');\n",
              "          try {\n",
              "            const charts = await google.colab.kernel.invokeFunction(\n",
              "                'suggestCharts', [key], {});\n",
              "          } catch (error) {\n",
              "            console.error('Error during call to suggestCharts:', error);\n",
              "          }\n",
              "          quickchartButtonEl.classList.remove('colab-df-spinner');\n",
              "          quickchartButtonEl.classList.add('colab-df-quickchart-complete');\n",
              "        }\n",
              "        (() => {\n",
              "          let quickchartButtonEl =\n",
              "            document.querySelector('#df-a16d6565-2e0f-4790-ad99-95438d053b7e button');\n",
              "          quickchartButtonEl.style.display =\n",
              "            google.colab.kernel.accessAllowed ? 'block' : 'none';\n",
              "        })();\n",
              "      </script>\n",
              "    </div>\n",
              "\n",
              "    </div>\n",
              "  </div>\n"
            ],
            "application/vnd.google.colaboratory.intrinsic+json": {
              "type": "dataframe",
              "summary": "{\n  \"name\": \"df_test[['station', 'predictions']]\",\n  \"rows\": 33,\n  \"fields\": [\n    {\n      \"column\": \"station\",\n      \"properties\": {\n        \"dtype\": \"category\",\n        \"num_unique_values\": 4,\n        \"samples\": [\n          \"Stadtmitte\",\n          \"University\",\n          \"Schwabstrasse\"\n        ],\n        \"semantic_type\": \"\",\n        \"description\": \"\"\n      }\n    },\n    {\n      \"column\": \"predictions\",\n      \"properties\": {\n        \"dtype\": \"category\",\n        \"num_unique_values\": 4,\n        \"samples\": [\n          \"Stadtmitte\",\n          \"University\",\n          \"Schwabstrasse\"\n        ],\n        \"semantic_type\": \"\",\n        \"description\": \"\"\n      }\n    }\n  ]\n}"
            }
          },
          "metadata": {},
          "execution_count": 81
        }
      ]
    },
    {
      "cell_type": "code",
      "source": [
        "model_dir = f'{mount}/code/CLIP/models'\n",
        "\n",
        "torch.save({\n",
        "        'model_state_dict': model.state_dict(),\n",
        "        }, f\"{model_dir}/clip_ft_cl{len(station_names)}_ep{num_epochs}_lr{lr}.pt\")"
      ],
      "metadata": {
        "id": "3uBEAxo64Eqp"
      },
      "execution_count": null,
      "outputs": []
    },
    {
      "cell_type": "markdown",
      "source": [
        "## Fine-tuning [HuggingFace]"
      ],
      "metadata": {
        "id": "wdl2hANhUgzH"
      }
    },
    {
      "cell_type": "markdown",
      "source": [
        "Load model"
      ],
      "metadata": {
        "id": "1lALLO8ERwCm"
      }
    },
    {
      "cell_type": "code",
      "source": [
        "model = CLIPModel.from_pretrained(\"openai/clip-vit-base-patch16\", attn_implementation=\"eager\")\n",
        "# model = CLIPModel.from_pretrained(\n",
        "#     f'{model_dir}/clip_ft42_cl5_bs16_ep8_lr1e-05',\n",
        "#     attn_implementation=\"eager\")\n",
        "\n",
        "model.to(device);\n",
        "\n",
        "processor = AutoProcessor.from_pretrained(\"openai/clip-vit-base-patch16\")"
      ],
      "metadata": {
        "id": "JLx1zZmPRqaq"
      },
      "execution_count": null,
      "outputs": []
    },
    {
      "cell_type": "code",
      "source": [
        "station_names"
      ],
      "metadata": {
        "colab": {
          "base_uri": "https://localhost:8080/"
        },
        "id": "ytLjsWIkth4j",
        "outputId": "7be8ff14-0e2f-4474-b462-c8ce47e37274"
      },
      "execution_count": null,
      "outputs": [
        {
          "output_type": "execute_result",
          "data": {
            "text/plain": [
              "['Hauptbahnhof', 'Stadtmitte', 'Feuersee', 'Schwabstrasse', 'University']"
            ]
          },
          "metadata": {},
          "execution_count": 277
        }
      ]
    },
    {
      "cell_type": "markdown",
      "source": [
        "Prepare data"
      ],
      "metadata": {
        "id": "x64eAl-GRyXe"
      }
    },
    {
      "cell_type": "code",
      "source": [
        "prompt = 'A photo of the S-Bahn station \"Stuttgart {}\".'\n",
        "\n",
        "# for inference\n",
        "station_text = [prompt.format(st) for st in station_names]\n",
        "station_text"
      ],
      "metadata": {
        "colab": {
          "base_uri": "https://localhost:8080/"
        },
        "id": "kfIGw1pLe2TY",
        "outputId": "97af7dd1-fced-48f6-dcea-2977316d47cd"
      },
      "execution_count": null,
      "outputs": [
        {
          "output_type": "execute_result",
          "data": {
            "text/plain": [
              "['A photo of the S-Bahn station \"Stuttgart Hauptbahnhof\".',\n",
              " 'A photo of the S-Bahn station \"Stuttgart Stadtmitte\".',\n",
              " 'A photo of the S-Bahn station \"Stuttgart Feuersee\".',\n",
              " 'A photo of the S-Bahn station \"Stuttgart Schwabstrasse\".',\n",
              " 'A photo of the S-Bahn station \"Stuttgart University\".']"
            ]
          },
          "metadata": {},
          "execution_count": 278
        }
      ]
    },
    {
      "cell_type": "code",
      "source": [
        "# df_train = df_train.head(10)  # for sanity checks\n",
        "# df_val = df_val.head(10)  # for sanity checks\n",
        "# df_test = df_test.head(10)  # for sanity checks"
      ],
      "metadata": {
        "id": "O5ILwsjZUuya"
      },
      "execution_count": null,
      "outputs": []
    },
    {
      "cell_type": "code",
      "source": [
        "batch_size = 16 if device == 'cuda' else 16"
      ],
      "metadata": {
        "id": "RRBd_q6MUuyb"
      },
      "execution_count": null,
      "outputs": []
    },
    {
      "cell_type": "code",
      "source": [
        "train_dataset = ImageDataset(data_dir=data_dir, df=df_train,\n",
        "                             transform=processor.image_processor, prompt=prompt)\n",
        "train_dataloader = DataLoader(train_dataset, batch_size=batch_size)\n",
        "\n",
        "val_dataset = ImageDataset(data_dir=data_dir, df=df_val,\n",
        "                           transform=processor.image_processor, prompt=prompt)\n",
        "val_dataloader = DataLoader(val_dataset, batch_size=batch_size)\n",
        "\n",
        "test_dataset = ImageDataset(data_dir=data_dir, df=df_test,\n",
        "                            transform=processor.image_processor, prompt=prompt)\n",
        "test_dataloader = DataLoader(test_dataset, batch_size=batch_size)\n",
        "\n",
        "len(train_dataset), len(val_dataset), len(test_dataset)"
      ],
      "metadata": {
        "colab": {
          "base_uri": "https://localhost:8080/"
        },
        "outputId": "bafbf925-5749-43e1-bd1c-02c2f77decd3",
        "id": "cDno7TUgUuyb"
      },
      "execution_count": null,
      "outputs": [
        {
          "output_type": "execute_result",
          "data": {
            "text/plain": [
              "(151, 22, 43)"
            ]
          },
          "metadata": {},
          "execution_count": 281
        }
      ]
    },
    {
      "cell_type": "markdown",
      "source": [
        "Define loss"
      ],
      "metadata": {
        "id": "UKolmY-hUuyb"
      }
    },
    {
      "cell_type": "code",
      "source": [
        "loss_img = CrossEntropyLoss()\n",
        "loss_txt = CrossEntropyLoss()"
      ],
      "metadata": {
        "id": "2p13gh86Uuyc"
      },
      "execution_count": null,
      "outputs": []
    },
    {
      "cell_type": "markdown",
      "source": [
        "Train function"
      ],
      "metadata": {
        "id": "AB0decLkUuye"
      }
    },
    {
      "cell_type": "code",
      "source": [
        "def do_train(batch):\n",
        "  optimizer.zero_grad()\n",
        "\n",
        "  #TODO: put this into custom dataloader\n",
        "  batch_img = batch[0].to(device)['pixel_values'][0].to(device)\n",
        "  batch_labels = batch[1]\n",
        "  inputs = processor(text=batch_labels, return_tensors=\"pt\", padding=True).to(device)\n",
        "  inputs['pixel_values'] = batch_img\n",
        "\n",
        "  # forward pass\n",
        "  outputs = model(**inputs)\n",
        "  logits_per_image, logits_per_text = outputs.logits_per_image, outputs.logits_per_text\n",
        "\n",
        "  # compute loss\n",
        "  ground_truth = torch.arange(len(batch_img), dtype=torch.long, device=device)\n",
        "  total_loss = (\n",
        "      loss_img(logits_per_image, ground_truth) + \\\n",
        "      loss_txt(logits_per_text, ground_truth)) / 2\n",
        "\n",
        "  # backward pass\n",
        "  total_loss.backward()\n",
        "  optimizer.step()\n",
        "  scheduler.step()\n",
        "\n",
        "  del inputs, batch_img, batch_labels, logits_per_image, logits_per_text, ground_truth\n",
        "\n",
        "  return total_loss.item()"
      ],
      "metadata": {
        "id": "HepiyTxcUuye"
      },
      "execution_count": null,
      "outputs": []
    },
    {
      "cell_type": "markdown",
      "source": [
        "Test function"
      ],
      "metadata": {
        "id": "LchoBMexUuye"
      }
    },
    {
      "cell_type": "code",
      "source": [
        "def do_test(batch):\n",
        "  batch_img = batch[0].to(device)['pixel_values'][0].to(device)\n",
        "  batch_labels = batch[1]\n",
        "  inputs = processor(text=batch_labels, return_tensors=\"pt\", padding=True).to(device)\n",
        "  inputs['pixel_values'] = batch_img\n",
        "\n",
        "  with torch.no_grad():\n",
        "    # compute loss\n",
        "    outputs = model(**inputs)\n",
        "    logits_per_image, logits_per_text = outputs.logits_per_image, outputs.logits_per_text\n",
        "    ground_truth = torch.arange(len(batch_img), dtype=torch.long, device=device)\n",
        "    total_loss = (\n",
        "      loss_img(logits_per_image, ground_truth) + \\\n",
        "      loss_txt(logits_per_text, ground_truth)) / 2\n",
        "\n",
        "    # get predictions\n",
        "    inputs = processor(text=station_text, return_tensors=\"pt\", padding=True).to(device)\n",
        "    inputs['pixel_values'] = batch_img\n",
        "    outputs = model(**inputs)\n",
        "    logits_per_image = outputs.logits_per_image\n",
        "    station_probs = logits_per_image.softmax(dim=-1).cpu().numpy()\n",
        "    pred = [station_names[i] for i in np.argmax(station_probs, axis=1)]\n",
        "\n",
        "  del inputs, batch_img, batch_labels, logits_per_image, logits_per_text, ground_truth\n",
        "\n",
        "  return total_loss.item(), pred"
      ],
      "metadata": {
        "id": "u9-J-VKYUuye"
      },
      "execution_count": null,
      "outputs": []
    },
    {
      "cell_type": "markdown",
      "source": [
        "Set hyperparameters"
      ],
      "metadata": {
        "id": "pdxYrLslUuye"
      }
    },
    {
      "cell_type": "code",
      "source": [
        "num_epochs = 8\n",
        "# early_stop = 3\n",
        "lr = 1e-5\n",
        "\n",
        "optimizer = AdamW(\n",
        "    model.parameters(),\n",
        "    lr=lr,\n",
        "    # weight_decay=0.01\n",
        "    )\n",
        "\n",
        "total_steps = len(train_dataloader) * num_epochs\n",
        "scheduler = get_linear_schedule_with_warmup(optimizer,\n",
        "                                            num_warmup_steps = 0, # Default value in run_glue.py\n",
        "                                            num_training_steps = total_steps)"
      ],
      "metadata": {
        "id": "dzLBvrIsUuyf"
      },
      "execution_count": null,
      "outputs": []
    },
    {
      "cell_type": "markdown",
      "source": [
        "Training loop"
      ],
      "metadata": {
        "id": "zokR2hj1Uuyf"
      }
    },
    {
      "cell_type": "code",
      "source": [
        "train_loss_arr, val_loss_arr, val_acc_arr = [], [], []\n",
        "\n",
        "for epoch in range(num_epochs):\n",
        "    # train\n",
        "    train_loss = 0.0\n",
        "    for batch in tqdm(train_dataloader, total=len(train_dataloader)):\n",
        "        batch_loss = do_train(batch)\n",
        "        train_loss += batch_loss\n",
        "        del batch\n",
        "    train_loss /= len(train_dataset)\n",
        "    print(f\"Epoch {epoch}: Train loss: {train_loss:.4f}\")\n",
        "    train_loss_arr.append(train_loss)\n",
        "\n",
        "    # val\n",
        "    val_pred = []\n",
        "    val_loss = 0.0\n",
        "    for batch in tqdm(val_dataloader, total=len(val_dataloader)):\n",
        "        batch_loss, batch_pred = do_test(batch)\n",
        "        val_pred.extend(batch_pred)\n",
        "        val_loss += batch_loss\n",
        "        del batch\n",
        "\n",
        "    val_acc = accuracy_score(df_val['station'], val_pred)\n",
        "    val_f1 = f1_score(df_val['station'], val_pred, average='macro')\n",
        "    val_loss /= len(val_dataset)\n",
        "    print(f\"Val loss: {val_loss:.4f}, Acc: {val_acc:.3f}, F1: {val_f1:.3f}\")\n",
        "    val_loss_arr.append(val_loss)\n",
        "    val_acc_arr.append(val_acc)\n",
        "\n",
        "    # early stopping\n",
        "    # if epoch == early_stop:\n",
        "      # break\n",
        "\n",
        "    print()"
      ],
      "metadata": {
        "colab": {
          "base_uri": "https://localhost:8080/"
        },
        "outputId": "10444a89-cbc1-450f-dd6f-1818c4982abd",
        "id": "wYiYWP-rUuyf"
      },
      "execution_count": null,
      "outputs": [
        {
          "output_type": "stream",
          "name": "stderr",
          "text": [
            "100%|██████████| 10/10 [00:49<00:00,  4.97s/it]\n"
          ]
        },
        {
          "output_type": "stream",
          "name": "stdout",
          "text": [
            "Epoch 0: Train loss: 0.1754\n"
          ]
        },
        {
          "output_type": "stream",
          "name": "stderr",
          "text": [
            "100%|██████████| 2/2 [00:05<00:00,  2.87s/it]\n"
          ]
        },
        {
          "output_type": "stream",
          "name": "stdout",
          "text": [
            "Val loss: 0.1458, Acc: 0.591, F1: 0.558\n",
            "\n"
          ]
        },
        {
          "output_type": "stream",
          "name": "stderr",
          "text": [
            "100%|██████████| 10/10 [00:50<00:00,  5.09s/it]\n"
          ]
        },
        {
          "output_type": "stream",
          "name": "stdout",
          "text": [
            "Epoch 1: Train loss: 0.1243\n"
          ]
        },
        {
          "output_type": "stream",
          "name": "stderr",
          "text": [
            "100%|██████████| 2/2 [00:07<00:00,  3.69s/it]\n"
          ]
        },
        {
          "output_type": "stream",
          "name": "stdout",
          "text": [
            "Val loss: 0.1314, Acc: 0.591, F1: 0.584\n",
            "\n"
          ]
        },
        {
          "output_type": "stream",
          "name": "stderr",
          "text": [
            "100%|██████████| 10/10 [00:52<00:00,  5.25s/it]\n"
          ]
        },
        {
          "output_type": "stream",
          "name": "stdout",
          "text": [
            "Epoch 2: Train loss: 0.1066\n"
          ]
        },
        {
          "output_type": "stream",
          "name": "stderr",
          "text": [
            "100%|██████████| 2/2 [00:06<00:00,  3.37s/it]\n"
          ]
        },
        {
          "output_type": "stream",
          "name": "stdout",
          "text": [
            "Val loss: 0.1076, Acc: 0.682, F1: 0.685\n",
            "\n"
          ]
        },
        {
          "output_type": "stream",
          "name": "stderr",
          "text": [
            "100%|██████████| 10/10 [00:48<00:00,  4.89s/it]\n"
          ]
        },
        {
          "output_type": "stream",
          "name": "stdout",
          "text": [
            "Epoch 3: Train loss: 0.0928\n"
          ]
        },
        {
          "output_type": "stream",
          "name": "stderr",
          "text": [
            "100%|██████████| 2/2 [00:06<00:00,  3.06s/it]\n"
          ]
        },
        {
          "output_type": "stream",
          "name": "stdout",
          "text": [
            "Val loss: 0.0898, Acc: 1.000, F1: 1.000\n",
            "\n"
          ]
        },
        {
          "output_type": "stream",
          "name": "stderr",
          "text": [
            "100%|██████████| 10/10 [00:50<00:00,  5.01s/it]\n"
          ]
        },
        {
          "output_type": "stream",
          "name": "stdout",
          "text": [
            "Epoch 4: Train loss: 0.0870\n"
          ]
        },
        {
          "output_type": "stream",
          "name": "stderr",
          "text": [
            "100%|██████████| 2/2 [00:05<00:00,  2.86s/it]\n"
          ]
        },
        {
          "output_type": "stream",
          "name": "stdout",
          "text": [
            "Val loss: 0.0909, Acc: 0.909, F1: 0.900\n",
            "\n"
          ]
        },
        {
          "output_type": "stream",
          "name": "stderr",
          "text": [
            "100%|██████████| 10/10 [00:49<00:00,  4.92s/it]\n"
          ]
        },
        {
          "output_type": "stream",
          "name": "stdout",
          "text": [
            "Epoch 5: Train loss: 0.0851\n"
          ]
        },
        {
          "output_type": "stream",
          "name": "stderr",
          "text": [
            "100%|██████████| 2/2 [00:05<00:00,  2.82s/it]\n"
          ]
        },
        {
          "output_type": "stream",
          "name": "stdout",
          "text": [
            "Val loss: 0.0886, Acc: 0.909, F1: 0.900\n",
            "\n"
          ]
        },
        {
          "output_type": "stream",
          "name": "stderr",
          "text": [
            "100%|██████████| 10/10 [00:49<00:00,  4.96s/it]\n"
          ]
        },
        {
          "output_type": "stream",
          "name": "stdout",
          "text": [
            "Epoch 6: Train loss: 0.0842\n"
          ]
        },
        {
          "output_type": "stream",
          "name": "stderr",
          "text": [
            "100%|██████████| 2/2 [00:05<00:00,  2.85s/it]\n"
          ]
        },
        {
          "output_type": "stream",
          "name": "stdout",
          "text": [
            "Val loss: 0.0877, Acc: 0.955, F1: 0.949\n",
            "\n"
          ]
        },
        {
          "output_type": "stream",
          "name": "stderr",
          "text": [
            "100%|██████████| 10/10 [00:50<00:00,  5.05s/it]\n"
          ]
        },
        {
          "output_type": "stream",
          "name": "stdout",
          "text": [
            "Epoch 7: Train loss: 0.0840\n"
          ]
        },
        {
          "output_type": "stream",
          "name": "stderr",
          "text": [
            "100%|██████████| 2/2 [00:06<00:00,  3.04s/it]"
          ]
        },
        {
          "output_type": "stream",
          "name": "stdout",
          "text": [
            "Val loss: 0.0879, Acc: 0.955, F1: 0.949\n",
            "\n"
          ]
        },
        {
          "output_type": "stream",
          "name": "stderr",
          "text": [
            "\n"
          ]
        }
      ]
    },
    {
      "cell_type": "markdown",
      "source": [
        "Loss plot"
      ],
      "metadata": {
        "id": "qqyFnu1FUuyf"
      }
    },
    {
      "cell_type": "code",
      "source": [
        "num_epochs = len(train_loss_arr)  # accounts for early stopping\n",
        "train_stats = pd.DataFrame()\n",
        "train_stats['epoch'] = list(range(num_epochs)) + list(range(num_epochs))\n",
        "train_stats['loss_type'] = ['train'] * num_epochs + ['val'] * num_epochs\n",
        "train_stats['loss_value'] = train_loss_arr + val_loss_arr\n",
        "\n",
        "sns.lineplot(train_stats, x='epoch', y='loss_value', hue='loss_type', marker='o');"
      ],
      "metadata": {
        "colab": {
          "base_uri": "https://localhost:8080/",
          "height": 464
        },
        "outputId": "1a998b39-9a0d-4e3b-cdec-a8faaf05c431",
        "id": "A-jaK5JGUuyg"
      },
      "execution_count": null,
      "outputs": [
        {
          "output_type": "display_data",
          "data": {
            "text/plain": [
              "<Figure size 640x480 with 1 Axes>"
            ],
            "image/png": "[encoded data removed]"
          },
          "metadata": {}
        }
      ]
    },
    {
      "cell_type": "markdown",
      "source": [
        "Testing"
      ],
      "metadata": {
        "id": "uE6YDlxJUuyg"
      }
    },
    {
      "cell_type": "code",
      "source": [
        "test_pred = []\n",
        "test_loss = 0.0\n",
        "\n",
        "for batch in tqdm(test_dataloader, total=len(test_dataloader)):\n",
        "    batch_loss, batch_pred = do_test(batch)\n",
        "    test_pred.extend(batch_pred)\n",
        "    test_loss += batch_loss\n",
        "    del batch\n",
        "\n",
        "df_test['predictions'] = test_pred\n",
        "\n",
        "test_loss /= len(test_dataset)\n",
        "\n",
        "print(f\"Test loss: {test_loss:3f}\")"
      ],
      "metadata": {
        "colab": {
          "base_uri": "https://localhost:8080/"
        },
        "outputId": "91049996-21f8-4d77-a661-907518b8f572",
        "id": "Hu7vItxtUuyg"
      },
      "execution_count": null,
      "outputs": [
        {
          "output_type": "stream",
          "name": "stderr",
          "text": [
            "100%|██████████| 3/3 [00:14<00:00,  4.74s/it]"
          ]
        },
        {
          "output_type": "stream",
          "name": "stdout",
          "text": [
            "Test loss: 0.095820\n"
          ]
        },
        {
          "output_type": "stream",
          "name": "stderr",
          "text": [
            "\n"
          ]
        }
      ]
    },
    {
      "cell_type": "markdown",
      "source": [
        "Calculate metrics"
      ],
      "metadata": {
        "id": "6mmJ3jaEM_4M"
      }
    },
    {
      "cell_type": "code",
      "source": [
        "acc = accuracy_score(df_test['station'], df_test['predictions'])\n",
        "f1 = f1_score(df_test['station'], df_test['predictions'], average='macro')\n",
        "\n",
        "print(f\"Test accuracy: {acc:.3f}\")\n",
        "print(f\"Test F1 macro: {f1:.3f}\")"
      ],
      "metadata": {
        "colab": {
          "base_uri": "https://localhost:8080/"
        },
        "outputId": "52a09ea1-8c77-467a-895a-54201d1da391",
        "id": "hkI5HtcvM_4O"
      },
      "execution_count": null,
      "outputs": [
        {
          "output_type": "stream",
          "name": "stdout",
          "text": [
            "Test accuracy: 1.000\n",
            "Test F1 macro: 1.000\n"
          ]
        }
      ]
    },
    {
      "cell_type": "markdown",
      "source": [
        "Save predictions"
      ],
      "metadata": {
        "id": "EtIaE6kxM_4Q"
      }
    },
    {
      "cell_type": "code",
      "source": [
        "df_test['predictions'].to_csv(\n",
        "  f'{pred_dir}/test_clip_ft{seed_val}_cl{len(station_names)}_bs{batch_size}_ep{num_epochs}_lr{lr}.csv',\n",
        "  index=False)"
      ],
      "metadata": {
        "id": "9xf_pLWKM_4R"
      },
      "execution_count": null,
      "outputs": []
    },
    {
      "cell_type": "markdown",
      "source": [
        "Save model"
      ],
      "metadata": {
        "id": "IFlOtjRaMtPI"
      }
    },
    {
      "cell_type": "code",
      "source": [
        "model.save_pretrained(\n",
        "    f\"{model_dir}/clip_ft{seed_val}_cl{len(station_names)}_bs{batch_size}_ep{num_epochs}_lr{lr}\")"
      ],
      "metadata": {
        "id": "D8Q_hse6Uuyh"
      },
      "execution_count": null,
      "outputs": []
    },
    {
      "cell_type": "markdown",
      "source": [
        "# Test: st. name visible vs masked"
      ],
      "metadata": {
        "id": "Gdl0zM3jhMTQ"
      }
    },
    {
      "cell_type": "code",
      "source": [
        "model = CLIPModel.from_pretrained(\"openai/clip-vit-base-patch16\", attn_implementation=\"eager\")\n",
        "# model = CLIPModel.from_pretrained(\n",
        "#     f'{model_dir}/clip_ft_cl4_bs16_ep8_lr1e-05',\n",
        "#     attn_implementation=\"eager\")\n",
        "\n",
        "model.to(device);\n",
        "\n",
        "processor = AutoProcessor.from_pretrained(\"openai/clip-vit-base-patch16\")"
      ],
      "metadata": {
        "id": "qGqTVuOMhUKU"
      },
      "execution_count": null,
      "outputs": []
    },
    {
      "cell_type": "code",
      "source": [
        "def do_test(batch):\n",
        "  batch_img = batch[0].to(device)['pixel_values'][0].to(device)\n",
        "  batch_labels = batch[1]\n",
        "  inputs = processor(text=batch_labels, return_tensors=\"pt\", padding=True).to(device)\n",
        "  inputs['pixel_values'] = batch_img\n",
        "\n",
        "  with torch.no_grad():\n",
        "    # get predictions\n",
        "    inputs = processor(text=station_text, return_tensors=\"pt\", padding=True).to(device)\n",
        "    inputs['pixel_values'] = batch_img\n",
        "    outputs = model(**inputs)\n",
        "    logits_per_image = outputs.logits_per_image\n",
        "    station_probs = logits_per_image.softmax(dim=-1).cpu().numpy()\n",
        "    pred = [station_names[i] for i in np.argmax(station_probs, axis=1)]\n",
        "\n",
        "  del inputs, batch_img, batch_labels, logits_per_image\n",
        "\n",
        "  return pred"
      ],
      "metadata": {
        "id": "NVpou2W7ikrz"
      },
      "execution_count": null,
      "outputs": []
    },
    {
      "cell_type": "markdown",
      "source": [
        "Prepare data"
      ],
      "metadata": {
        "id": "6-o4C7d6hUKV"
      }
    },
    {
      "cell_type": "code",
      "source": [
        "prompt = 'A photo of the S-Bahn station \"Stuttgart {}\".'\n",
        "\n",
        "# for inference\n",
        "station_text = [prompt.format(st) for st in station_names]\n",
        "station_text"
      ],
      "metadata": {
        "colab": {
          "base_uri": "https://localhost:8080/"
        },
        "outputId": "5cee8e8b-2537-4c86-8832-dc6c9a98496f",
        "id": "9HNpgDgLhUKV"
      },
      "execution_count": null,
      "outputs": [
        {
          "output_type": "execute_result",
          "data": {
            "text/plain": [
              "['A photo of the S-Bahn station \"Stuttgart Hauptbahnhof\".',\n",
              " 'A photo of the S-Bahn station \"Stuttgart Stadtmitte\".',\n",
              " 'A photo of the S-Bahn station \"Stuttgart Feuersee\".',\n",
              " 'A photo of the S-Bahn station \"Stuttgart Schwabstrasse\".',\n",
              " 'A photo of the S-Bahn station \"Stuttgart University\".']"
            ]
          },
          "metadata": {},
          "execution_count": 271
        }
      ]
    },
    {
      "cell_type": "code",
      "source": [
        "batch_size = 16 if device == 'cuda' else 16"
      ],
      "metadata": {
        "id": "wUIcvzKkhUKW"
      },
      "execution_count": null,
      "outputs": []
    },
    {
      "cell_type": "code",
      "source": [
        "test_st_name_dataset = ImageDataset(data_dir=data_dir,\n",
        "                                    df=df_test_st_name,\n",
        "                                    transform=processor.image_processor,\n",
        "                                    prompt=prompt)\n",
        "test_st_name_dataloader = DataLoader(test_st_name_dataset, batch_size=batch_size)\n",
        "\n",
        "test_mask_dataset = ImageDataset(data_dir=data_dir,\n",
        "                                    df=df_test_mask,\n",
        "                                    transform=processor.image_processor,\n",
        "                                    prompt=prompt)\n",
        "test_mask_dataloader = DataLoader(test_mask_dataset, batch_size=batch_size)\n",
        "\n",
        "len(test_st_name_dataset), len(test_mask_dataset)"
      ],
      "metadata": {
        "colab": {
          "base_uri": "https://localhost:8080/"
        },
        "outputId": "ab0069a3-edcb-4f4b-e1a0-6f95062fd27d",
        "id": "v69LKG8OhUKW"
      },
      "execution_count": null,
      "outputs": [
        {
          "output_type": "execute_result",
          "data": {
            "text/plain": [
              "(25, 25)"
            ]
          },
          "metadata": {},
          "execution_count": 294
        }
      ]
    },
    {
      "cell_type": "markdown",
      "source": [
        "Testing"
      ],
      "metadata": {
        "id": "P-Zj4_lSh1Iv"
      }
    },
    {
      "cell_type": "code",
      "source": [
        "test_pred = []\n",
        "\n",
        "for batch in tqdm(test_st_name_dataloader, total=len(test_st_name_dataloader)):\n",
        "    batch_pred = do_test(batch)\n",
        "    test_pred.extend(batch_pred)\n",
        "    del batch\n",
        "\n",
        "df_test_st_name['predictions'] = test_pred\n",
        "\n",
        "acc = accuracy_score(df_test_st_name['station'], df_test_st_name['predictions'])\n",
        "f1 = f1_score(df_test_st_name['station'], df_test_st_name['predictions'], average='macro')\n",
        "\n",
        "print('Station name visible:')\n",
        "print(f\"Test accuracy: {acc:.3f}\")\n",
        "print(f\"Test F1 macro: {f1:.3f}\")\n",
        "print()\n",
        "\n",
        "#=================\n",
        "\n",
        "test_pred = []\n",
        "\n",
        "for batch in tqdm(test_mask_dataloader, total=len(test_mask_dataloader)):\n",
        "    batch_pred = do_test(batch)\n",
        "    test_pred.extend(batch_pred)\n",
        "    del batch\n",
        "\n",
        "df_test_mask['predictions'] = test_pred\n",
        "\n",
        "acc = accuracy_score(df_test_mask['station'], df_test_mask['predictions'])\n",
        "f1 = f1_score(df_test_mask['station'], df_test_mask['predictions'], average='macro')\n",
        "\n",
        "print('Station name masked:')\n",
        "print(f\"Test accuracy: {acc:.3f}\")\n",
        "print(f\"Test F1 macro: {f1:.3f}\")"
      ],
      "metadata": {
        "colab": {
          "base_uri": "https://localhost:8080/"
        },
        "outputId": "d8921287-48d3-4320-dd79-b583558516fc",
        "id": "atO0eN52h1Iw"
      },
      "execution_count": null,
      "outputs": [
        {
          "output_type": "stream",
          "name": "stderr",
          "text": [
            "100%|██████████| 2/2 [00:06<00:00,  3.41s/it]\n"
          ]
        },
        {
          "output_type": "stream",
          "name": "stdout",
          "text": [
            "Station name visible:\n",
            "Test accuracy: 1.000\n",
            "Test F1 macro: 1.000\n",
            "\n"
          ]
        },
        {
          "output_type": "stream",
          "name": "stderr",
          "text": [
            "100%|██████████| 2/2 [00:07<00:00,  3.54s/it]"
          ]
        },
        {
          "output_type": "stream",
          "name": "stdout",
          "text": [
            "Station name masked:\n",
            "Test accuracy: 1.000\n",
            "Test F1 macro: 1.000\n"
          ]
        },
        {
          "output_type": "stream",
          "name": "stderr",
          "text": [
            "\n"
          ]
        }
      ]
    },
    {
      "cell_type": "markdown",
      "source": [
        "Directly compare predictions"
      ],
      "metadata": {
        "id": "4QvDgCt-kMwu"
      }
    },
    {
      "cell_type": "code",
      "source": [
        "df_joint = df_test_st_name[[\n",
        "    'station', 'author', 'file_type', 'filename', 'predictions']].rename(columns={\n",
        "    'predictions': 'st_name_pred'}).merge(\n",
        "        df_test_mask[['filename', 'predictions']].rename(columns={'predictions': 'mask_pred'}),\n",
        "        on='filename')\n",
        "df_joint"
      ],
      "metadata": {
        "colab": {
          "base_uri": "https://localhost:8080/",
          "height": 833
        },
        "id": "PLfjyIfRkKv9",
        "outputId": "3344514e-803f-4db8-fe42-6041e4e47029"
      },
      "execution_count": null,
      "outputs": [
        {
          "output_type": "execute_result",
          "data": {
            "text/plain": [
              "          station  author file_type                                  filename  \\\n",
              "0      University   Beate       raw                       20250519_130403.jpg   \n",
              "1      University   Beate       raw                       20250502_130133.jpg   \n",
              "2   Schwabstrasse   Beate       raw                       20250417_111132.jpg   \n",
              "3      Stadtmitte    Anna       raw                       20250508_133817.jpg   \n",
              "4      University   Beate       raw                       20250520_132914.jpg   \n",
              "5      Stadtmitte   Beate       raw                       20250424_121641.jpg   \n",
              "6      Stadtmitte   Beate       raw                       20250502_113659.jpg   \n",
              "7        Feuersee    Anna       raw                              f_name_1.png   \n",
              "8   Schwabstrasse    Anna       raw                         schwab_name_3.png   \n",
              "9      University    Anna       raw                       20250512_130908.jpg   \n",
              "10  Schwabstrasse    Anna       raw                       20250506_111514.jpg   \n",
              "11     University    Anna       raw                       20250512_130906.jpg   \n",
              "12     Stadtmitte   Beate       raw                       20250424_121648.jpg   \n",
              "13       Feuersee   Beate       raw                       20250502_113818.jpg   \n",
              "14       Feuersee    Anna       raw                       20250513_131937.jpg   \n",
              "15     University   Beate       raw                       20250526_100216.jpg   \n",
              "16     University   Beate       raw                       20250519_130359.jpg   \n",
              "17     University    Anna       raw                       20250519_135516.jpg   \n",
              "18     University    Anna       raw                            uni_name_2.png   \n",
              "19     Stadtmitte  Berkay       raw                             IMG_6696.HEIC   \n",
              "20   Hauptbahnhof  Berkay       raw                             IMG_6871.HEIC   \n",
              "21   Hauptbahnhof  Berkay       raw                             IMG_6867.HEIC   \n",
              "22   Hauptbahnhof  Berkay       raw  5ebb528e-7525-4ec2-96fe-53a426c7f50f.jpg   \n",
              "23   Hauptbahnhof  Berkay       raw                             IMG_6865.HEIC   \n",
              "24   Hauptbahnhof  Berkay       raw  1468dd07-54f5-4e5f-8830-1a7aca5ba146.jpg   \n",
              "\n",
              "     st_name_pred      mask_pred  \n",
              "0      University     University  \n",
              "1      University     University  \n",
              "2    Hauptbahnhof   Hauptbahnhof  \n",
              "3      Stadtmitte     Stadtmitte  \n",
              "4        Feuersee       Feuersee  \n",
              "5      Stadtmitte     Stadtmitte  \n",
              "6    Hauptbahnhof   Hauptbahnhof  \n",
              "7      Stadtmitte     Stadtmitte  \n",
              "8    Hauptbahnhof   Hauptbahnhof  \n",
              "9      University     University  \n",
              "10  Schwabstrasse  Schwabstrasse  \n",
              "11     University     University  \n",
              "12     Stadtmitte     Stadtmitte  \n",
              "13   Hauptbahnhof   Hauptbahnhof  \n",
              "14   Hauptbahnhof   Hauptbahnhof  \n",
              "15       Feuersee       Feuersee  \n",
              "16       Feuersee       Feuersee  \n",
              "17     University     University  \n",
              "18       Feuersee       Feuersee  \n",
              "19       Feuersee       Feuersee  \n",
              "20     Stadtmitte     Stadtmitte  \n",
              "21       Feuersee       Feuersee  \n",
              "22   Hauptbahnhof   Hauptbahnhof  \n",
              "23   Hauptbahnhof   Hauptbahnhof  \n",
              "24     Stadtmitte     Stadtmitte  "
            ],
            "text/html": [
              "\n",
              "  <div id=\"df-67001cb3-6e67-46ab-8ef1-5c1e0732a4f3\" class=\"colab-df-container\">\n",
              "    <div>\n",
              "<style scoped>\n",
              "    .dataframe tbody tr th:only-of-type {\n",
              "        vertical-align: middle;\n",
              "    }\n",
              "\n",
              "    .dataframe tbody tr th {\n",
              "        vertical-align: top;\n",
              "    }\n",
              "\n",
              "    .dataframe thead th {\n",
              "        text-align: right;\n",
              "    }\n",
              "</style>\n",
              "<table border=\"1\" class=\"dataframe\">\n",
              "  <thead>\n",
              "    <tr style=\"text-align: right;\">\n",
              "      <th></th>\n",
              "      <th>station</th>\n",
              "      <th>author</th>\n",
              "      <th>file_type</th>\n",
              "      <th>filename</th>\n",
              "      <th>st_name_pred</th>\n",
              "      <th>mask_pred</th>\n",
              "    </tr>\n",
              "  </thead>\n",
              "  <tbody>\n",
              "    <tr>\n",
              "      <th>0</th>\n",
              "      <td>University</td>\n",
              "      <td>Beate</td>\n",
              "      <td>raw</td>\n",
              "      <td>20250519_130403.jpg</td>\n",
              "      <td>University</td>\n",
              "      <td>University</td>\n",
              "    </tr>\n",
              "    <tr>\n",
              "      <th>1</th>\n",
              "      <td>University</td>\n",
              "      <td>Beate</td>\n",
              "      <td>raw</td>\n",
              "      <td>20250502_130133.jpg</td>\n",
              "      <td>University</td>\n",
              "      <td>University</td>\n",
              "    </tr>\n",
              "    <tr>\n",
              "      <th>2</th>\n",
              "      <td>Schwabstrasse</td>\n",
              "      <td>Beate</td>\n",
              "      <td>raw</td>\n",
              "      <td>20250417_111132.jpg</td>\n",
              "      <td>Hauptbahnhof</td>\n",
              "      <td>Hauptbahnhof</td>\n",
              "    </tr>\n",
              "    <tr>\n",
              "      <th>3</th>\n",
              "      <td>Stadtmitte</td>\n",
              "      <td>Anna</td>\n",
              "      <td>raw</td>\n",
              "      <td>20250508_133817.jpg</td>\n",
              "      <td>Stadtmitte</td>\n",
              "      <td>Stadtmitte</td>\n",
              "    </tr>\n",
              "    <tr>\n",
              "      <th>4</th>\n",
              "      <td>University</td>\n",
              "      <td>Beate</td>\n",
              "      <td>raw</td>\n",
              "      <td>20250520_132914.jpg</td>\n",
              "      <td>Feuersee</td>\n",
              "      <td>Feuersee</td>\n",
              "    </tr>\n",
              "    <tr>\n",
              "      <th>5</th>\n",
              "      <td>Stadtmitte</td>\n",
              "      <td>Beate</td>\n",
              "      <td>raw</td>\n",
              "      <td>20250424_121641.jpg</td>\n",
              "      <td>Stadtmitte</td>\n",
              "      <td>Stadtmitte</td>\n",
              "    </tr>\n",
              "    <tr>\n",
              "      <th>6</th>\n",
              "      <td>Stadtmitte</td>\n",
              "      <td>Beate</td>\n",
              "      <td>raw</td>\n",
              "      <td>20250502_113659.jpg</td>\n",
              "      <td>Hauptbahnhof</td>\n",
              "      <td>Hauptbahnhof</td>\n",
              "    </tr>\n",
              "    <tr>\n",
              "      <th>7</th>\n",
              "      <td>Feuersee</td>\n",
              "      <td>Anna</td>\n",
              "      <td>raw</td>\n",
              "      <td>f_name_1.png</td>\n",
              "      <td>Stadtmitte</td>\n",
              "      <td>Stadtmitte</td>\n",
              "    </tr>\n",
              "    <tr>\n",
              "      <th>8</th>\n",
              "      <td>Schwabstrasse</td>\n",
              "      <td>Anna</td>\n",
              "      <td>raw</td>\n",
              "      <td>schwab_name_3.png</td>\n",
              "      <td>Hauptbahnhof</td>\n",
              "      <td>Hauptbahnhof</td>\n",
              "    </tr>\n",
              "    <tr>\n",
              "      <th>9</th>\n",
              "      <td>University</td>\n",
              "      <td>Anna</td>\n",
              "      <td>raw</td>\n",
              "      <td>20250512_130908.jpg</td>\n",
              "      <td>University</td>\n",
              "      <td>University</td>\n",
              "    </tr>\n",
              "    <tr>\n",
              "      <th>10</th>\n",
              "      <td>Schwabstrasse</td>\n",
              "      <td>Anna</td>\n",
              "      <td>raw</td>\n",
              "      <td>20250506_111514.jpg</td>\n",
              "      <td>Schwabstrasse</td>\n",
              "      <td>Schwabstrasse</td>\n",
              "    </tr>\n",
              "    <tr>\n",
              "      <th>11</th>\n",
              "      <td>University</td>\n",
              "      <td>Anna</td>\n",
              "      <td>raw</td>\n",
              "      <td>20250512_130906.jpg</td>\n",
              "      <td>University</td>\n",
              "      <td>University</td>\n",
              "    </tr>\n",
              "    <tr>\n",
              "      <th>12</th>\n",
              "      <td>Stadtmitte</td>\n",
              "      <td>Beate</td>\n",
              "      <td>raw</td>\n",
              "      <td>20250424_121648.jpg</td>\n",
              "      <td>Stadtmitte</td>\n",
              "      <td>Stadtmitte</td>\n",
              "    </tr>\n",
              "    <tr>\n",
              "      <th>13</th>\n",
              "      <td>Feuersee</td>\n",
              "      <td>Beate</td>\n",
              "      <td>raw</td>\n",
              "      <td>20250502_113818.jpg</td>\n",
              "      <td>Hauptbahnhof</td>\n",
              "      <td>Hauptbahnhof</td>\n",
              "    </tr>\n",
              "    <tr>\n",
              "      <th>14</th>\n",
              "      <td>Feuersee</td>\n",
              "      <td>Anna</td>\n",
              "      <td>raw</td>\n",
              "      <td>20250513_131937.jpg</td>\n",
              "      <td>Hauptbahnhof</td>\n",
              "      <td>Hauptbahnhof</td>\n",
              "    </tr>\n",
              "    <tr>\n",
              "      <th>15</th>\n",
              "      <td>University</td>\n",
              "      <td>Beate</td>\n",
              "      <td>raw</td>\n",
              "      <td>20250526_100216.jpg</td>\n",
              "      <td>Feuersee</td>\n",
              "      <td>Feuersee</td>\n",
              "    </tr>\n",
              "    <tr>\n",
              "      <th>16</th>\n",
              "      <td>University</td>\n",
              "      <td>Beate</td>\n",
              "      <td>raw</td>\n",
              "      <td>20250519_130359.jpg</td>\n",
              "      <td>Feuersee</td>\n",
              "      <td>Feuersee</td>\n",
              "    </tr>\n",
              "    <tr>\n",
              "      <th>17</th>\n",
              "      <td>University</td>\n",
              "      <td>Anna</td>\n",
              "      <td>raw</td>\n",
              "      <td>20250519_135516.jpg</td>\n",
              "      <td>University</td>\n",
              "      <td>University</td>\n",
              "    </tr>\n",
              "    <tr>\n",
              "      <th>18</th>\n",
              "      <td>University</td>\n",
              "      <td>Anna</td>\n",
              "      <td>raw</td>\n",
              "      <td>uni_name_2.png</td>\n",
              "      <td>Feuersee</td>\n",
              "      <td>Feuersee</td>\n",
              "    </tr>\n",
              "    <tr>\n",
              "      <th>19</th>\n",
              "      <td>Stadtmitte</td>\n",
              "      <td>Berkay</td>\n",
              "      <td>raw</td>\n",
              "      <td>IMG_6696.HEIC</td>\n",
              "      <td>Feuersee</td>\n",
              "      <td>Feuersee</td>\n",
              "    </tr>\n",
              "    <tr>\n",
              "      <th>20</th>\n",
              "      <td>Hauptbahnhof</td>\n",
              "      <td>Berkay</td>\n",
              "      <td>raw</td>\n",
              "      <td>IMG_6871.HEIC</td>\n",
              "      <td>Stadtmitte</td>\n",
              "      <td>Stadtmitte</td>\n",
              "    </tr>\n",
              "    <tr>\n",
              "      <th>21</th>\n",
              "      <td>Hauptbahnhof</td>\n",
              "      <td>Berkay</td>\n",
              "      <td>raw</td>\n",
              "      <td>IMG_6867.HEIC</td>\n",
              "      <td>Feuersee</td>\n",
              "      <td>Feuersee</td>\n",
              "    </tr>\n",
              "    <tr>\n",
              "      <th>22</th>\n",
              "      <td>Hauptbahnhof</td>\n",
              "      <td>Berkay</td>\n",
              "      <td>raw</td>\n",
              "      <td>5ebb528e-7525-4ec2-96fe-53a426c7f50f.jpg</td>\n",
              "      <td>Hauptbahnhof</td>\n",
              "      <td>Hauptbahnhof</td>\n",
              "    </tr>\n",
              "    <tr>\n",
              "      <th>23</th>\n",
              "      <td>Hauptbahnhof</td>\n",
              "      <td>Berkay</td>\n",
              "      <td>raw</td>\n",
              "      <td>IMG_6865.HEIC</td>\n",
              "      <td>Hauptbahnhof</td>\n",
              "      <td>Hauptbahnhof</td>\n",
              "    </tr>\n",
              "    <tr>\n",
              "      <th>24</th>\n",
              "      <td>Hauptbahnhof</td>\n",
              "      <td>Berkay</td>\n",
              "      <td>raw</td>\n",
              "      <td>1468dd07-54f5-4e5f-8830-1a7aca5ba146.jpg</td>\n",
              "      <td>Stadtmitte</td>\n",
              "      <td>Stadtmitte</td>\n",
              "    </tr>\n",
              "  </tbody>\n",
              "</table>\n",
              "</div>\n",
              "    <div class=\"colab-df-buttons\">\n",
              "\n",
              "  <div class=\"colab-df-container\">\n",
              "    <button class=\"colab-df-convert\" onclick=\"convertToInteractive('df-67001cb3-6e67-46ab-8ef1-5c1e0732a4f3')\"\n",
              "            title=\"Convert this dataframe to an interactive table.\"\n",
              "            style=\"display:none;\">\n",
              "\n",
              "  <svg xmlns=\"http://www.w3.org/2000/svg\" height=\"24px\" viewBox=\"0 -960 960 960\">\n",
              "    <path d=\"M120-120v-720h720v720H120Zm60-500h600v-160H180v160Zm220 220h160v-160H400v160Zm0 220h160v-160H400v160ZM180-400h160v-160H180v160Zm440 0h160v-160H620v160ZM180-180h160v-160H180v160Zm440 0h160v-160H620v160Z\"/>\n",
              "  </svg>\n",
              "    </button>\n",
              "\n",
              "  <style>\n",
              "    .colab-df-container {\n",
              "      display:flex;\n",
              "      gap: 12px;\n",
              "    }\n",
              "\n",
              "    .colab-df-convert {\n",
              "      background-color: #E8F0FE;\n",
              "      border: none;\n",
              "      border-radius: 50%;\n",
              "      cursor: pointer;\n",
              "      display: none;\n",
              "      fill: #1967D2;\n",
              "      height: 32px;\n",
              "      padding: 0 0 0 0;\n",
              "      width: 32px;\n",
              "    }\n",
              "\n",
              "    .colab-df-convert:hover {\n",
              "      background-color: #E2EBFA;\n",
              "      box-shadow: 0px 1px 2px rgba(60, 64, 67, 0.3), 0px 1px 3px 1px rgba(60, 64, 67, 0.15);\n",
              "      fill: #174EA6;\n",
              "    }\n",
              "\n",
              "    .colab-df-buttons div {\n",
              "      margin-bottom: 4px;\n",
              "    }\n",
              "\n",
              "    [theme=dark] .colab-df-convert {\n",
              "      background-color: #3B4455;\n",
              "      fill: #D2E3FC;\n",
              "    }\n",
              "\n",
              "    [theme=dark] .colab-df-convert:hover {\n",
              "      background-color: #434B5C;\n",
              "      box-shadow: 0px 1px 3px 1px rgba(0, 0, 0, 0.15);\n",
              "      filter: drop-shadow(0px 1px 2px rgba(0, 0, 0, 0.3));\n",
              "      fill: #FFFFFF;\n",
              "    }\n",
              "  </style>\n",
              "\n",
              "    <script>\n",
              "      const buttonEl =\n",
              "        document.querySelector('#df-67001cb3-6e67-46ab-8ef1-5c1e0732a4f3 button.colab-df-convert');\n",
              "      buttonEl.style.display =\n",
              "        google.colab.kernel.accessAllowed ? 'block' : 'none';\n",
              "\n",
              "      async function convertToInteractive(key) {\n",
              "        const element = document.querySelector('#df-67001cb3-6e67-46ab-8ef1-5c1e0732a4f3');\n",
              "        const dataTable =\n",
              "          await google.colab.kernel.invokeFunction('convertToInteractive',\n",
              "                                                    [key], {});\n",
              "        if (!dataTable) return;\n",
              "\n",
              "        const docLinkHtml = 'Like what you see? Visit the ' +\n",
              "          '<a target=\"_blank\" href=https://colab.research.google.com/notebooks/data_table.ipynb>data table notebook</a>'\n",
              "          + ' to learn more about interactive tables.';\n",
              "        element.innerHTML = '';\n",
              "        dataTable['output_type'] = 'display_data';\n",
              "        await google.colab.output.renderOutput(dataTable, element);\n",
              "        const docLink = document.createElement('div');\n",
              "        docLink.innerHTML = docLinkHtml;\n",
              "        element.appendChild(docLink);\n",
              "      }\n",
              "    </script>\n",
              "  </div>\n",
              "\n",
              "\n",
              "    <div id=\"df-807bc47e-027c-49a4-864a-e51f5bda78fc\">\n",
              "      <button class=\"colab-df-quickchart\" onclick=\"quickchart('df-807bc47e-027c-49a4-864a-e51f5bda78fc')\"\n",
              "                title=\"Suggest charts\"\n",
              "                style=\"display:none;\">\n",
              "\n",
              "<svg xmlns=\"http://www.w3.org/2000/svg\" height=\"24px\"viewBox=\"0 0 24 24\"\n",
              "     width=\"24px\">\n",
              "    <g>\n",
              "        <path d=\"M19 3H5c-1.1 0-2 .9-2 2v14c0 1.1.9 2 2 2h14c1.1 0 2-.9 2-2V5c0-1.1-.9-2-2-2zM9 17H7v-7h2v7zm4 0h-2V7h2v10zm4 0h-2v-4h2v4z\"/>\n",
              "    </g>\n",
              "</svg>\n",
              "      </button>\n",
              "\n",
              "<style>\n",
              "  .colab-df-quickchart {\n",
              "      --bg-color: #E8F0FE;\n",
              "      --fill-color: #1967D2;\n",
              "      --hover-bg-color: #E2EBFA;\n",
              "      --hover-fill-color: #174EA6;\n",
              "      --disabled-fill-color: #AAA;\n",
              "      --disabled-bg-color: #DDD;\n",
              "  }\n",
              "\n",
              "  [theme=dark] .colab-df-quickchart {\n",
              "      --bg-color: #3B4455;\n",
              "      --fill-color: #D2E3FC;\n",
              "      --hover-bg-color: #434B5C;\n",
              "      --hover-fill-color: #FFFFFF;\n",
              "      --disabled-bg-color: #3B4455;\n",
              "      --disabled-fill-color: #666;\n",
              "  }\n",
              "\n",
              "  .colab-df-quickchart {\n",
              "    background-color: var(--bg-color);\n",
              "    border: none;\n",
              "    border-radius: 50%;\n",
              "    cursor: pointer;\n",
              "    display: none;\n",
              "    fill: var(--fill-color);\n",
              "    height: 32px;\n",
              "    padding: 0;\n",
              "    width: 32px;\n",
              "  }\n",
              "\n",
              "  .colab-df-quickchart:hover {\n",
              "    background-color: var(--hover-bg-color);\n",
              "    box-shadow: 0 1px 2px rgba(60, 64, 67, 0.3), 0 1px 3px 1px rgba(60, 64, 67, 0.15);\n",
              "    fill: var(--button-hover-fill-color);\n",
              "  }\n",
              "\n",
              "  .colab-df-quickchart-complete:disabled,\n",
              "  .colab-df-quickchart-complete:disabled:hover {\n",
              "    background-color: var(--disabled-bg-color);\n",
              "    fill: var(--disabled-fill-color);\n",
              "    box-shadow: none;\n",
              "  }\n",
              "\n",
              "  .colab-df-spinner {\n",
              "    border: 2px solid var(--fill-color);\n",
              "    border-color: transparent;\n",
              "    border-bottom-color: var(--fill-color);\n",
              "    animation:\n",
              "      spin 1s steps(1) infinite;\n",
              "  }\n",
              "\n",
              "  @keyframes spin {\n",
              "    0% {\n",
              "      border-color: transparent;\n",
              "      border-bottom-color: var(--fill-color);\n",
              "      border-left-color: var(--fill-color);\n",
              "    }\n",
              "    20% {\n",
              "      border-color: transparent;\n",
              "      border-left-color: var(--fill-color);\n",
              "      border-top-color: var(--fill-color);\n",
              "    }\n",
              "    30% {\n",
              "      border-color: transparent;\n",
              "      border-left-color: var(--fill-color);\n",
              "      border-top-color: var(--fill-color);\n",
              "      border-right-color: var(--fill-color);\n",
              "    }\n",
              "    40% {\n",
              "      border-color: transparent;\n",
              "      border-right-color: var(--fill-color);\n",
              "      border-top-color: var(--fill-color);\n",
              "    }\n",
              "    60% {\n",
              "      border-color: transparent;\n",
              "      border-right-color: var(--fill-color);\n",
              "    }\n",
              "    80% {\n",
              "      border-color: transparent;\n",
              "      border-right-color: var(--fill-color);\n",
              "      border-bottom-color: var(--fill-color);\n",
              "    }\n",
              "    90% {\n",
              "      border-color: transparent;\n",
              "      border-bottom-color: var(--fill-color);\n",
              "    }\n",
              "  }\n",
              "</style>\n",
              "\n",
              "      <script>\n",
              "        async function quickchart(key) {\n",
              "          const quickchartButtonEl =\n",
              "            document.querySelector('#' + key + ' button');\n",
              "          quickchartButtonEl.disabled = true;  // To prevent multiple clicks.\n",
              "          quickchartButtonEl.classList.add('colab-df-spinner');\n",
              "          try {\n",
              "            const charts = await google.colab.kernel.invokeFunction(\n",
              "                'suggestCharts', [key], {});\n",
              "          } catch (error) {\n",
              "            console.error('Error during call to suggestCharts:', error);\n",
              "          }\n",
              "          quickchartButtonEl.classList.remove('colab-df-spinner');\n",
              "          quickchartButtonEl.classList.add('colab-df-quickchart-complete');\n",
              "        }\n",
              "        (() => {\n",
              "          let quickchartButtonEl =\n",
              "            document.querySelector('#df-807bc47e-027c-49a4-864a-e51f5bda78fc button');\n",
              "          quickchartButtonEl.style.display =\n",
              "            google.colab.kernel.accessAllowed ? 'block' : 'none';\n",
              "        })();\n",
              "      </script>\n",
              "    </div>\n",
              "\n",
              "  <div id=\"id_9c9cf23e-878b-4a80-a213-0d1e9309eb57\">\n",
              "    <style>\n",
              "      .colab-df-generate {\n",
              "        background-color: #E8F0FE;\n",
              "        border: none;\n",
              "        border-radius: 50%;\n",
              "        cursor: pointer;\n",
              "        display: none;\n",
              "        fill: #1967D2;\n",
              "        height: 32px;\n",
              "        padding: 0 0 0 0;\n",
              "        width: 32px;\n",
              "      }\n",
              "\n",
              "      .colab-df-generate:hover {\n",
              "        background-color: #E2EBFA;\n",
              "        box-shadow: 0px 1px 2px rgba(60, 64, 67, 0.3), 0px 1px 3px 1px rgba(60, 64, 67, 0.15);\n",
              "        fill: #174EA6;\n",
              "      }\n",
              "\n",
              "      [theme=dark] .colab-df-generate {\n",
              "        background-color: #3B4455;\n",
              "        fill: #D2E3FC;\n",
              "      }\n",
              "\n",
              "      [theme=dark] .colab-df-generate:hover {\n",
              "        background-color: #434B5C;\n",
              "        box-shadow: 0px 1px 3px 1px rgba(0, 0, 0, 0.15);\n",
              "        filter: drop-shadow(0px 1px 2px rgba(0, 0, 0, 0.3));\n",
              "        fill: #FFFFFF;\n",
              "      }\n",
              "    </style>\n",
              "    <button class=\"colab-df-generate\" onclick=\"generateWithVariable('df_joint')\"\n",
              "            title=\"Generate code using this dataframe.\"\n",
              "            style=\"display:none;\">\n",
              "\n",
              "  <svg xmlns=\"http://www.w3.org/2000/svg\" height=\"24px\"viewBox=\"0 0 24 24\"\n",
              "       width=\"24px\">\n",
              "    <path d=\"M7,19H8.4L18.45,9,17,7.55,7,17.6ZM5,21V16.75L18.45,3.32a2,2,0,0,1,2.83,0l1.4,1.43a1.91,1.91,0,0,1,.58,1.4,1.91,1.91,0,0,1-.58,1.4L9.25,21ZM18.45,9,17,7.55Zm-12,3A5.31,5.31,0,0,0,4.9,8.1,5.31,5.31,0,0,0,1,6.5,5.31,5.31,0,0,0,4.9,4.9,5.31,5.31,0,0,0,6.5,1,5.31,5.31,0,0,0,8.1,4.9,5.31,5.31,0,0,0,12,6.5,5.46,5.46,0,0,0,6.5,12Z\"/>\n",
              "  </svg>\n",
              "    </button>\n",
              "    <script>\n",
              "      (() => {\n",
              "      const buttonEl =\n",
              "        document.querySelector('#id_9c9cf23e-878b-4a80-a213-0d1e9309eb57 button.colab-df-generate');\n",
              "      buttonEl.style.display =\n",
              "        google.colab.kernel.accessAllowed ? 'block' : 'none';\n",
              "\n",
              "      buttonEl.onclick = () => {\n",
              "        google.colab.notebook.generateWithVariable('df_joint');\n",
              "      }\n",
              "      })();\n",
              "    </script>\n",
              "  </div>\n",
              "\n",
              "    </div>\n",
              "  </div>\n"
            ],
            "application/vnd.google.colaboratory.intrinsic+json": {
              "type": "dataframe",
              "variable_name": "df_joint",
              "summary": "{\n  \"name\": \"df_joint\",\n  \"rows\": 25,\n  \"fields\": [\n    {\n      \"column\": \"station\",\n      \"properties\": {\n        \"dtype\": \"category\",\n        \"num_unique_values\": 5,\n        \"samples\": [\n          \"Schwabstrasse\",\n          \"Hauptbahnhof\",\n          \"Stadtmitte\"\n        ],\n        \"semantic_type\": \"\",\n        \"description\": \"\"\n      }\n    },\n    {\n      \"column\": \"author\",\n      \"properties\": {\n        \"dtype\": \"category\",\n        \"num_unique_values\": 3,\n        \"samples\": [\n          \"Beate\",\n          \"Anna\",\n          \"Berkay\"\n        ],\n        \"semantic_type\": \"\",\n        \"description\": \"\"\n      }\n    },\n    {\n      \"column\": \"file_type\",\n      \"properties\": {\n        \"dtype\": \"category\",\n        \"num_unique_values\": 1,\n        \"samples\": [\n          \"raw\"\n        ],\n        \"semantic_type\": \"\",\n        \"description\": \"\"\n      }\n    },\n    {\n      \"column\": \"filename\",\n      \"properties\": {\n        \"dtype\": \"string\",\n        \"num_unique_values\": 25,\n        \"samples\": [\n          \"schwab_name_3.png\"\n        ],\n        \"semantic_type\": \"\",\n        \"description\": \"\"\n      }\n    },\n    {\n      \"column\": \"st_name_pred\",\n      \"properties\": {\n        \"dtype\": \"category\",\n        \"num_unique_values\": 5,\n        \"samples\": [\n          \"Hauptbahnhof\"\n        ],\n        \"semantic_type\": \"\",\n        \"description\": \"\"\n      }\n    },\n    {\n      \"column\": \"mask_pred\",\n      \"properties\": {\n        \"dtype\": \"category\",\n        \"num_unique_values\": 5,\n        \"samples\": [\n          \"Hauptbahnhof\"\n        ],\n        \"semantic_type\": \"\",\n        \"description\": \"\"\n      }\n    }\n  ]\n}"
            }
          },
          "metadata": {},
          "execution_count": 248
        }
      ]
    },
    {
      "cell_type": "code",
      "source": [
        "df_joint[df_joint['st_name_pred'] != df_joint['mask_pred']]"
      ],
      "metadata": {
        "colab": {
          "base_uri": "https://localhost:8080/",
          "height": 53
        },
        "id": "31KH2A3ZkYJE",
        "outputId": "89e0b727-c1e9-4601-d133-a5a808356fed"
      },
      "execution_count": null,
      "outputs": [
        {
          "output_type": "execute_result",
          "data": {
            "text/plain": [
              "Empty DataFrame\n",
              "Columns: [station, author, file_type, filename, st_name_pred, mask_pred]\n",
              "Index: []"
            ],
            "text/html": [
              "\n",
              "  <div id=\"df-8eaa39e5-c32a-453f-94a6-3f66f83c3c26\" class=\"colab-df-container\">\n",
              "    <div>\n",
              "<style scoped>\n",
              "    .dataframe tbody tr th:only-of-type {\n",
              "        vertical-align: middle;\n",
              "    }\n",
              "\n",
              "    .dataframe tbody tr th {\n",
              "        vertical-align: top;\n",
              "    }\n",
              "\n",
              "    .dataframe thead th {\n",
              "        text-align: right;\n",
              "    }\n",
              "</style>\n",
              "<table border=\"1\" class=\"dataframe\">\n",
              "  <thead>\n",
              "    <tr style=\"text-align: right;\">\n",
              "      <th></th>\n",
              "      <th>station</th>\n",
              "      <th>author</th>\n",
              "      <th>file_type</th>\n",
              "      <th>filename</th>\n",
              "      <th>st_name_pred</th>\n",
              "      <th>mask_pred</th>\n",
              "    </tr>\n",
              "  </thead>\n",
              "  <tbody>\n",
              "  </tbody>\n",
              "</table>\n",
              "</div>\n",
              "    <div class=\"colab-df-buttons\">\n",
              "\n",
              "  <div class=\"colab-df-container\">\n",
              "    <button class=\"colab-df-convert\" onclick=\"convertToInteractive('df-8eaa39e5-c32a-453f-94a6-3f66f83c3c26')\"\n",
              "            title=\"Convert this dataframe to an interactive table.\"\n",
              "            style=\"display:none;\">\n",
              "\n",
              "  <svg xmlns=\"http://www.w3.org/2000/svg\" height=\"24px\" viewBox=\"0 -960 960 960\">\n",
              "    <path d=\"M120-120v-720h720v720H120Zm60-500h600v-160H180v160Zm220 220h160v-160H400v160Zm0 220h160v-160H400v160ZM180-400h160v-160H180v160Zm440 0h160v-160H620v160ZM180-180h160v-160H180v160Zm440 0h160v-160H620v160Z\"/>\n",
              "  </svg>\n",
              "    </button>\n",
              "\n",
              "  <style>\n",
              "    .colab-df-container {\n",
              "      display:flex;\n",
              "      gap: 12px;\n",
              "    }\n",
              "\n",
              "    .colab-df-convert {\n",
              "      background-color: #E8F0FE;\n",
              "      border: none;\n",
              "      border-radius: 50%;\n",
              "      cursor: pointer;\n",
              "      display: none;\n",
              "      fill: #1967D2;\n",
              "      height: 32px;\n",
              "      padding: 0 0 0 0;\n",
              "      width: 32px;\n",
              "    }\n",
              "\n",
              "    .colab-df-convert:hover {\n",
              "      background-color: #E2EBFA;\n",
              "      box-shadow: 0px 1px 2px rgba(60, 64, 67, 0.3), 0px 1px 3px 1px rgba(60, 64, 67, 0.15);\n",
              "      fill: #174EA6;\n",
              "    }\n",
              "\n",
              "    .colab-df-buttons div {\n",
              "      margin-bottom: 4px;\n",
              "    }\n",
              "\n",
              "    [theme=dark] .colab-df-convert {\n",
              "      background-color: #3B4455;\n",
              "      fill: #D2E3FC;\n",
              "    }\n",
              "\n",
              "    [theme=dark] .colab-df-convert:hover {\n",
              "      background-color: #434B5C;\n",
              "      box-shadow: 0px 1px 3px 1px rgba(0, 0, 0, 0.15);\n",
              "      filter: drop-shadow(0px 1px 2px rgba(0, 0, 0, 0.3));\n",
              "      fill: #FFFFFF;\n",
              "    }\n",
              "  </style>\n",
              "\n",
              "    <script>\n",
              "      const buttonEl =\n",
              "        document.querySelector('#df-8eaa39e5-c32a-453f-94a6-3f66f83c3c26 button.colab-df-convert');\n",
              "      buttonEl.style.display =\n",
              "        google.colab.kernel.accessAllowed ? 'block' : 'none';\n",
              "\n",
              "      async function convertToInteractive(key) {\n",
              "        const element = document.querySelector('#df-8eaa39e5-c32a-453f-94a6-3f66f83c3c26');\n",
              "        const dataTable =\n",
              "          await google.colab.kernel.invokeFunction('convertToInteractive',\n",
              "                                                    [key], {});\n",
              "        if (!dataTable) return;\n",
              "\n",
              "        const docLinkHtml = 'Like what you see? Visit the ' +\n",
              "          '<a target=\"_blank\" href=https://colab.research.google.com/notebooks/data_table.ipynb>data table notebook</a>'\n",
              "          + ' to learn more about interactive tables.';\n",
              "        element.innerHTML = '';\n",
              "        dataTable['output_type'] = 'display_data';\n",
              "        await google.colab.output.renderOutput(dataTable, element);\n",
              "        const docLink = document.createElement('div');\n",
              "        docLink.innerHTML = docLinkHtml;\n",
              "        element.appendChild(docLink);\n",
              "      }\n",
              "    </script>\n",
              "  </div>\n",
              "\n",
              "\n",
              "    </div>\n",
              "  </div>\n"
            ],
            "application/vnd.google.colaboratory.intrinsic+json": {
              "type": "dataframe",
              "repr_error": "Out of range float values are not JSON compliant: nan"
            }
          },
          "metadata": {},
          "execution_count": 249
        }
      ]
    },
    {
      "cell_type": "markdown",
      "source": [
        "Save predictions"
      ],
      "metadata": {
        "id": "u-B_7j5Hh1Iy"
      }
    },
    {
      "cell_type": "code",
      "source": [
        "df_test_st_name['predictions'].to_csv(\n",
        "    f'{pred_dir}/test_st_name_clip_ft{seed_val}_cl4_bs16_ep8_lr1e-05.csv',\n",
        "    index=False)\n",
        "\n",
        "df_test_mask['predictions'].to_csv(\n",
        "    f'{pred_dir}/test_mask_clip_ft{seed_val}_cl4_bs16_ep8_lr1e-05.csv',\n",
        "    index=False)"
      ],
      "metadata": {
        "id": "TFWWGN8Dh1Iy"
      },
      "execution_count": null,
      "outputs": []
    },
    {
      "cell_type": "markdown",
      "source": [
        "# Cross-validation"
      ],
      "metadata": {
        "id": "FV5ta-OzxgPI"
      }
    },
    {
      "cell_type": "markdown",
      "source": [
        "## Split data for cross-validation\n",
        "* train: 70%\n",
        "* val: 10%\n",
        "* test: 20%"
      ],
      "metadata": {
        "id": "dSS8Fuq3oEFd"
      }
    },
    {
      "cell_type": "code",
      "source": [
        "# for now!\n",
        "# df = df.head(20)"
      ],
      "metadata": {
        "id": "z-SPnOh67CiJ"
      },
      "execution_count": null,
      "outputs": []
    },
    {
      "cell_type": "code",
      "source": [
        "n_splits = 5  # test 20%\n",
        "val_size = round(df.shape[0] * 0.1)  # val 10%\n",
        "\n",
        "kf = KFold(n_splits=n_splits, shuffle=True, random_state=seed_val)\n",
        "kf_ind_lookup = dict()\n",
        "\n",
        "for i, (train_index, test_index) in enumerate(kf.split(df)):\n",
        "    train_index, val_index = train_test_split(train_index, test_size=val_size)\n",
        "    kf_ind_lookup[i] = {\n",
        "        'train': train_index,\n",
        "        'val': val_index,\n",
        "        'test': test_index\n",
        "    }\n",
        "\n",
        "kf_ind_lookup[0]"
      ],
      "metadata": {
        "colab": {
          "base_uri": "https://localhost:8080/"
        },
        "id": "_6wPEDXOuxJF",
        "outputId": "52a599dc-02c1-4c1f-b2dd-c423c42ec14a"
      },
      "execution_count": null,
      "outputs": [
        {
          "output_type": "execute_result",
          "data": {
            "text/plain": [
              "{'train': array([ 91,  93,  23,  34,  94, 142,  56,  12,  49, 151,   6, 115, 108,\n",
              "        146,  79, 143, 105,  51, 110,  62,  67, 150,  63, 127,  36, 159,\n",
              "         28,  58, 156,   3, 133,  80, 152, 171, 101,  66, 158,  41,  33,\n",
              "         45, 104,  96, 129, 161,  60,  77, 126, 147,   5, 169, 134,  30,\n",
              "         20,  27,  65,  73, 121,  87,  59,  22,   4, 160,  44, 155,  46,\n",
              "        123, 120,  50,  29,  78,  25,  99, 100, 138,  18, 144, 107,  90,\n",
              "        125, 137, 157,  83,  55, 164, 167, 163, 113,  54,  92, 165,  13,\n",
              "         95,  21,  82,  84, 141,  52, 172,  40, 130, 111,  15,   8, 128,\n",
              "         68,  74, 122,   2,  61, 149,  31,  39,  75,  89, 153,  43,   7,\n",
              "        131,  88, 114,  24]),\n",
              " 'val': array([ 10,  32,  17, 117, 145,  57,  72,  26, 170,  14,  35,  38,  47,\n",
              "         85,   1,  53,  98]),\n",
              " 'test': array([  0,   9,  11,  16,  19,  37,  42,  48,  64,  69,  70,  71,  76,\n",
              "         81,  86,  97, 102, 103, 106, 109, 112, 116, 118, 119, 124, 132,\n",
              "        135, 136, 139, 140, 148, 154, 162, 166, 168])}"
            ]
          },
          "metadata": {},
          "execution_count": 41
        }
      ]
    },
    {
      "cell_type": "markdown",
      "source": [
        "## Helper functions"
      ],
      "metadata": {
        "id": "4F4DyvKPym7O"
      }
    },
    {
      "cell_type": "markdown",
      "source": [
        "Get dataloaders for given data split"
      ],
      "metadata": {
        "id": "bUkR-LqV6veK"
      }
    },
    {
      "cell_type": "code",
      "source": [
        "def get_dataloaders(kf_i):\n",
        "  df_train = df.iloc[kf_ind_lookup[kf_i]['train']]\n",
        "  train_dataset = ImageDataset(data_dir=data_dir, df=df_train, transform=preprocess)\n",
        "  train_dataloader = DataLoader(train_dataset, batch_size=batch_size)\n",
        "\n",
        "  df_val = df.iloc[kf_ind_lookup[kf_i]['val']]\n",
        "  val_dataset = ImageDataset(data_dir=data_dir, df=df_val, transform=preprocess)\n",
        "  val_dataloader = DataLoader(val_dataset, batch_size=batch_size)\n",
        "\n",
        "  df_test = df.iloc[kf_ind_lookup[kf_i]['test']]\n",
        "  test_dataset = ImageDataset(data_dir=data_dir, df=df_test, transform=preprocess)\n",
        "  test_dataloader = DataLoader(test_dataset, batch_size=batch_size)\n",
        "\n",
        "  return df_train, train_dataloader, \\\n",
        "    df_val, val_dataloader, \\\n",
        "    df_test, test_dataloader"
      ],
      "metadata": {
        "id": "UumSqk05yp79"
      },
      "execution_count": null,
      "outputs": []
    },
    {
      "cell_type": "markdown",
      "source": [
        "Do the whole training loop"
      ],
      "metadata": {
        "id": "wSQwlDzi6yyu"
      }
    },
    {
      "cell_type": "code",
      "source": [
        "def do_training_loop(df_train, train_dataloader, df_val, val_dataloader):\n",
        "  train_loss_arr, val_loss_arr, val_acc_arr = [], [], []\n",
        "\n",
        "  for epoch in range(num_epochs):\n",
        "      # train\n",
        "      train_loss = 0.0\n",
        "      for batch in tqdm(train_dataloader, total=len(train_dataloader)):\n",
        "          batch_loss = do_train(batch)\n",
        "          train_loss += batch_loss\n",
        "          del batch\n",
        "      train_loss /= df_train.shape[0]\n",
        "      print(f\"Epoch {epoch}: Train loss: {train_loss:.4f}\")\n",
        "      train_loss_arr.append(train_loss)\n",
        "\n",
        "      # val\n",
        "      val_pred = []\n",
        "      val_loss = 0.0\n",
        "      for batch in tqdm(val_dataloader, total=len(val_dataloader)):\n",
        "          batch_loss, batch_pred = do_test(batch)\n",
        "          val_pred.extend(batch_pred)\n",
        "          val_loss += batch_loss\n",
        "          del batch\n",
        "\n",
        "      val_acc = accuracy_score(df_val['station'], val_pred)\n",
        "      val_loss /= df_val.shape[0]\n",
        "      print(f\"Val loss: {val_loss:.4f}, Acc: {val_acc:.3f}\")\n",
        "      val_loss_arr.append(val_loss)\n",
        "      val_acc_arr.append(val_acc)\n",
        "\n",
        "  print()\n",
        "\n",
        "  return train_loss_arr, val_loss_arr, val_acc_arr"
      ],
      "metadata": {
        "id": "rBSxGyc00CO8"
      },
      "execution_count": null,
      "outputs": []
    },
    {
      "cell_type": "markdown",
      "source": [
        "Do the whole testing procedure"
      ],
      "metadata": {
        "id": "uiR4Iazm61NH"
      }
    },
    {
      "cell_type": "code",
      "source": [
        "def do_test_loop(df_test, test_dataloader):\n",
        "  test_pred = []\n",
        "  test_loss = 0.0\n",
        "\n",
        "  for batch in tqdm(test_dataloader, total=len(test_dataloader)):\n",
        "      batch_loss, batch_pred = do_test(batch)\n",
        "      test_pred.extend(batch_pred)\n",
        "      test_loss += batch_loss\n",
        "      del batch\n",
        "\n",
        "  df_test['predictions'] = test_pred\n",
        "\n",
        "  test_loss /= df_test.shape[0]\n",
        "  test_acc = accuracy_score(df_test['station'], df_test['predictions'])\n",
        "\n",
        "  print(f\"Test loss: {test_loss:3f}\")\n",
        "  print(f\"Test accuracy: {test_acc:.3f}\")\n",
        "\n",
        "  return test_loss, test_acc"
      ],
      "metadata": {
        "id": "HHXSNCPA0T27"
      },
      "execution_count": null,
      "outputs": []
    },
    {
      "cell_type": "markdown",
      "source": [
        "Train on one batch"
      ],
      "metadata": {
        "id": "OZ-v2Raz6smT"
      }
    },
    {
      "cell_type": "code",
      "source": [
        "def do_train(batch):\n",
        "  optimizer.zero_grad()\n",
        "  batch_img, batch_labels = batch[0].to(device), batch[1]\n",
        "  batch_txt = torch.stack([station_tokens[st] for st in batch_labels], dim=0).to(device)\n",
        "\n",
        "  # forward pass\n",
        "  logits_per_image, logits_per_text = model(batch_img, batch_txt)\n",
        "\n",
        "  # compute loss\n",
        "  ground_truth = torch.arange(len(batch_img), dtype=torch.long, device=device)\n",
        "  total_loss = (\n",
        "      loss_img(logits_per_image, ground_truth) + \\\n",
        "      loss_txt(logits_per_text, ground_truth)) / 2\n",
        "\n",
        "  # backward pass\n",
        "  total_loss.backward()\n",
        "  optimizer.step()\n",
        "  scheduler.step()\n",
        "\n",
        "  del batch_img, batch_labels, batch_txt, logits_per_image, logits_per_text, ground_truth\n",
        "\n",
        "  return total_loss.item()"
      ],
      "metadata": {
        "id": "klJL-NSY6smW"
      },
      "execution_count": null,
      "outputs": []
    },
    {
      "cell_type": "markdown",
      "source": [
        "Test on one batch"
      ],
      "metadata": {
        "id": "ok0N20m46smX"
      }
    },
    {
      "cell_type": "code",
      "source": [
        "def do_test(batch):\n",
        "  batch_img, batch_labels = batch[0].to(device), batch[1]\n",
        "  batch_txt = torch.stack([station_tokens[st] for st in batch_labels], dim=0).to(device)\n",
        "\n",
        "  with torch.no_grad():\n",
        "    # compute loss\n",
        "    logits_per_image, logits_per_text = model(batch_img, batch_txt)\n",
        "    ground_truth = torch.arange(len(batch_img), dtype=torch.long, device=device)\n",
        "    total_loss = (\n",
        "      loss_img(logits_per_image, ground_truth) + \\\n",
        "      loss_txt(logits_per_text, ground_truth)) / 2\n",
        "    # print(logits_per_image, ground_truth)\n",
        "\n",
        "    # get predictions\n",
        "    batch_txt = torch.stack(list(station_tokens.values()), dim=0).to(device)\n",
        "    logits_per_image, logits_per_text = model(batch_img, batch_txt)\n",
        "    station_probs = logits_per_image.softmax(dim=-1).cpu().numpy()\n",
        "    pred = [station_names[i] for i in np.argmax(station_probs, axis=1)]\n",
        "\n",
        "  del batch_img, batch_labels, batch_txt, logits_per_image, logits_per_text, ground_truth\n",
        "\n",
        "  return total_loss.item(), pred"
      ],
      "metadata": {
        "id": "jnbzBD_I6smY"
      },
      "execution_count": null,
      "outputs": []
    },
    {
      "cell_type": "markdown",
      "source": [
        "## Cross-val loop"
      ],
      "metadata": {
        "id": "I7krm5GD2k3T"
      }
    },
    {
      "cell_type": "markdown",
      "source": [
        "Set hyperparameters"
      ],
      "metadata": {
        "id": "AxrPBngZ2Nmm"
      }
    },
    {
      "cell_type": "code",
      "source": [
        "num_epochs = 10\n",
        "lr = 1e-5\n",
        "batch_size = 32 if device == 'cuda' else 16"
      ],
      "metadata": {
        "id": "_MKQ3pyj2NHB"
      },
      "execution_count": null,
      "outputs": []
    },
    {
      "cell_type": "markdown",
      "source": [
        "Define loss"
      ],
      "metadata": {
        "id": "m-WM7J_U2Zgf"
      }
    },
    {
      "cell_type": "code",
      "source": [
        "loss_img = CrossEntropyLoss()\n",
        "loss_txt = CrossEntropyLoss()"
      ],
      "metadata": {
        "id": "Z3NKOBwo2Zgf"
      },
      "execution_count": null,
      "outputs": []
    },
    {
      "cell_type": "markdown",
      "source": [
        "Tokenize text (before training starts for efficiency)"
      ],
      "metadata": {
        "id": "I6Ni0u9Z2Zgg"
      }
    },
    {
      "cell_type": "code",
      "source": [
        "station_text = [\n",
        "    f'A photo of the S-Bahn station \"Stuttgart {st}\".'\n",
        "    for st in station_names]\n",
        "station_tokens = {station_names[i]: clip.tokenize(station_text)[i] for i in range(len(station_names))}"
      ],
      "metadata": {
        "id": "W3V-lqzu2Zgg"
      },
      "execution_count": null,
      "outputs": []
    },
    {
      "cell_type": "markdown",
      "source": [
        "Cross-val loop"
      ],
      "metadata": {
        "id": "d28480JYyDjk"
      }
    },
    {
      "cell_type": "code",
      "source": [
        "for kf_i in range(n_splits):\n",
        "  print(f'Split #{kf_i}')\n",
        "\n",
        "  # load model\n",
        "  print('Load model...')\n",
        "  model, preprocess = clip.load('ViT-B/16', device=device, jit=False)\n",
        "  model.float();\n",
        "  print()\n",
        "\n",
        "  # prep data\n",
        "  df_train, train_dataloader, \\\n",
        "    df_val, val_dataloader, \\\n",
        "    df_test, test_dataloader = get_dataloaders(kf_i)\n",
        "\n",
        "  # set up optimizers\n",
        "  optimizer = AdamW(model.parameters(), lr=lr)\n",
        "  total_steps = len(train_dataloader) * num_epochs\n",
        "  scheduler = get_linear_schedule_with_warmup(optimizer,\n",
        "                                              num_warmup_steps = 0,\n",
        "                                              num_training_steps = total_steps)\n",
        "\n",
        "  # train\n",
        "  print('Train...')\n",
        "  train_loss_arr, val_loss_arr, val_acc_arr = do_training_loop(\n",
        "      df_train, train_dataloader, df_val, val_dataloader)\n",
        "  print()\n",
        "\n",
        "  # test\n",
        "  print('Test...')\n",
        "  test_loss, test_acc = do_test_loop(df_test, test_dataloader)\n",
        "  print()\n",
        "\n",
        "  # save train and test stats\n",
        "  with open('clip_cross_val.txt', 'a') as fout:\n",
        "    fout.write(f'Split #{kf_i}\\n')\n",
        "    fout.write('train_loss_arr: ' + ' '.join([str(v) for v in train_loss_arr]) + '\\n')\n",
        "    fout.write('val_loss_arr: ' + ' '.join([str(v) for v in val_loss_arr]) + '\\n')\n",
        "    fout.write('val_acc_arr: ' + ' '.join([str(v) for v in val_acc_arr]) + '\\n')\n",
        "    fout.write(f'test_loss: {test_loss}\\n')\n",
        "    fout.write(f'test_acc: {test_acc}\\n')\n",
        "    fout.write('\\n\\n')\n",
        "\n",
        "  print('\\n')"
      ],
      "metadata": {
        "id": "xkSCGP7dwXh0",
        "colab": {
          "base_uri": "https://localhost:8080/"
        },
        "outputId": "03a3736f-98df-4266-a4ac-62b1facb56db"
      },
      "execution_count": null,
      "outputs": [
        {
          "output_type": "stream",
          "name": "stdout",
          "text": [
            "Split #0\n",
            "Load model...\n",
            "\n",
            "Train...\n"
          ]
        },
        {
          "output_type": "stream",
          "name": "stderr",
          "text": [
            "100%|██████████| 4/4 [00:33<00:00,  8.45s/it]\n"
          ]
        },
        {
          "output_type": "stream",
          "name": "stdout",
          "text": [
            "Epoch 0: Train loss: 0.1232\n"
          ]
        },
        {
          "output_type": "stream",
          "name": "stderr",
          "text": [
            "100%|██████████| 1/1 [00:03<00:00,  3.93s/it]\n"
          ]
        },
        {
          "output_type": "stream",
          "name": "stdout",
          "text": [
            "Val loss: 0.1597, Acc: 0.471\n"
          ]
        },
        {
          "output_type": "stream",
          "name": "stderr",
          "text": [
            "100%|██████████| 4/4 [00:32<00:00,  8.23s/it]\n"
          ]
        },
        {
          "output_type": "stream",
          "name": "stdout",
          "text": [
            "Epoch 1: Train loss: 0.0989\n"
          ]
        },
        {
          "output_type": "stream",
          "name": "stderr",
          "text": [
            "100%|██████████| 1/1 [00:04<00:00,  4.97s/it]\n"
          ]
        },
        {
          "output_type": "stream",
          "name": "stdout",
          "text": [
            "Val loss: 0.1388, Acc: 0.647\n"
          ]
        },
        {
          "output_type": "stream",
          "name": "stderr",
          "text": [
            "100%|██████████| 4/4 [00:32<00:00,  8.24s/it]\n"
          ]
        },
        {
          "output_type": "stream",
          "name": "stdout",
          "text": [
            "Epoch 2: Train loss: 0.0893\n"
          ]
        },
        {
          "output_type": "stream",
          "name": "stderr",
          "text": [
            "100%|██████████| 1/1 [00:03<00:00,  3.72s/it]\n"
          ]
        },
        {
          "output_type": "stream",
          "name": "stdout",
          "text": [
            "Val loss: 0.1336, Acc: 0.529\n"
          ]
        },
        {
          "output_type": "stream",
          "name": "stderr",
          "text": [
            "100%|██████████| 4/4 [00:34<00:00,  8.53s/it]\n"
          ]
        },
        {
          "output_type": "stream",
          "name": "stdout",
          "text": [
            "Epoch 3: Train loss: 0.0813\n"
          ]
        },
        {
          "output_type": "stream",
          "name": "stderr",
          "text": [
            "100%|██████████| 1/1 [00:03<00:00,  3.66s/it]\n"
          ]
        },
        {
          "output_type": "stream",
          "name": "stdout",
          "text": [
            "Val loss: 0.1256, Acc: 0.765\n"
          ]
        },
        {
          "output_type": "stream",
          "name": "stderr",
          "text": [
            "100%|██████████| 4/4 [00:34<00:00,  8.65s/it]\n"
          ]
        },
        {
          "output_type": "stream",
          "name": "stdout",
          "text": [
            "Epoch 4: Train loss: 0.0757\n"
          ]
        },
        {
          "output_type": "stream",
          "name": "stderr",
          "text": [
            "100%|██████████| 1/1 [00:03<00:00,  3.62s/it]\n"
          ]
        },
        {
          "output_type": "stream",
          "name": "stdout",
          "text": [
            "Val loss: 0.1203, Acc: 0.765\n"
          ]
        },
        {
          "output_type": "stream",
          "name": "stderr",
          "text": [
            "100%|██████████| 4/4 [00:34<00:00,  8.55s/it]\n"
          ]
        },
        {
          "output_type": "stream",
          "name": "stdout",
          "text": [
            "Epoch 5: Train loss: 0.0723\n"
          ]
        },
        {
          "output_type": "stream",
          "name": "stderr",
          "text": [
            "100%|██████████| 1/1 [00:03<00:00,  3.62s/it]\n"
          ]
        },
        {
          "output_type": "stream",
          "name": "stdout",
          "text": [
            "Val loss: 0.1194, Acc: 0.824\n"
          ]
        },
        {
          "output_type": "stream",
          "name": "stderr",
          "text": [
            "100%|██████████| 4/4 [00:33<00:00,  8.33s/it]\n"
          ]
        },
        {
          "output_type": "stream",
          "name": "stdout",
          "text": [
            "Epoch 6: Train loss: 0.0711\n"
          ]
        },
        {
          "output_type": "stream",
          "name": "stderr",
          "text": [
            "100%|██████████| 1/1 [00:04<00:00,  4.25s/it]\n"
          ]
        },
        {
          "output_type": "stream",
          "name": "stdout",
          "text": [
            "Val loss: 0.1148, Acc: 0.882\n"
          ]
        },
        {
          "output_type": "stream",
          "name": "stderr",
          "text": [
            "100%|██████████| 4/4 [00:33<00:00,  8.43s/it]\n"
          ]
        },
        {
          "output_type": "stream",
          "name": "stdout",
          "text": [
            "Epoch 7: Train loss: 0.0701\n"
          ]
        },
        {
          "output_type": "stream",
          "name": "stderr",
          "text": [
            "100%|██████████| 1/1 [00:05<00:00,  5.00s/it]\n"
          ]
        },
        {
          "output_type": "stream",
          "name": "stdout",
          "text": [
            "Val loss: 0.1143, Acc: 0.824\n"
          ]
        },
        {
          "output_type": "stream",
          "name": "stderr",
          "text": [
            "100%|██████████| 4/4 [00:33<00:00,  8.37s/it]\n"
          ]
        },
        {
          "output_type": "stream",
          "name": "stdout",
          "text": [
            "Epoch 8: Train loss: 0.0698\n"
          ]
        },
        {
          "output_type": "stream",
          "name": "stderr",
          "text": [
            "100%|██████████| 1/1 [00:03<00:00,  3.92s/it]\n"
          ]
        },
        {
          "output_type": "stream",
          "name": "stdout",
          "text": [
            "Val loss: 0.1142, Acc: 0.882\n"
          ]
        },
        {
          "output_type": "stream",
          "name": "stderr",
          "text": [
            "100%|██████████| 4/4 [00:33<00:00,  8.34s/it]\n"
          ]
        },
        {
          "output_type": "stream",
          "name": "stdout",
          "text": [
            "Epoch 9: Train loss: 0.0697\n"
          ]
        },
        {
          "output_type": "stream",
          "name": "stderr",
          "text": [
            "100%|██████████| 1/1 [00:03<00:00,  3.68s/it]\n"
          ]
        },
        {
          "output_type": "stream",
          "name": "stdout",
          "text": [
            "Val loss: 0.1141, Acc: 0.824\n",
            "\n",
            "\n",
            "Test...\n"
          ]
        },
        {
          "output_type": "stream",
          "name": "stderr",
          "text": [
            "100%|██████████| 2/2 [00:09<00:00,  4.64s/it]\n"
          ]
        },
        {
          "output_type": "stream",
          "name": "stdout",
          "text": [
            "Test loss: 0.082046\n",
            "Test accuracy: 0.971\n",
            "\n",
            "\n",
            "\n",
            "Split #1\n",
            "Load model...\n",
            "\n",
            "Train...\n"
          ]
        },
        {
          "output_type": "stream",
          "name": "stderr",
          "text": [
            "100%|██████████| 4/4 [00:33<00:00,  8.32s/it]\n"
          ]
        },
        {
          "output_type": "stream",
          "name": "stdout",
          "text": [
            "Epoch 0: Train loss: 0.1272\n"
          ]
        },
        {
          "output_type": "stream",
          "name": "stderr",
          "text": [
            "100%|██████████| 1/1 [00:03<00:00,  3.91s/it]\n"
          ]
        },
        {
          "output_type": "stream",
          "name": "stdout",
          "text": [
            "Val loss: 0.1522, Acc: 0.706\n"
          ]
        },
        {
          "output_type": "stream",
          "name": "stderr",
          "text": [
            "100%|██████████| 4/4 [00:33<00:00,  8.33s/it]\n"
          ]
        },
        {
          "output_type": "stream",
          "name": "stdout",
          "text": [
            "Epoch 1: Train loss: 0.1007\n"
          ]
        },
        {
          "output_type": "stream",
          "name": "stderr",
          "text": [
            "100%|██████████| 1/1 [00:03<00:00,  3.99s/it]\n"
          ]
        },
        {
          "output_type": "stream",
          "name": "stdout",
          "text": [
            "Val loss: 0.1389, Acc: 0.706\n"
          ]
        },
        {
          "output_type": "stream",
          "name": "stderr",
          "text": [
            "100%|██████████| 4/4 [00:32<00:00,  8.09s/it]\n"
          ]
        },
        {
          "output_type": "stream",
          "name": "stdout",
          "text": [
            "Epoch 2: Train loss: 0.0877\n"
          ]
        },
        {
          "output_type": "stream",
          "name": "stderr",
          "text": [
            "100%|██████████| 1/1 [00:05<00:00,  5.15s/it]\n"
          ]
        },
        {
          "output_type": "stream",
          "name": "stdout",
          "text": [
            "Val loss: 0.1242, Acc: 0.765\n"
          ]
        },
        {
          "output_type": "stream",
          "name": "stderr",
          "text": [
            "100%|██████████| 4/4 [00:32<00:00,  8.09s/it]\n"
          ]
        },
        {
          "output_type": "stream",
          "name": "stdout",
          "text": [
            "Epoch 3: Train loss: 0.0804\n"
          ]
        },
        {
          "output_type": "stream",
          "name": "stderr",
          "text": [
            "100%|██████████| 1/1 [00:03<00:00,  3.83s/it]\n"
          ]
        },
        {
          "output_type": "stream",
          "name": "stdout",
          "text": [
            "Val loss: 0.1144, Acc: 0.941\n"
          ]
        },
        {
          "output_type": "stream",
          "name": "stderr",
          "text": [
            "100%|██████████| 4/4 [00:33<00:00,  8.38s/it]\n"
          ]
        },
        {
          "output_type": "stream",
          "name": "stdout",
          "text": [
            "Epoch 4: Train loss: 0.0742\n"
          ]
        },
        {
          "output_type": "stream",
          "name": "stderr",
          "text": [
            "100%|██████████| 1/1 [00:03<00:00,  3.87s/it]\n"
          ]
        },
        {
          "output_type": "stream",
          "name": "stdout",
          "text": [
            "Val loss: 0.1078, Acc: 0.882\n"
          ]
        },
        {
          "output_type": "stream",
          "name": "stderr",
          "text": [
            "100%|██████████| 4/4 [00:33<00:00,  8.38s/it]\n"
          ]
        },
        {
          "output_type": "stream",
          "name": "stdout",
          "text": [
            "Epoch 5: Train loss: 0.0717\n"
          ]
        },
        {
          "output_type": "stream",
          "name": "stderr",
          "text": [
            "100%|██████████| 1/1 [00:03<00:00,  3.84s/it]\n"
          ]
        },
        {
          "output_type": "stream",
          "name": "stdout",
          "text": [
            "Val loss: 0.1069, Acc: 0.941\n"
          ]
        },
        {
          "output_type": "stream",
          "name": "stderr",
          "text": [
            "100%|██████████| 4/4 [00:32<00:00,  8.08s/it]\n"
          ]
        },
        {
          "output_type": "stream",
          "name": "stdout",
          "text": [
            "Epoch 6: Train loss: 0.0700\n"
          ]
        },
        {
          "output_type": "stream",
          "name": "stderr",
          "text": [
            "100%|██████████| 1/1 [00:04<00:00,  4.73s/it]\n"
          ]
        },
        {
          "output_type": "stream",
          "name": "stdout",
          "text": [
            "Val loss: 0.1044, Acc: 0.941\n"
          ]
        },
        {
          "output_type": "stream",
          "name": "stderr",
          "text": [
            "100%|██████████| 4/4 [00:32<00:00,  8.16s/it]\n"
          ]
        },
        {
          "output_type": "stream",
          "name": "stdout",
          "text": [
            "Epoch 7: Train loss: 0.0694\n"
          ]
        },
        {
          "output_type": "stream",
          "name": "stderr",
          "text": [
            "100%|██████████| 1/1 [00:04<00:00,  4.84s/it]\n"
          ]
        },
        {
          "output_type": "stream",
          "name": "stdout",
          "text": [
            "Val loss: 0.1036, Acc: 0.941\n"
          ]
        },
        {
          "output_type": "stream",
          "name": "stderr",
          "text": [
            "100%|██████████| 4/4 [00:32<00:00,  8.05s/it]\n"
          ]
        },
        {
          "output_type": "stream",
          "name": "stdout",
          "text": [
            "Epoch 8: Train loss: 0.0692\n"
          ]
        },
        {
          "output_type": "stream",
          "name": "stderr",
          "text": [
            "100%|██████████| 1/1 [00:03<00:00,  3.84s/it]\n"
          ]
        },
        {
          "output_type": "stream",
          "name": "stdout",
          "text": [
            "Val loss: 0.1039, Acc: 0.941\n"
          ]
        },
        {
          "output_type": "stream",
          "name": "stderr",
          "text": [
            "100%|██████████| 4/4 [00:33<00:00,  8.40s/it]\n"
          ]
        },
        {
          "output_type": "stream",
          "name": "stdout",
          "text": [
            "Epoch 9: Train loss: 0.0691\n"
          ]
        },
        {
          "output_type": "stream",
          "name": "stderr",
          "text": [
            "100%|██████████| 1/1 [00:03<00:00,  3.82s/it]\n"
          ]
        },
        {
          "output_type": "stream",
          "name": "stdout",
          "text": [
            "Val loss: 0.1041, Acc: 0.941\n",
            "\n",
            "\n",
            "Test...\n"
          ]
        },
        {
          "output_type": "stream",
          "name": "stderr",
          "text": [
            "100%|██████████| 2/2 [00:10<00:00,  5.00s/it]\n"
          ]
        },
        {
          "output_type": "stream",
          "name": "stdout",
          "text": [
            "Test loss: 0.104194\n",
            "Test accuracy: 1.000\n",
            "\n",
            "\n",
            "\n",
            "Split #2\n",
            "Load model...\n",
            "\n",
            "Train...\n"
          ]
        },
        {
          "output_type": "stream",
          "name": "stderr",
          "text": [
            "100%|██████████| 4/4 [00:34<00:00,  8.69s/it]\n"
          ]
        },
        {
          "output_type": "stream",
          "name": "stdout",
          "text": [
            "Epoch 0: Train loss: 0.1201\n"
          ]
        },
        {
          "output_type": "stream",
          "name": "stderr",
          "text": [
            "100%|██████████| 1/1 [00:03<00:00,  3.58s/it]\n"
          ]
        },
        {
          "output_type": "stream",
          "name": "stdout",
          "text": [
            "Val loss: 0.1355, Acc: 0.588\n"
          ]
        },
        {
          "output_type": "stream",
          "name": "stderr",
          "text": [
            "100%|██████████| 4/4 [00:34<00:00,  8.69s/it]\n"
          ]
        },
        {
          "output_type": "stream",
          "name": "stdout",
          "text": [
            "Epoch 1: Train loss: 0.0971\n"
          ]
        },
        {
          "output_type": "stream",
          "name": "stderr",
          "text": [
            "100%|██████████| 1/1 [00:03<00:00,  3.55s/it]\n"
          ]
        },
        {
          "output_type": "stream",
          "name": "stdout",
          "text": [
            "Val loss: 0.1353, Acc: 0.706\n"
          ]
        },
        {
          "output_type": "stream",
          "name": "stderr",
          "text": [
            "100%|██████████| 4/4 [00:33<00:00,  8.37s/it]\n"
          ]
        },
        {
          "output_type": "stream",
          "name": "stdout",
          "text": [
            "Epoch 2: Train loss: 0.0864\n"
          ]
        },
        {
          "output_type": "stream",
          "name": "stderr",
          "text": [
            "100%|██████████| 1/1 [00:04<00:00,  4.71s/it]\n"
          ]
        },
        {
          "output_type": "stream",
          "name": "stdout",
          "text": [
            "Val loss: 0.1231, Acc: 0.882\n"
          ]
        },
        {
          "output_type": "stream",
          "name": "stderr",
          "text": [
            "100%|██████████| 4/4 [00:33<00:00,  8.34s/it]\n"
          ]
        },
        {
          "output_type": "stream",
          "name": "stdout",
          "text": [
            "Epoch 3: Train loss: 0.0776\n"
          ]
        },
        {
          "output_type": "stream",
          "name": "stderr",
          "text": [
            "100%|██████████| 1/1 [00:04<00:00,  4.77s/it]\n"
          ]
        },
        {
          "output_type": "stream",
          "name": "stdout",
          "text": [
            "Val loss: 0.1209, Acc: 0.824\n"
          ]
        },
        {
          "output_type": "stream",
          "name": "stderr",
          "text": [
            "100%|██████████| 4/4 [00:33<00:00,  8.33s/it]\n"
          ]
        },
        {
          "output_type": "stream",
          "name": "stdout",
          "text": [
            "Epoch 4: Train loss: 0.0729\n"
          ]
        },
        {
          "output_type": "stream",
          "name": "stderr",
          "text": [
            "100%|██████████| 1/1 [00:03<00:00,  3.78s/it]\n"
          ]
        },
        {
          "output_type": "stream",
          "name": "stdout",
          "text": [
            "Val loss: 0.1150, Acc: 0.941\n"
          ]
        },
        {
          "output_type": "stream",
          "name": "stderr",
          "text": [
            "100%|██████████| 4/4 [00:34<00:00,  8.57s/it]\n"
          ]
        },
        {
          "output_type": "stream",
          "name": "stdout",
          "text": [
            "Epoch 5: Train loss: 0.0703\n"
          ]
        },
        {
          "output_type": "stream",
          "name": "stderr",
          "text": [
            "100%|██████████| 1/1 [00:03<00:00,  3.53s/it]\n"
          ]
        },
        {
          "output_type": "stream",
          "name": "stdout",
          "text": [
            "Val loss: 0.1131, Acc: 0.882\n"
          ]
        },
        {
          "output_type": "stream",
          "name": "stderr",
          "text": [
            "100%|██████████| 4/4 [00:35<00:00,  8.78s/it]\n"
          ]
        },
        {
          "output_type": "stream",
          "name": "stdout",
          "text": [
            "Epoch 6: Train loss: 0.0691\n"
          ]
        },
        {
          "output_type": "stream",
          "name": "stderr",
          "text": [
            "100%|██████████| 1/1 [00:03<00:00,  3.53s/it]\n"
          ]
        },
        {
          "output_type": "stream",
          "name": "stdout",
          "text": [
            "Val loss: 0.1099, Acc: 0.941\n"
          ]
        },
        {
          "output_type": "stream",
          "name": "stderr",
          "text": [
            "100%|██████████| 4/4 [00:34<00:00,  8.67s/it]\n"
          ]
        },
        {
          "output_type": "stream",
          "name": "stdout",
          "text": [
            "Epoch 7: Train loss: 0.0685\n"
          ]
        },
        {
          "output_type": "stream",
          "name": "stderr",
          "text": [
            "100%|██████████| 1/1 [00:03<00:00,  3.56s/it]\n"
          ]
        },
        {
          "output_type": "stream",
          "name": "stdout",
          "text": [
            "Val loss: 0.1080, Acc: 0.941\n"
          ]
        },
        {
          "output_type": "stream",
          "name": "stderr",
          "text": [
            "100%|██████████| 4/4 [00:34<00:00,  8.69s/it]\n"
          ]
        },
        {
          "output_type": "stream",
          "name": "stdout",
          "text": [
            "Epoch 8: Train loss: 0.0682\n"
          ]
        },
        {
          "output_type": "stream",
          "name": "stderr",
          "text": [
            "100%|██████████| 1/1 [00:03<00:00,  3.59s/it]\n"
          ]
        },
        {
          "output_type": "stream",
          "name": "stdout",
          "text": [
            "Val loss: 0.1068, Acc: 0.941\n"
          ]
        },
        {
          "output_type": "stream",
          "name": "stderr",
          "text": [
            "100%|██████████| 4/4 [00:33<00:00,  8.32s/it]\n"
          ]
        },
        {
          "output_type": "stream",
          "name": "stdout",
          "text": [
            "Epoch 9: Train loss: 0.0680\n"
          ]
        },
        {
          "output_type": "stream",
          "name": "stderr",
          "text": [
            "100%|██████████| 1/1 [00:04<00:00,  4.72s/it]\n"
          ]
        },
        {
          "output_type": "stream",
          "name": "stdout",
          "text": [
            "Val loss: 0.1064, Acc: 0.941\n",
            "\n",
            "\n",
            "Test...\n"
          ]
        },
        {
          "output_type": "stream",
          "name": "stderr",
          "text": [
            "100%|██████████| 2/2 [00:07<00:00,  3.83s/it]\n"
          ]
        },
        {
          "output_type": "stream",
          "name": "stdout",
          "text": [
            "Test loss: 0.083168\n",
            "Test accuracy: 0.971\n",
            "\n",
            "\n",
            "\n",
            "Split #3\n",
            "Load model...\n",
            "\n",
            "Train...\n"
          ]
        },
        {
          "output_type": "stream",
          "name": "stderr",
          "text": [
            "100%|██████████| 4/4 [00:32<00:00,  8.14s/it]\n"
          ]
        },
        {
          "output_type": "stream",
          "name": "stdout",
          "text": [
            "Epoch 0: Train loss: 0.1158\n"
          ]
        },
        {
          "output_type": "stream",
          "name": "stderr",
          "text": [
            "100%|██████████| 1/1 [00:03<00:00,  3.47s/it]\n"
          ]
        },
        {
          "output_type": "stream",
          "name": "stdout",
          "text": [
            "Val loss: 0.1580, Acc: 0.824\n"
          ]
        },
        {
          "output_type": "stream",
          "name": "stderr",
          "text": [
            "100%|██████████| 4/4 [00:34<00:00,  8.60s/it]\n"
          ]
        },
        {
          "output_type": "stream",
          "name": "stdout",
          "text": [
            "Epoch 1: Train loss: 0.0962\n"
          ]
        },
        {
          "output_type": "stream",
          "name": "stderr",
          "text": [
            "100%|██████████| 1/1 [00:03<00:00,  3.45s/it]\n"
          ]
        },
        {
          "output_type": "stream",
          "name": "stdout",
          "text": [
            "Val loss: 0.1351, Acc: 0.706\n"
          ]
        },
        {
          "output_type": "stream",
          "name": "stderr",
          "text": [
            "100%|██████████| 4/4 [00:33<00:00,  8.48s/it]\n"
          ]
        },
        {
          "output_type": "stream",
          "name": "stdout",
          "text": [
            "Epoch 2: Train loss: 0.0848\n"
          ]
        },
        {
          "output_type": "stream",
          "name": "stderr",
          "text": [
            "100%|██████████| 1/1 [00:03<00:00,  3.45s/it]\n"
          ]
        },
        {
          "output_type": "stream",
          "name": "stdout",
          "text": [
            "Val loss: 0.1254, Acc: 0.706\n"
          ]
        },
        {
          "output_type": "stream",
          "name": "stderr",
          "text": [
            "100%|██████████| 4/4 [00:33<00:00,  8.42s/it]\n"
          ]
        },
        {
          "output_type": "stream",
          "name": "stdout",
          "text": [
            "Epoch 3: Train loss: 0.0782\n"
          ]
        },
        {
          "output_type": "stream",
          "name": "stderr",
          "text": [
            "100%|██████████| 1/1 [00:03<00:00,  3.77s/it]\n"
          ]
        },
        {
          "output_type": "stream",
          "name": "stdout",
          "text": [
            "Val loss: 0.1211, Acc: 0.765\n"
          ]
        },
        {
          "output_type": "stream",
          "name": "stderr",
          "text": [
            "100%|██████████| 4/4 [00:32<00:00,  8.19s/it]\n"
          ]
        },
        {
          "output_type": "stream",
          "name": "stdout",
          "text": [
            "Epoch 4: Train loss: 0.0732\n"
          ]
        },
        {
          "output_type": "stream",
          "name": "stderr",
          "text": [
            "100%|██████████| 1/1 [00:04<00:00,  4.82s/it]\n"
          ]
        },
        {
          "output_type": "stream",
          "name": "stdout",
          "text": [
            "Val loss: 0.1199, Acc: 0.765\n"
          ]
        },
        {
          "output_type": "stream",
          "name": "stderr",
          "text": [
            "100%|██████████| 4/4 [00:32<00:00,  8.14s/it]\n"
          ]
        },
        {
          "output_type": "stream",
          "name": "stdout",
          "text": [
            "Epoch 5: Train loss: 0.0710\n"
          ]
        },
        {
          "output_type": "stream",
          "name": "stderr",
          "text": [
            "100%|██████████| 1/1 [00:03<00:00,  3.51s/it]\n"
          ]
        },
        {
          "output_type": "stream",
          "name": "stdout",
          "text": [
            "Val loss: 0.1190, Acc: 0.882\n"
          ]
        },
        {
          "output_type": "stream",
          "name": "stderr",
          "text": [
            "100%|██████████| 4/4 [00:34<00:00,  8.60s/it]\n"
          ]
        },
        {
          "output_type": "stream",
          "name": "stdout",
          "text": [
            "Epoch 6: Train loss: 0.0699\n"
          ]
        },
        {
          "output_type": "stream",
          "name": "stderr",
          "text": [
            "100%|██████████| 1/1 [00:03<00:00,  3.45s/it]\n"
          ]
        },
        {
          "output_type": "stream",
          "name": "stdout",
          "text": [
            "Val loss: 0.1184, Acc: 0.882\n"
          ]
        },
        {
          "output_type": "stream",
          "name": "stderr",
          "text": [
            "100%|██████████| 4/4 [00:33<00:00,  8.48s/it]\n"
          ]
        },
        {
          "output_type": "stream",
          "name": "stdout",
          "text": [
            "Epoch 7: Train loss: 0.0690\n"
          ]
        },
        {
          "output_type": "stream",
          "name": "stderr",
          "text": [
            "100%|██████████| 1/1 [00:03<00:00,  3.45s/it]\n"
          ]
        },
        {
          "output_type": "stream",
          "name": "stdout",
          "text": [
            "Val loss: 0.1170, Acc: 0.882\n"
          ]
        },
        {
          "output_type": "stream",
          "name": "stderr",
          "text": [
            "100%|██████████| 4/4 [00:33<00:00,  8.30s/it]\n"
          ]
        },
        {
          "output_type": "stream",
          "name": "stdout",
          "text": [
            "Epoch 8: Train loss: 0.0687\n"
          ]
        },
        {
          "output_type": "stream",
          "name": "stderr",
          "text": [
            "100%|██████████| 1/1 [00:04<00:00,  4.05s/it]\n"
          ]
        },
        {
          "output_type": "stream",
          "name": "stdout",
          "text": [
            "Val loss: 0.1169, Acc: 0.882\n"
          ]
        },
        {
          "output_type": "stream",
          "name": "stderr",
          "text": [
            "100%|██████████| 4/4 [00:32<00:00,  8.24s/it]\n"
          ]
        },
        {
          "output_type": "stream",
          "name": "stdout",
          "text": [
            "Epoch 9: Train loss: 0.0686\n"
          ]
        },
        {
          "output_type": "stream",
          "name": "stderr",
          "text": [
            "100%|██████████| 1/1 [00:04<00:00,  4.66s/it]\n"
          ]
        },
        {
          "output_type": "stream",
          "name": "stdout",
          "text": [
            "Val loss: 0.1170, Acc: 0.882\n",
            "\n",
            "\n",
            "Test...\n"
          ]
        },
        {
          "output_type": "stream",
          "name": "stderr",
          "text": [
            "100%|██████████| 2/2 [00:08<00:00,  4.13s/it]\n"
          ]
        },
        {
          "output_type": "stream",
          "name": "stdout",
          "text": [
            "Test loss: 0.104944\n",
            "Test accuracy: 0.824\n",
            "\n",
            "\n",
            "\n",
            "Split #4\n",
            "Load model...\n",
            "\n",
            "Train...\n"
          ]
        },
        {
          "output_type": "stream",
          "name": "stderr",
          "text": [
            "100%|██████████| 4/4 [00:33<00:00,  8.41s/it]\n"
          ]
        },
        {
          "output_type": "stream",
          "name": "stdout",
          "text": [
            "Epoch 0: Train loss: 0.1219\n"
          ]
        },
        {
          "output_type": "stream",
          "name": "stderr",
          "text": [
            "100%|██████████| 1/1 [00:04<00:00,  4.15s/it]\n"
          ]
        },
        {
          "output_type": "stream",
          "name": "stdout",
          "text": [
            "Val loss: 0.1452, Acc: 0.706\n"
          ]
        },
        {
          "output_type": "stream",
          "name": "stderr",
          "text": [
            "100%|██████████| 4/4 [00:33<00:00,  8.34s/it]\n"
          ]
        },
        {
          "output_type": "stream",
          "name": "stdout",
          "text": [
            "Epoch 1: Train loss: 0.0967\n"
          ]
        },
        {
          "output_type": "stream",
          "name": "stderr",
          "text": [
            "100%|██████████| 1/1 [00:03<00:00,  3.68s/it]\n"
          ]
        },
        {
          "output_type": "stream",
          "name": "stdout",
          "text": [
            "Val loss: 0.1242, Acc: 0.824\n"
          ]
        },
        {
          "output_type": "stream",
          "name": "stderr",
          "text": [
            "100%|██████████| 4/4 [00:34<00:00,  8.72s/it]\n"
          ]
        },
        {
          "output_type": "stream",
          "name": "stdout",
          "text": [
            "Epoch 2: Train loss: 0.0850\n"
          ]
        },
        {
          "output_type": "stream",
          "name": "stderr",
          "text": [
            "100%|██████████| 1/1 [00:03<00:00,  3.68s/it]\n"
          ]
        },
        {
          "output_type": "stream",
          "name": "stdout",
          "text": [
            "Val loss: 0.1119, Acc: 0.824\n"
          ]
        },
        {
          "output_type": "stream",
          "name": "stderr",
          "text": [
            "100%|██████████| 4/4 [00:34<00:00,  8.55s/it]\n"
          ]
        },
        {
          "output_type": "stream",
          "name": "stdout",
          "text": [
            "Epoch 3: Train loss: 0.0761\n"
          ]
        },
        {
          "output_type": "stream",
          "name": "stderr",
          "text": [
            "100%|██████████| 1/1 [00:03<00:00,  3.65s/it]\n"
          ]
        },
        {
          "output_type": "stream",
          "name": "stdout",
          "text": [
            "Val loss: 0.1037, Acc: 0.941\n"
          ]
        },
        {
          "output_type": "stream",
          "name": "stderr",
          "text": [
            "100%|██████████| 4/4 [00:33<00:00,  8.47s/it]\n"
          ]
        },
        {
          "output_type": "stream",
          "name": "stdout",
          "text": [
            "Epoch 4: Train loss: 0.0715\n"
          ]
        },
        {
          "output_type": "stream",
          "name": "stderr",
          "text": [
            "100%|██████████| 1/1 [00:03<00:00,  3.81s/it]\n"
          ]
        },
        {
          "output_type": "stream",
          "name": "stdout",
          "text": [
            "Val loss: 0.1036, Acc: 0.882\n"
          ]
        },
        {
          "output_type": "stream",
          "name": "stderr",
          "text": [
            "100%|██████████| 4/4 [00:33<00:00,  8.30s/it]\n"
          ]
        },
        {
          "output_type": "stream",
          "name": "stdout",
          "text": [
            "Epoch 5: Train loss: 0.0693\n"
          ]
        },
        {
          "output_type": "stream",
          "name": "stderr",
          "text": [
            "100%|██████████| 1/1 [00:05<00:00,  5.05s/it]\n"
          ]
        },
        {
          "output_type": "stream",
          "name": "stdout",
          "text": [
            "Val loss: 0.1003, Acc: 1.000\n"
          ]
        },
        {
          "output_type": "stream",
          "name": "stderr",
          "text": [
            "100%|██████████| 4/4 [00:33<00:00,  8.38s/it]\n"
          ]
        },
        {
          "output_type": "stream",
          "name": "stdout",
          "text": [
            "Epoch 6: Train loss: 0.0685\n"
          ]
        },
        {
          "output_type": "stream",
          "name": "stderr",
          "text": [
            "100%|██████████| 1/1 [00:04<00:00,  4.51s/it]\n"
          ]
        },
        {
          "output_type": "stream",
          "name": "stdout",
          "text": [
            "Val loss: 0.1002, Acc: 1.000\n"
          ]
        },
        {
          "output_type": "stream",
          "name": "stderr",
          "text": [
            "100%|██████████| 4/4 [00:33<00:00,  8.31s/it]\n"
          ]
        },
        {
          "output_type": "stream",
          "name": "stdout",
          "text": [
            "Epoch 7: Train loss: 0.0680\n"
          ]
        },
        {
          "output_type": "stream",
          "name": "stderr",
          "text": [
            "100%|██████████| 1/1 [00:03<00:00,  3.63s/it]\n"
          ]
        },
        {
          "output_type": "stream",
          "name": "stdout",
          "text": [
            "Val loss: 0.1009, Acc: 0.941\n"
          ]
        },
        {
          "output_type": "stream",
          "name": "stderr",
          "text": [
            "100%|██████████| 4/4 [00:35<00:00,  8.81s/it]\n"
          ]
        },
        {
          "output_type": "stream",
          "name": "stdout",
          "text": [
            "Epoch 8: Train loss: 0.0678\n"
          ]
        },
        {
          "output_type": "stream",
          "name": "stderr",
          "text": [
            "100%|██████████| 1/1 [00:03<00:00,  3.66s/it]\n"
          ]
        },
        {
          "output_type": "stream",
          "name": "stdout",
          "text": [
            "Val loss: 0.1010, Acc: 0.941\n"
          ]
        },
        {
          "output_type": "stream",
          "name": "stderr",
          "text": [
            "100%|██████████| 4/4 [00:34<00:00,  8.69s/it]\n"
          ]
        },
        {
          "output_type": "stream",
          "name": "stdout",
          "text": [
            "Epoch 9: Train loss: 0.0677\n"
          ]
        },
        {
          "output_type": "stream",
          "name": "stderr",
          "text": [
            "100%|██████████| 1/1 [00:03<00:00,  3.70s/it]\n"
          ]
        },
        {
          "output_type": "stream",
          "name": "stdout",
          "text": [
            "Val loss: 0.1009, Acc: 0.941\n",
            "\n",
            "\n",
            "Test...\n"
          ]
        },
        {
          "output_type": "stream",
          "name": "stderr",
          "text": [
            "100%|██████████| 2/2 [00:09<00:00,  4.59s/it]"
          ]
        },
        {
          "output_type": "stream",
          "name": "stdout",
          "text": [
            "Test loss: 0.094503\n",
            "Test accuracy: 0.971\n",
            "\n",
            "\n",
            "\n"
          ]
        },
        {
          "output_type": "stream",
          "name": "stderr",
          "text": [
            "\n"
          ]
        }
      ]
    },
    {
      "cell_type": "markdown",
      "source": [
        "Average accuracy"
      ],
      "metadata": {
        "id": "LMmzlq06K7ep"
      }
    },
    {
      "cell_type": "code",
      "source": [
        "# 8 epochs\n",
        "(0.971 + 0.943 + 0.971 + 0.882 + 0.971) / 5"
      ],
      "metadata": {
        "colab": {
          "base_uri": "https://localhost:8080/"
        },
        "id": "XWmq_X_lKtrH",
        "outputId": "9d5ae3c8-9fd9-4d7f-8f55-217af5bd561f"
      },
      "execution_count": null,
      "outputs": [
        {
          "output_type": "execute_result",
          "data": {
            "text/plain": [
              "0.9475999999999999"
            ]
          },
          "metadata": {},
          "execution_count": 55
        }
      ]
    },
    {
      "cell_type": "code",
      "source": [
        "# 10 epochs\n",
        "(0.971 + 1 + 0.971 + 0.824 + 0.971) / 5"
      ],
      "metadata": {
        "colab": {
          "base_uri": "https://localhost:8080/"
        },
        "id": "fVy0kyd0TSDs",
        "outputId": "d499f5b4-45c3-4be6-c627-c3c08367f081"
      },
      "execution_count": null,
      "outputs": [
        {
          "output_type": "execute_result",
          "data": {
            "text/plain": [
              "0.9474"
            ]
          },
          "metadata": {},
          "execution_count": 58
        }
      ]
    },
    {
      "cell_type": "markdown",
      "source": [
        "# Attention maps"
      ],
      "metadata": {
        "id": "FYE6oWRiFyQH"
      }
    },
    {
      "cell_type": "code",
      "source": [
        "item = next(iter(test_dataset))\n",
        "image = torch.Tensor(item[0]['pixel_values'][0])\n",
        "text = item[1]\n",
        "inputs = processor(text=text, return_tensors=\"pt\", padding=True).to(device)\n",
        "inputs['pixel_values'] = image.unsqueeze(0)\n",
        "print(inputs['input_ids'].shape, inputs['attention_mask'].shape, inputs['pixel_values'].shape)"
      ],
      "metadata": {
        "colab": {
          "base_uri": "https://localhost:8080/"
        },
        "id": "Er8TOCm8F_k4",
        "outputId": "fa73800a-409f-4819-d84d-c443475ec1ad"
      },
      "execution_count": null,
      "outputs": [
        {
          "output_type": "stream",
          "name": "stdout",
          "text": [
            "torch.Size([1, 14]) torch.Size([1, 14]) torch.Size([1, 3, 224, 224])\n"
          ]
        }
      ]
    },
    {
      "cell_type": "code",
      "source": [
        "with torch.no_grad():\n",
        "  outputs = model(input_ids=inputs['input_ids'],\n",
        "                  attention_mask=inputs['attention_mask'],\n",
        "                  pixel_values=inputs['pixel_values'],\n",
        "                  output_attentions=True)\n",
        "image_attentions = outputs.vision_model_output.attentions"
      ],
      "metadata": {
        "id": "6X3AKR4iGFlu"
      },
      "execution_count": null,
      "outputs": []
    },
    {
      "cell_type": "code",
      "source": [
        "image_attentions[0].shape, image_attentions[1].shape"
      ],
      "metadata": {
        "colab": {
          "base_uri": "https://localhost:8080/"
        },
        "id": "TLH_WwKeHVg4",
        "outputId": "a442ef3b-d97b-4f1a-adfe-e4e0eab32d36"
      },
      "execution_count": null,
      "outputs": [
        {
          "output_type": "execute_result",
          "data": {
            "text/plain": [
              "(torch.Size([1, 12, 197, 197]), torch.Size([1, 12, 197, 197]))"
            ]
          },
          "metadata": {},
          "execution_count": 42
        }
      ]
    },
    {
      "cell_type": "code",
      "source": [
        "Image.open(image)"
      ],
      "metadata": {
        "colab": {
          "base_uri": "https://localhost:8080/",
          "height": 416
        },
        "id": "lZcRb7V-nuOO",
        "outputId": "479edfb7-524c-490c-c300-319d7f5af028"
      },
      "execution_count": null,
      "outputs": [
        {
          "output_type": "error",
          "ename": "AttributeError",
          "evalue": "'Tensor' object has no attribute 'read'",
          "traceback": [
            "\u001b[0;31m---------------------------------------------------------------------------\u001b[0m",
            "\u001b[0;31mAttributeError\u001b[0m                            Traceback (most recent call last)",
            "\u001b[0;32m/usr/local/lib/python3.11/dist-packages/PIL/Image.py\u001b[0m in \u001b[0;36mopen\u001b[0;34m(fp, mode, formats)\u001b[0m\n\u001b[1;32m   3510\u001b[0m     \u001b[0;32mtry\u001b[0m\u001b[0;34m:\u001b[0m\u001b[0;34m\u001b[0m\u001b[0;34m\u001b[0m\u001b[0m\n\u001b[0;32m-> 3511\u001b[0;31m         \u001b[0mfp\u001b[0m\u001b[0;34m.\u001b[0m\u001b[0mseek\u001b[0m\u001b[0;34m(\u001b[0m\u001b[0;36m0\u001b[0m\u001b[0;34m)\u001b[0m\u001b[0;34m\u001b[0m\u001b[0;34m\u001b[0m\u001b[0m\n\u001b[0m\u001b[1;32m   3512\u001b[0m     \u001b[0;32mexcept\u001b[0m \u001b[0;34m(\u001b[0m\u001b[0mAttributeError\u001b[0m\u001b[0;34m,\u001b[0m \u001b[0mio\u001b[0m\u001b[0;34m.\u001b[0m\u001b[0mUnsupportedOperation\u001b[0m\u001b[0;34m)\u001b[0m\u001b[0;34m:\u001b[0m\u001b[0;34m\u001b[0m\u001b[0;34m\u001b[0m\u001b[0m\n",
            "\u001b[0;31mAttributeError\u001b[0m: 'Tensor' object has no attribute 'seek'",
            "\nDuring handling of the above exception, another exception occurred:\n",
            "\u001b[0;31mAttributeError\u001b[0m                            Traceback (most recent call last)",
            "\u001b[0;32m/tmp/ipython-input-49-4235843692.py\u001b[0m in \u001b[0;36m<cell line: 0>\u001b[0;34m()\u001b[0m\n\u001b[0;32m----> 1\u001b[0;31m \u001b[0mImage\u001b[0m\u001b[0;34m.\u001b[0m\u001b[0mopen\u001b[0m\u001b[0;34m(\u001b[0m\u001b[0mimage\u001b[0m\u001b[0;34m)\u001b[0m\u001b[0;34m\u001b[0m\u001b[0;34m\u001b[0m\u001b[0m\n\u001b[0m",
            "\u001b[0;32m/usr/local/lib/python3.11/dist-packages/PIL/Image.py\u001b[0m in \u001b[0;36mopen\u001b[0;34m(fp, mode, formats)\u001b[0m\n\u001b[1;32m   3511\u001b[0m         \u001b[0mfp\u001b[0m\u001b[0;34m.\u001b[0m\u001b[0mseek\u001b[0m\u001b[0;34m(\u001b[0m\u001b[0;36m0\u001b[0m\u001b[0;34m)\u001b[0m\u001b[0;34m\u001b[0m\u001b[0;34m\u001b[0m\u001b[0m\n\u001b[1;32m   3512\u001b[0m     \u001b[0;32mexcept\u001b[0m \u001b[0;34m(\u001b[0m\u001b[0mAttributeError\u001b[0m\u001b[0;34m,\u001b[0m \u001b[0mio\u001b[0m\u001b[0;34m.\u001b[0m\u001b[0mUnsupportedOperation\u001b[0m\u001b[0;34m)\u001b[0m\u001b[0;34m:\u001b[0m\u001b[0;34m\u001b[0m\u001b[0;34m\u001b[0m\u001b[0m\n\u001b[0;32m-> 3513\u001b[0;31m         \u001b[0mfp\u001b[0m \u001b[0;34m=\u001b[0m \u001b[0mio\u001b[0m\u001b[0;34m.\u001b[0m\u001b[0mBytesIO\u001b[0m\u001b[0;34m(\u001b[0m\u001b[0mfp\u001b[0m\u001b[0;34m.\u001b[0m\u001b[0mread\u001b[0m\u001b[0;34m(\u001b[0m\u001b[0;34m)\u001b[0m\u001b[0;34m)\u001b[0m\u001b[0;34m\u001b[0m\u001b[0;34m\u001b[0m\u001b[0m\n\u001b[0m\u001b[1;32m   3514\u001b[0m         \u001b[0mexclusive_fp\u001b[0m \u001b[0;34m=\u001b[0m \u001b[0;32mTrue\u001b[0m\u001b[0;34m\u001b[0m\u001b[0;34m\u001b[0m\u001b[0m\n\u001b[1;32m   3515\u001b[0m \u001b[0;34m\u001b[0m\u001b[0m\n",
            "\u001b[0;31mAttributeError\u001b[0m: 'Tensor' object has no attribute 'read'"
          ]
        }
      ]
    },
    {
      "cell_type": "code",
      "source": [
        "fig = plt.figure(figsize=[10, 5], frameon=False)\n",
        "ax = fig.add_subplot(1, 2, 1)\n",
        "ax.axis(\"off\")\n",
        "ax.imshow(image.permute(1, 2, 0))\n",
        "ax = fig.add_subplot(1, 2, 2)\n",
        "ax.axis(\"off\")\n",
        "ax.imshow(image_attentions[0][0][0])  # check why this reshape\n",
        "fig.subplots_adjust(hspace=0, wspace=0)"
      ],
      "metadata": {
        "colab": {
          "base_uri": "https://localhost:8080/",
          "height": 460
        },
        "id": "uDeibpN7HRqQ",
        "outputId": "583ee2c9-6794-4e51-a8d7-19e1939b8a2f"
      },
      "execution_count": null,
      "outputs": [
        {
          "output_type": "stream",
          "name": "stderr",
          "text": [
            "WARNING:matplotlib.image:Clipping input data to the valid range for imshow with RGB data ([0..1] for floats or [0..255] for integers). Got range [-1.7922626..2.145897].\n"
          ]
        },
        {
          "output_type": "display_data",
          "data": {
            "text/plain": [
              "<Figure size 1000x500 with 2 Axes>"
            ],
            "image/png": "[encoded data removed]"
          },
          "metadata": {}
        }
      ]
    }
  ]
}